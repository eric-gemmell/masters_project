{
 "cells": [
  {
   "cell_type": "code",
   "execution_count": 1,
   "id": "d35bd903",
   "metadata": {},
   "outputs": [],
   "source": [
    "import Bio as bio\n",
    "from Bio import SeqIO\n",
    "from Bio.Blast.Applications import NcbiblastpCommandline as BlastP\n",
    "from Bio.Blast import NCBIWWW \n",
    "from Bio.Blast import NCBIXML\n",
    "from Bio import SearchIO\n",
    "from Bio.SeqRecord import SeqRecord\n",
    "from Bio.Seq import Seq\n",
    "from Bio import pairwise2\n",
    "from Bio.pairwise2 import format_alignment"
   ]
  },
  {
   "cell_type": "code",
   "execution_count": 108,
   "id": "c66a2e1e",
   "metadata": {},
   "outputs": [],
   "source": [
    "bot_amidine_fasta = SeqIO.read(\"Sequences/Amidine/Bottromycin/Fasta.fa\",\"fasta\")"
   ]
  },
  {
   "cell_type": "code",
   "execution_count": 111,
   "id": "5e161020",
   "metadata": {
    "scrolled": false
   },
   "outputs": [],
   "source": [
    "result_handle = NCBIWWW.qblast(\"blastp\", \"nr\", bot_amidine_fasta.seq, hitlist_size = 1000) "
   ]
  },
  {
   "cell_type": "code",
   "execution_count": 113,
   "id": "4a8049f9",
   "metadata": {},
   "outputs": [],
   "source": [
    "with open(\"blast_result.xml\", \"w+\") as file:\n",
    "    file.write(result_handle.read())\n",
    "    result_handle.close()"
   ]
  },
  {
   "cell_type": "code",
   "execution_count": 114,
   "id": "7c2e0e6b",
   "metadata": {
    "scrolled": true
   },
   "outputs": [],
   "source": [
    "result_handle = open(\"blast_result.xml\", \"r\")\n",
    "blast_records = NCBIXML.read(result_handle)\n",
    "\n",
    "E_threshold = 0.001\n",
    "ct = 0\n",
    "for alignment in blast_records.alignments:\n",
    "    for hsp in alignment.hsps:\n",
    "        ++ct\n",
    "        #if hsp.expect < E_threshold:\n",
    "            #print(\"\\n\")\n",
    "            #print(\"sequence: {}\".format(alignment.title[:100]))\n"
   ]
  },
  {
   "cell_type": "code",
   "execution_count": 123,
   "id": "003134c1",
   "metadata": {},
   "outputs": [
    {
     "name": "stdout",
     "output_type": "stream",
     "text": [
      "Sequence and sequence ID used in the blast search: AFV25483.1 MRLTDAEGALCSRSSGKGLGHRSMASALFESAEHYHLDWRRDPRASEAEFLPGREIAGQDTARRSALLRRLGGIMPDAPVLTRTYRPVEETLTGRADHGPAGRPHRHPVFLRDGGYRNWPHPDDDRSFQPLWHYTSSAGYAAGATVHEALVHAVNELIERDAWSYQLARSYFGLPGEGPELRVVDHDTLPAELRELTGTVEEVREAPVLIVDITCDTGVPAYVVCDARSREEVRLIGSGASPVRTYALQRALLEYLQVRTMFEHGPVDADTEAGQIATALARYPRHLAAARFDVGQLPHERRAFDADDGLPAAASPEQLLRHLVDRLRDLGVDVHHRVLTPPGSVTVVDVVAPGLEMFDKARAGYPVLPTGRLGERLRPRKDHERGHGVDHGKDRGGAPR\n",
      "\n",
      "Number of sequences from online Blast Search: 1000\n",
      "seq ID: RDJ12630.1 True\n",
      "seq ID: WP_083186407.1 False\n",
      "seq ID: WP_157063298.1 False\n",
      "seq ID: WP_260006532.1 False\n",
      "seq ID: RZN33543.1 False\n",
      "seq ID: MBT8998357.1 True\n",
      "seq ID: WP_209673731.1 True\n",
      "seq ID: MBT8800828.1 True\n",
      "seq ID: WP_259696898.1 True\n",
      "seq ID: WP_187519240.1 False\n",
      "seq ID: MCK9318291.1 False\n",
      "seq ID: MBT8921924.1 True\n",
      "seq ID: AKU15595.1 False\n",
      "seq ID: MBI4612747.1 False\n",
      "seq ID: OPX76333.1 True\n",
      "seq ID: MCC2662662.1 True\n",
      "seq ID: WP_080266151.1 False\n",
      "seq ID: WP_048185145.1 False\n",
      "seq ID: MCL2509662.1 True\n",
      "seq ID: WP_250987061.1 False\n",
      "seq ID: WP_024091768.1 False\n",
      "seq ID: WP_004077297.1 True\n",
      "seq ID: WP_256594286.1 True\n",
      "seq ID: WP_129369395.1 False\n",
      "seq ID: KQC04634.1 True\n",
      "seq ID: WP_256579750.1 False\n",
      "seq ID: OLC01680.1 True\n",
      "seq ID: PKL56053.1 False\n",
      "seq ID: MCL2032069.1 True\n",
      "seq ID: WP_212628132.1 True\n",
      "seq ID: EUA90081.1 True\n",
      "seq ID: WP_165167022.1 True\n",
      "seq ID: MCL1810736.1 True\n",
      "seq ID: WP_109106876.1 False\n",
      "seq ID: WP_111264782.1 False\n",
      "seq ID: HDS45067.1 False\n",
      "seq ID: OPG68701.1 True\n",
      "seq ID: WP_256344185.1 False\n",
      "seq ID: MCQ8903229.1 False\n",
      "seq ID: WP_067073597.1 False\n",
      "seq ID: WP_235399587.1 True\n",
      "seq ID: WP_230147383.1 False\n",
      "seq ID: WP_225919101.1 True\n",
      "seq ID: MCC6013281.1 False\n",
      "seq ID: WP_245928939.1 True\n",
      "seq ID: WP_205296669.1 False\n",
      "seq ID: MCP4470852.1 True\n",
      "seq ID: WP_256573474.1 True\n",
      "seq ID: MCQ2355663.1 True\n",
      "seq ID: MBB6171620.1 True\n",
      "seq ID: WP_246422029.1 True\n",
      "seq ID: MCQ8894457.1 True\n",
      "seq ID: WP_189892486.1 False\n",
      "seq ID: MCE5339137.1 False\n",
      "seq ID: WP_221056463.1 False\n",
      "seq ID: WP_010395498.1 True\n",
      "seq ID: BBP71451.1 False\n",
      "seq ID: RVJ73225.1 True\n",
      "seq ID: WP_256326512.1 True\n",
      "seq ID: NMC10791.1 False\n",
      "seq ID: WP_234843341.1 True\n",
      "seq ID: EWM17971.1 True\n",
      "seq ID: WP_085502311.1 True\n",
      "seq ID: AOZ15010.1 True\n",
      "seq ID: PKL64027.1 True\n",
      "seq ID: WP_109940557.1 False\n",
      "seq ID: MBP2134245.1 False\n",
      "seq ID: OED43154.1 False\n",
      "seq ID: WP_234841803.1 False\n",
      "seq ID: WP_256352422.1 False\n",
      "seq ID: WP_198047496.1 True\n",
      "seq ID: WP_177188734.1 True\n",
      "seq ID: RVH25363.1 False\n",
      "seq ID: WP_205737937.1 True\n",
      "seq ID: RVH48478.1 False\n",
      "seq ID: WP_237456531.1 False\n",
      "seq ID: WP_013845364.1 True\n",
      "seq ID: WP_212809240.1 False\n",
      "seq ID: WP_041915279.1 True\n",
      "seq ID: WP_253278542.1 False\n",
      "seq ID: MBV9430858.1 False\n",
      "seq ID: WP_234835268.1 False\n",
      "seq ID: MBC7384724.1 False\n",
      "seq ID: WP_159457239.1 False\n",
      "seq ID: WP_093697172.1 True\n",
      "seq ID: WP_093475605.1 True\n",
      "seq ID: ASJ71444.1 True\n",
      "seq ID: WP_245323761.1 False\n",
      "seq ID: NHV45543.1 False\n",
      "seq ID: MBN2733417.1 False\n",
      "seq ID: TNF88212.1 True\n",
      "seq ID: WP_235616454.1 False\n",
      "seq ID: WP_152368407.1 True\n",
      "seq ID: WP_130228652.1 False\n",
      "seq ID: NMA11401.1 False\n",
      "seq ID: MCL2145753.1 True\n",
      "seq ID: WP_201191755.1 True\n",
      "seq ID: WP_048112024.1 True\n",
      "seq ID: WP_074810564.1 False\n",
      "seq ID: KMN20673.1 False\n",
      "seq ID: WP_149760078.1 False\n",
      "seq ID: WP_006880247.1 False\n",
      "49\n"
     ]
    }
   ],
   "source": [
    "print(\"Sequence and sequence ID used in the blast search:\",bot_amidine_fasta.id, bot_amidine_fasta.seq)\n",
    "raw_online_fasta = SeqIO.parse(\"Sequences/Amidine/Bottromycin/seqdump.fa\", \"fasta\")\n",
    "online_sequence_records = [seq for seq in raw_online_fasta] #Sequences that were derived from the online blast search tool\n",
    "print(\"\\nNumber of sequences from online Blast Search:\", len(online_sequence_records))\n",
    "\n",
    "online_blast_ids = [online_sequence_record.id for online_sequence_record in online_sequence_records]\n",
    "\n",
    "blast_presult = SearchIO.read(\"blast_result.xml\", 'blast-xml')\n",
    "python_seq_records = []\n",
    "for alignment in blast_presult:\n",
    "    for hsp in alignment:\n",
    "        seq = Seq(hsp.hit.seq.ungap())\n",
    "        seq_record = SeqRecord(seq, id=hsp.hit.id.split(\"|\")[1])\n",
    "        python_seq_records.append(seq_record)\n",
    "i=0      \n",
    "for python_seq_record in python_seq_records[899:]:\n",
    "    print(\"seq ID:\", python_seq_record.id, python_seq_record.id in online_blast_ids)    \n",
    "    if(python_seq_record.id in online_blast_ids):\n",
    "        #print(online_blast_ids.index(python_seq_record.id))\n",
    "        i+=1\n",
    "print(i)\n",
    "    #    index = online_blast_ids.index(python_seq_record.id)\n",
    "    #    alignments = pairwise2.align.globalxx(python_seq_record.seq, online_sequence_records[index].seq[0:200])\n",
    "     #   print(\"\\n Alignment for {}:\".format(python_seq_record.id))\n",
    "      #  print(format_alignment(*alignments[0]))"
   ]
  },
  {
   "cell_type": "code",
   "execution_count": 57,
   "id": "ce5a93cf",
   "metadata": {},
   "outputs": [],
   "source": [
    "from Bio import Entrez\n",
    "Entrez.api_key = \"a8f78b4657d608ac2e519266eede38d56408\"\n",
    "Entrez.email = \"ericgemmell@gmail.com\""
   ]
  },
  {
   "cell_type": "markdown",
   "id": "b9d71197",
   "metadata": {},
   "source": [
    "# Me trying to convert a Fasta with DNA to aa\n"
   ]
  },
  {
   "cell_type": "code",
   "execution_count": 21,
   "id": "3538924b",
   "metadata": {},
   "outputs": [
    {
     "name": "stdout",
     "output_type": "stream",
     "text": [
      "CP090082.1:339535-340662\n",
      "MRL-TDAEGALCSR-------SSG--KGLGHRSMA--S---ALFESA-EHYHLDWRR----DPRA--------S----EA-E-FLPG-RE-IAG-QDTARRSALLR---RLGGIMP-DAPVLT--RT-YRPVEET-LTGRADHGPAGRPHR-----HPVFLRDGG-YR-----NWP-------HPDDDRSFQP----LWH--YTSSA--GYA-A-GA-TVH--EALV-HAV-NEL-IERDAWSYQLARSYFGLPGEGPELRVVD-H------------DTL---PAELR-ELTG-TVEEVRE----APVL--IVD---I-----TCDTGV----P---AYVVCDARSREEVRLIGS-GAS--P-VR---T--YALQ-----RALL--EYLQVR-T--M---FEHGPVDADTEAGQIAT-----A-L-AR---YPR-HLAAA-R---FDVG--Q-LPH---ER-RA---FDADDGLPAAAS----PE-QL-LRH------LVD--RLR-DL-GV-DVHHRV-----LTPPG-SV----TVVDV--VAPG--LE---MFDKA-RA------GYP-VLPTGRLGERLRPRK-DHERGHGVD-HGKD--RG------GAPR---\n",
      "    |     |  |       |||  ||||       |   |||| | |||          |  |        |    |  | |    || |   |       ||    |       |  ||   |  |     | |                   | |       |      | |       || || ||      |    | ||   |   | |  |    |||  ||  ||  |||||||  |    | |      |     |            | |   |     ||   |          | |   |     |     |  |      |   |  |    |     |    |    | |    |  | |      ||    | | |  |  |   |   |     |  | |      | | |    ||  |     |   |     | |     |  |    |   |      |    |  |  |        |    ||  |  |  |          |     |     |      |     |    |     |       ||  |         | |   |  ||| |  |     |       |      \n",
      "---IT-----L--RNAQNEVVSSGTGKGLG-----ETSEIGALFE-ALEHY------YTEKD--ALHNCCTFPSHRIPE-IETF---NRECI--IQ-------LL-YTER------ED--VL-LCR-KY-----TSL--------------KKNKQH-V------WY-PLFITN-PYYAENVTHP-DD-SF--NYKKL--KRY-SS-NSG--IAIG-ST--FYEAL-IHA-TNE-VIERDAWS--L----F-L------L----KHYYYQNKSILQIMD-LNTFP----SEL--KT------LMKNA-V-SEI--GKNIILLNIT--T--ETNIPTILA--V----S-----L---NG--NIPYV-GLGTSLY-L-EYAITRA--ITE-L-V-QTCHMIRLF---P-----E--Q-A-NEERVAILEA-LKEYP-QH----YRCAEF---NTQRL--WNVE-SR-QVSF---D------SICSFP-HQ-SL--EKYIQEL--KIRL-ND-CG-FD-----IYYSIL----AS-FNNNT----HIV---NTL-IPNM----ER-FFLNYEGY-FV---------L-P--SD--RGH-V-LH---Q*R-LVKNKEG---NHS\n",
      "  Score=156\n",
      "\n"
     ]
    }
   ],
   "source": [
    "DNA_Fasta_Seq = SeqIO.parse(\"DNA_Fasta.fa\",\"fasta\")\n",
    "DNA_Seqs = [seq for seq in DNA_Fasta_Seq]\n",
    "tenth_seq = DNA_Seqs[10].translate()\n",
    "\n",
    "bot_amidine_fasta = SeqIO.read(\"Sequences/Amidine/Bottromycin/Fasta.fa\",\"fasta\")\n",
    "alignments = pairwise2.align.globalxx(bot_amidine_fasta.seq, tenth_seq.seq)\n",
    "print(DNA_Seqs[10].id)\n",
    "print(format_alignment(*alignments[0]))"
   ]
  },
  {
   "cell_type": "markdown",
   "id": "0924ae30",
   "metadata": {},
   "source": [
    "# Get SeqDump files and check for unique sequences"
   ]
  },
  {
   "cell_type": "code",
   "execution_count": 10,
   "id": "73b71ee8",
   "metadata": {},
   "outputs": [
    {
     "name": "stdout",
     "output_type": "stream",
     "text": [
      "54889\n"
     ]
    }
   ],
   "source": [
    "import glob\n",
    "seqdump_dirs = glob.glob(\"**/**seqdump.txt\",recursive = True)\n",
    "unique_sequences = []\n",
    "i = 0\n",
    "for seqdump_dir in seqdump_dirs:\n",
    "    seqrec_iter = SeqIO.parse(seqdump_dir,\"fasta\")\n",
    "    for seqrec in seqrec_iter:\n",
    "        i += 1\n",
    "        if seqrec.id not in unique_sequences:\n",
    "            unique_sequences.append(seqrec.id)\n",
    "print(i)"
   ]
  },
  {
   "cell_type": "code",
   "execution_count": 11,
   "id": "41e4b978",
   "metadata": {},
   "outputs": [
    {
     "name": "stdout",
     "output_type": "stream",
     "text": [
      "19405\n"
     ]
    }
   ],
   "source": [
    "print(len(unique_sequences))"
   ]
  },
  {
   "cell_type": "markdown",
   "id": "ec997c00",
   "metadata": {},
   "source": [
    "## Number of sequences per file"
   ]
  },
  {
   "cell_type": "code",
   "execution_count": 9,
   "id": "dfc8f722",
   "metadata": {},
   "outputs": [
    {
     "name": "stdout",
     "output_type": "stream",
     "text": [
      "\n",
      "Sequences/Amidine/Jesko_but_unknown/seqdump.txt has 18 sequences\n",
      "\n",
      "Sequences/Azoline/PZN/seqdump.txt has 120 sequences\n",
      "\n",
      "Sequences/Azoline/Mccb17/seqdump.txt has 64 sequences\n",
      "\n",
      "Sequences/Azoline/Bottromycin/seqdump.txt has 27 sequences\n"
     ]
    }
   ],
   "source": [
    "import glob\n",
    "seqdump_dirs = glob.glob(\"**/**seqdump.txt\",recursive = True)\n",
    "\n",
    "for seqdump_dir in seqdump_dirs:\n",
    "    i = 0\n",
    "    seqrec_iter = SeqIO.parse(seqdump_dir,\"fasta\")\n",
    "    for seqrec in seqrec_iter:\n",
    "        i += 1\n",
    "    if(i<200):\n",
    "        print(\"\\n{} has {} sequences\".format(seqdump_dir,i))\n",
    "    "
   ]
  },
  {
   "cell_type": "markdown",
   "id": "1b5afce9",
   "metadata": {},
   "source": [
    "# Sequence Alignment for IQ-TREE"
   ]
  },
  {
   "cell_type": "code",
   "execution_count": null,
   "id": "f4bba128",
   "metadata": {},
   "outputs": [],
   "source": [
    "bot_amidine_fasta = SeqIO.read(\"Sequences/Amidine/Bottromycin/Fasta.fa\",\"fasta\")\n"
   ]
  }
 ],
 "metadata": {
  "kernelspec": {
   "display_name": "Python 3 (ipykernel)",
   "language": "python",
   "name": "python3"
  },
  "language_info": {
   "codemirror_mode": {
    "name": "ipython",
    "version": 3
   },
   "file_extension": ".py",
   "mimetype": "text/x-python",
   "name": "python",
   "nbconvert_exporter": "python",
   "pygments_lexer": "ipython3",
   "version": "3.9.15"
  }
 },
 "nbformat": 4,
 "nbformat_minor": 5
}
