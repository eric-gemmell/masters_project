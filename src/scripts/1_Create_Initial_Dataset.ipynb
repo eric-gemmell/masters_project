{
 "cells": [
  {
   "cell_type": "markdown",
   "id": "b529c8ec",
   "metadata": {},
   "source": [
    "<br><br>\n",
    "<h1 style=\"font-size:36px\" align=\"center\"> Create Filtered Dataset </h1><br><br><br><br><br><br>"
   ]
  },
  {
   "cell_type": "code",
   "execution_count": 1,
   "id": "de6da11f",
   "metadata": {},
   "outputs": [
    {
     "name": "stderr",
     "output_type": "stream",
     "text": [
      "/usr/local/lib/python3.9/site-packages/tqdm/auto.py:22: TqdmWarning: IProgress not found. Please update jupyter and ipywidgets. See https://ipywidgets.readthedocs.io/en/stable/user_install.html\n",
      "  from .autonotebook import tqdm as notebook_tqdm\n"
     ]
    }
   ],
   "source": [
    "import os\n",
    "import glob\n",
    "from Bio import SeqIO\n",
    "from tqdm.auto import tqdm\n",
    "import pylev\n",
    "import matplotlib.pyplot as plt\n",
    "import numpy as np\n",
    "import copy\n",
    "from Bio.SeqRecord import SeqRecord\n",
    "from Bio.Seq import Seq\n",
    "from Bio import SeqIO\n",
    "import copy\n",
    "import re\n",
    "import math\n",
    "import json\n",
    "import csv\n",
    "work_dir = \"../processed_sequences/initial_dataset/\"\n",
    "interpro_filename = \"../raw_sequences/interpro_all_YcaO_domain_sequences_trimmed.txt\"\n",
    "focused_sequences = [seqrec for seqrec in SeqIO.parse(interpro_filename,\"fasta\")]\n",
    "for seq in focused_sequences:\n",
    "    seq_id = seq.id.split(\".\")[0]\n",
    "    seq.id = seq_id\n",
    "    seq.name = seq_id\n",
    "    seq.description = seq_id\n",
    "if not os.path.exists(work_dir):\n",
    "    os.makedirs(work_dir)\n",
    "alignment_input_filename = os.path.join(work_dir, \"alignment_input_sequences.txt\")"
   ]
  },
  {
   "cell_type": "markdown",
   "id": "e2611c07",
   "metadata": {},
   "source": [
    "<h3 style=\"font-size:24px\">Remove sequences with undefined codons</h3><br>"
   ]
  },
  {
   "cell_type": "code",
   "execution_count": null,
   "id": "a4083f00",
   "metadata": {},
   "outputs": [],
   "source": [
    "non_ambiguous_sequences = []\n",
    "ambiguous_sequences = []\n",
    "for sequence in focused_sequences:\n",
    "    if(\"X\" not in sequence.seq):\n",
    "        non_ambiguous_sequences.append(sequence)\n",
    "    else:\n",
    "        ambiguous_sequences.append(sequence)\n",
    "\n",
    "print(f\"Filtering out sequences with undefined residues.\\nOut of {len(focused_sequences)} sequences, {len(non_ambiguous_sequences)} remain.\")\n",
    "focused_sequences = non_ambiguous_sequences"
   ]
  },
  {
   "cell_type": "markdown",
   "id": "2e9549d0",
   "metadata": {},
   "source": [
    "<h3 style=\"font-size:24px\">Remove sequences that are not Archaea or Bacteria</h3><br>"
   ]
  },
  {
   "cell_type": "code",
   "execution_count": null,
   "id": "c203fa4f",
   "metadata": {},
   "outputs": [],
   "source": [
    "all_annotations_filename = \"../raw_sequences/interpro_all_YcaO_annotated.json\"\n",
    "\n",
    "import json\n",
    "import tqdm\n",
    "YcaO_data = []\n",
    "with open(all_annotations_filename, 'r') as f:\n",
    "    YcaO_data = json.load(f)\n",
    "\n",
    "def get_item_by_accession(seqs, accession):\n",
    "    for item in seqs:\n",
    "        if item['Accession_Interpro'] == accession.split(\".\")[0]:\n",
    "            return item\n",
    "    return None\n",
    "\n",
    "taxonomy_index = 0\n",
    "taxonomy_selected_sequences = []\n",
    "branches_of_life = {}\n",
    "for i in tqdm.tqdm(range(0,len(focused_sequences)),desc=f\"Processing Sequence taxonomy\"):\n",
    "    sequence = non_ambiguous_sequences[i]\n",
    "    branch_of_life = get_item_by_accession(YcaO_data,sequence.id)[\"lineage\"][taxonomy_index].replace(\" \", \"_\")\n",
    "    if(branch_of_life == \"Bacteria\" or branch_of_life == \"Archaea\"):\n",
    "        taxonomy_selected_sequences.append(sequence)\n",
    "    else:\n",
    "        if(branch_of_life not in branches_of_life):\n",
    "            branches_of_life[branch_of_life] = 0\n",
    "        branches_of_life[branch_of_life] += 1\n",
    "\n",
    "print(f\"Filtering out sequences that do not come from Archaea or Bacteria.\\nOut of {len(focused_sequences)} sequences, {len(taxonomy_selected_sequences)} remain.\")\n",
    "print(f\"Sequences of other branches that were filtered out:\")\n",
    "print(json.dumps(branches_of_life, indent=4))\n",
    "\n",
    "focused_sequences = taxonomy_selected_sequences"
   ]
  },
  {
   "cell_type": "markdown",
   "id": "a0b16c47",
   "metadata": {},
   "source": [
    "<h3 style=\"font-size:24px\">Remove sequences of abnormal size</h3><br>"
   ]
  },
  {
   "cell_type": "code",
   "execution_count": null,
   "id": "7d37cbd3",
   "metadata": {},
   "outputs": [],
   "source": [
    "abnormal_sized_seqs = []\n",
    "size_filtered_sequences = []\n",
    "for seq in focused_sequences:\n",
    "    if(len(seq.seq) > 450 or len(seq.seq) < 340):\n",
    "        abnormal_sized_seqs.append(seq)\n",
    "    else:\n",
    "        size_filtered_sequences.append(seq)\n",
    "    \n",
    "pre_filter = [len(seq.seq) for seq in focused_sequences]\n",
    "filtered = [len(seq.seq) for seq in size_filtered_sequences]\n",
    "  \n",
    "bin_width = 5\n",
    "bins = range(0, max(pre_filter + filtered) + bin_width, bin_width)\n",
    "\n",
    "fig, ax = plt.subplots(figsize=(10,5))\n",
    "ax.hist(pre_filter, bins, color='red', alpha=0.5, label='Pre-Filter')\n",
    "ax.hist(filtered, bins, color='blue', alpha=0.5, label='Filtered')\n",
    "ax.set_title(\"Filtering By Sequence Lengths\")\n",
    "ax.set_xlabel(\"Sequence Length\")\n",
    "ax.set_ylabel(\"Count\")\n",
    "plt.tight_layout()\n",
    "plt.show()\n",
    "\n",
    "print(f\"Filtering out sequences with strange sizes.\\nOut of {len(focused_sequences)} sequences, {len(size_filtered_sequences)} remain.\")\n",
    "focused_sequences = size_filtered_sequences"
   ]
  },
  {
   "cell_type": "markdown",
   "id": "9fc43d66",
   "metadata": {},
   "source": [
    "<h3 style=\"font-size:24px\">Save Sequences to File</h3><br>"
   ]
  },
  {
   "cell_type": "code",
   "execution_count": null,
   "id": "bd95cf3c",
   "metadata": {},
   "outputs": [],
   "source": [
    "SeqIO.write(focused_sequences, alignment_input_filename, \"fasta\")"
   ]
  },
  {
   "cell_type": "markdown",
   "id": "f33d3453",
   "metadata": {},
   "source": [
    "<br><br>\n",
    "<h1 style=\"font-size:36px\" align=\"center\"> Create Phylogenetic Tree Data </h1><br><br><br><br><br><br>"
   ]
  },
  {
   "cell_type": "code",
   "execution_count": 2,
   "id": "40b11f02",
   "metadata": {},
   "outputs": [],
   "source": [
    "all_annotations_filename = \"../raw_sequences/interpro_all_YcaO_annotated.json\"\n",
    "tridomain_annotations_filename = \"../raw_sequences/cyclodehydratase_annotaded_sequences.json\"\n",
    "rodeo_dir = \"../raw_sequences/RODEO_data/\"\n",
    "additional_data_filename = os.path.join(work_dir,\"tree_data.json\")\n",
    "\n",
    "data = {}"
   ]
  },
  {
   "cell_type": "code",
   "execution_count": 3,
   "id": "2de8befa",
   "metadata": {},
   "outputs": [],
   "source": [
    "sequences = [seq for seq in SeqIO.parse(alignment_input_filename,\"fasta\")]\n",
    "\n",
    "#Now redundant but keep it anyway\n",
    "for seq in sequences:\n",
    "    seq.seq = Seq(\"\".join(str(seq.seq).split(\"-\")))\n",
    "    new_id = seq.id.split(\"/\")[0]\n",
    "    seq.id = new_id\n",
    "    seq.description = new_id\n",
    "    seq.name = new_id\n",
    "    \n",
    "sequence_accessions = [seq.id for seq in sequences]\n",
    "for accession in sequence_accessions:\n",
    "    data[accession] = {}\n",
    "\n",
    "YcaO_data = []\n",
    "with open(all_annotations_filename, 'r') as f:\n",
    "    YcaO_data = json.load(f)\n",
    "    \n",
    "E1_data = []\n",
    "with open(tridomain_annotations_filename, 'r') as f:\n",
    "    E1_data = json.load(f)\n",
    "    \n",
    "def add_data(header,d):\n",
    "    if(len(d) != len(sequences)):\n",
    "        raise Exception(\"The data supplied is the wrong length, it needs to be the same length as the total number of sequences!\")\n",
    "    for i in range(0,len(d)):\n",
    "        accession = sequence_accessions[i]\n",
    "        data[accession][header] = d[i]"
   ]
  },
  {
   "cell_type": "code",
   "execution_count": 4,
   "id": "a4894c6f",
   "metadata": {},
   "outputs": [],
   "source": [
    "def get_item_by_accession(seqs, accession):\n",
    "    for item in seqs:\n",
    "        if item['Accession_Interpro'] == accession.split(\".\")[0]:\n",
    "            return item\n",
    "    return None\n",
    "def get_item_by_RefSeq_accession(seqs, accession):\n",
    "    for item in seqs:\n",
    "        if item['Accession_RefSeq'] == accession.split(\".\")[0]:\n",
    "            return item\n",
    "    return None"
   ]
  },
  {
   "cell_type": "code",
   "execution_count": 19,
   "id": "89a2faf5",
   "metadata": {},
   "outputs": [
    {
     "name": "stderr",
     "output_type": "stream",
     "text": [
      "Processing Rodeo Data: 100%|██████████| 60868/60868 [00:00<00:00, 271722.05it/s]\n"
     ]
    }
   ],
   "source": [
    "#Load RODEO data\n",
    "rodeo_files = []\n",
    "for subdir, dirs, files in os.walk(rodeo_dir):\n",
    "    for file in files:\n",
    "        if file.endswith(\"main_co_occur.csv\"):\n",
    "            rodeo_files.append(os.path.join(subdir, file))\n",
    "            \n",
    "rodeo_data = []\n",
    "for file in rodeo_files:\n",
    "    with open(file) as csvfile:\n",
    "        reader = csv.DictReader(csvfile)\n",
    "        rows = [row for row in reader]\n",
    "        rodeo_data.extend(rows)\n",
    "\n",
    "        \n",
    "processed_rodeo_data = {}\n",
    "for i in tqdm(range(0,len(rodeo_data)),desc=\"Processing Rodeo Data\"):\n",
    "    row = rodeo_data[i]\n",
    "    if(row[\"Query\"] not in processed_rodeo_data):\n",
    "        processed_rodeo_data[row[\"Query\"]] = []\n",
    "    contents = []\n",
    "    #print(row)\n",
    "    for key, value in row.items():\n",
    "        if key is not None:\n",
    "            if \"PfamID\" in key and value is not None:\n",
    "                contents.append(value)\n",
    "        elif isinstance(value,list):\n",
    "            for v in value:\n",
    "                if re.search(r'PF\\d{5}', v):\n",
    "                    contents.append(v)\n",
    "    processed_rodeo_data[row[\"Query\"]].extend(contents)\n",
    "\n",
    "def get_sequence_ID_present(Pfam_ID):\n",
    "    RefSeq_ids_with_ID = []\n",
    "    RefSeq_ids_without_ID = []\n",
    "    for key, value in processed_rodeo_data.items():\n",
    "        if Pfam_ID in value:\n",
    "            RefSeq_ids_with_ID.append(key)\n",
    "        else:\n",
    "            RefSeq_ids_without_ID.append(key)\n",
    "\n",
    "    sequence_ID_present = []\n",
    "\n",
    "    for i in tqdm(range(0,len(sequence_accessions)),desc=f\"Scanning sequences for {Pfam_ID}\"):\n",
    "        accession = sequence_accessions[i]\n",
    "        accession_data = get_item_by_accession(YcaO_data, accession)\n",
    "        ID_present = \"U\"\n",
    "        if(\"Accession_RefSeq\" in accession_data):\n",
    "            refSeq = accession_data[\"Accession_RefSeq\"]\n",
    "            if(refSeq in RefSeq_ids_with_ID):\n",
    "                ID_present = \"Y\"\n",
    "            elif(refSeq in RefSeq_ids_without_ID):\n",
    "                ID_present = \"N\"\n",
    "        sequence_ID_present.append(ID_present)\n",
    "    return sequence_ID_present\n",
    "\n",
    "# sequence_TfuA_present = get_sequence_ID_present(\"PF07812\")\n",
    "# sequence_ThiF_present = get_sequence_ID_present(\"PF00899\")#IPR02291\n",
    "# sequence_tricopeptide = get_sequence_ID_present(\"PF13432\")\n",
    "# sequence_tricopeptide2 = get_sequence_ID_present(\"PF13424\")\n",
    "# sequence_tricopeptide3 = get_sequence_ID_present(\"PF14559\")\n",
    "# sequence_GNAT = get_sequence_ID_present(\"PF00583\")\n",
    "# sequence_FMN = get_sequence_ID_present(\"PF03358\")\n",
    "# sequence_FMN2 = get_sequence_ID_present(\"PF01070\")\n",
    "\n",
    "\n",
    "#sequence_E1_present = get_sequence_ID_present(\"\")#TIGR03603 but I can't find that on Pfam\n",
    "#Potentially get FMN dependent YcaOs\n",
    "add_data(\"TfuA_nearby\",sequence_TfuA_present)\n",
    "add_data(\"Ocin-ThiF_nearby\",sequence_ThiF_present)\n",
    "add_data(\"tricopeptide_nearby\",sequence_tricopeptide)\n",
    "add_data(\"tricopeptide_nearby2\",sequence_tricopeptide2)\n",
    "add_data(\"tricopeptide_nearby3\",sequence_tricopeptide3)\n",
    "add_data(\"GNAT_nearby\",sequence_GNAT)\n",
    "add_data(\"FMN_nearby\",sequence_FMN)\n",
    "add_data(\"FMN_nearby2\",sequence_FMN2)\n"
   ]
  },
  {
   "cell_type": "code",
   "execution_count": 13,
   "id": "fd05fdf3",
   "metadata": {},
   "outputs": [],
   "source": [
    "taxonomy_index = 1\n",
    "sequence_taxonomy = [get_item_by_accession(YcaO_data,accession)[\"lineage\"][taxonomy_index].replace(\" \", \"_\") for accession in sequence_accessions]\n",
    "add_data(\"taxa\", sequence_taxonomy)"
   ]
  },
  {
   "cell_type": "code",
   "execution_count": 7,
   "id": "3d680bce",
   "metadata": {},
   "outputs": [
    {
     "name": "stdout",
     "output_type": "stream",
     "text": [
      "['Acidobacteria', 'Actinobacteria', 'Aquificae', 'Asgard_group', 'Bacteroidetes', 'Balneolaeota', 'Caldiserica/Cryosericota_group', 'Candidatus_Absconditabacteria', 'Candidatus_Adlerbacteria', 'Candidatus_Aegiribacteria', 'Candidatus_Aenigmarchaeota', 'Candidatus_Azambacteria', 'Candidatus_Bathyarchaeota', 'Candidatus_Beckwithbacteria', 'Candidatus_Blackburnbacteria', 'Candidatus_Cloacimonetes', 'Candidatus_Curtissbacteria', 'Candidatus_Daviesbacteria', 'Candidatus_Delongbacteria', 'Candidatus_Dependentiae', 'Candidatus_Eremiobacteraeota', 'Candidatus_Giovannonibacteria', 'Candidatus_Gottesmanbacteria', 'Candidatus_Gracilibacteria', 'Candidatus_Gribaldobacteria', 'Candidatus_Kaiserbacteria', 'Candidatus_Kapabacteria', 'Candidatus_Kerfeldbacteria', 'Candidatus_Komeilibacteria', 'Candidatus_Korarchaeota', 'Candidatus_Levybacteria', 'Candidatus_Liptonbacteria', 'Candidatus_Lloydbacteria', 'Candidatus_Margulisbacteria', 'Candidatus_Marinimicrobia', 'Candidatus_Melainabacteria', 'Candidatus_Moranbacteria', 'Candidatus_Nealsonbacteria', 'Candidatus_Nezhaarchaeota', 'Candidatus_Nomurabacteria', 'Candidatus_Pacearchaeota', 'Candidatus_Parcubacteria', 'Candidatus_Peregrinibacteria', 'Candidatus_Roizmanbacteria', 'Candidatus_Rokubacteria', 'Candidatus_Saccharibacteria', 'Candidatus_Stahlbacteria', 'Candidatus_Staskawiczbacteria', 'Candidatus_Sungbacteria', 'Candidatus_Taylorbacteria', 'Candidatus_Thermoplasmatota', 'Candidatus_Uhrbacteria', 'Candidatus_Verstraetearchaeota', 'Candidatus_Woesearchaeota', 'Candidatus_Woesebacteria', 'Candidatus_Wolfebacteria', 'Candidatus_Zambryskibacteria', 'Chlamydiae', 'Chlorobi', 'Chloroflexi', 'Chrysiogenetes', 'Crenarchaeota', 'Cyanobacteria', 'Deinococcus-Thermus', 'Elusimicrobia', 'Euryarchaeota', 'Fibrobacteres', 'Firmicutes', 'Fusobacteria', 'Gemmatimonadetes', 'Ignavibacteriae', 'Kiritimatiellaeota', 'Lentisphaerae', 'Nitrospinae/Tectomicrobia_group', 'Nitrospirae', 'Planctomycetes', 'Proteobacteria', 'Rhodothermaeota', 'Spirochaetes', 'Tenericutes', 'Thaumarchaeota', 'Thermodesulfobacteria', 'Thermotogae', 'Verrucomicrobia', 'candidate_division_KSB1', 'candidate_division_WWE3', 'environmental_samples']\n",
      "{'Acidobacteria': '#1f77b4', 'Actinobacteria': '#ff7f0e', 'Aquificae': '#2ca02c', 'Asgard_group': '#d62728', 'Bacteroidetes': '#9467bd', 'Balneolaeota': '#8c564b', 'Caldiserica/Cryosericota_group': '#e377c2', 'Candidatus_Absconditabacteria': '#7f7f7f', 'Candidatus_Adlerbacteria': '#bcbd22', 'Candidatus_Aegiribacteria': '#17becf', 'Candidatus_Aenigmarchaeota': '#75641e', 'Candidatus_Azambacteria': '#40837a', 'Candidatus_Bathyarchaeota': '#12961e', 'Candidatus_Beckwithbacteria': '#924b38', 'Candidatus_Blackburnbacteria': '#8c7043', 'Candidatus_Cloacimonetes': '#8c0a47', 'Candidatus_Curtissbacteria': '#328f4a', 'Candidatus_Daviesbacteria': '#3f8921', 'Candidatus_Delongbacteria': '#058a61', 'Candidatus_Dependentiae': '#95913b', 'Candidatus_Eremiobacteraeota': '#27646a', 'Candidatus_Giovannonibacteria': '#237d25', 'Candidatus_Gottesmanbacteria': '#239202', 'Candidatus_Gracilibacteria': '#822785', 'Candidatus_Gribaldobacteria': '#1d0879', 'Candidatus_Kaiserbacteria': '#383590', 'Candidatus_Kapabacteria': '#74960d', 'Candidatus_Kerfeldbacteria': '#883909', 'Candidatus_Komeilibacteria': '#50680e', 'Candidatus_Korarchaeota': '#962350', 'Candidatus_Levybacteria': '#5e3268', 'Candidatus_Liptonbacteria': '#05768e', 'Candidatus_Lloydbacteria': '#098b91', 'Candidatus_Margulisbacteria': '#0a6725', 'Candidatus_Marinimicrobia': '#8f4f36', 'Candidatus_Melainabacteria': '#741b70', 'Candidatus_Moranbacteria': '#687710', 'Candidatus_Nealsonbacteria': '#743a56', 'Candidatus_Nezhaarchaeota': '#6f5a16', 'Candidatus_Nomurabacteria': '#0e3c91', 'Candidatus_Pacearchaeota': '#1f7b7a', 'Candidatus_Parcubacteria': '#91265d', 'Candidatus_Peregrinibacteria': '#051672', 'Candidatus_Roizmanbacteria': '#661193', 'Candidatus_Rokubacteria': '#23518a', 'Candidatus_Saccharibacteria': '#6c9535', 'Candidatus_Stahlbacteria': '#386074', 'Candidatus_Staskawiczbacteria': '#28801f', 'Candidatus_Sungbacteria': '#82288d', 'Candidatus_Taylorbacteria': '#2f8483', 'Candidatus_Thermoplasmatota': '#871485', 'Candidatus_Uhrbacteria': '#0f7b37', 'Candidatus_Verstraetearchaeota': '#1d6b23', 'Candidatus_Woesearchaeota': '#26527f', 'Candidatus_Woesebacteria': '#827b16', 'Candidatus_Wolfebacteria': '#06680b', 'Candidatus_Zambryskibacteria': '#6c0541', 'Chlamydiae': '#7f0d0e', 'Chlorobi': '#8e1f23', 'Chloroflexi': '#55933a', 'Chrysiogenetes': '#260a80', 'Crenarchaeota': '#631389', 'Cyanobacteria': '#87151d', 'Deinococcus-Thermus': '#0f9212', 'Elusimicrobia': '#1c2d7c', 'Euryarchaeota': '#276c7d', 'Fibrobacteres': '#2e2882', 'Firmicutes': '#7c3c09', 'Fusobacteria': '#97724b', 'Gemmatimonadetes': '#783c35', 'Ignavibacteriae': '#2f0488', 'Kiritimatiellaeota': '#4e7d05', 'Lentisphaerae': '#150180', 'Nitrospinae/Tectomicrobia_group': '#568127', 'Nitrospirae': '#6d2f09', 'Planctomycetes': '#1a873f', 'Proteobacteria': '#392f72', 'Rhodothermaeota': '#2f2c6f', 'Spirochaetes': '#792f70', 'Tenericutes': '#242991', 'Thaumarchaeota': '#7c453a', 'Thermodesulfobacteria': '#83733d', 'Thermotogae': '#33888d', 'Verrucomicrobia': '#579706', 'candidate_division_KSB1': '#95100b', 'candidate_division_WWE3': '#15860d', 'environmental_samples': '#365886'}\n"
     ]
    }
   ],
   "source": [
    "import random\n",
    "import colorsys\n",
    "import matplotlib\n",
    "\n",
    "def generate_colors(sequence_taxonomy):\n",
    "    unique_taxa = list(set(sequence_taxonomy))\n",
    "    unique_taxa.sort()\n",
    "    print(unique_taxa)\n",
    "    taxa_colors = {}\n",
    "    sequence_colors = []\n",
    "    predefined_colors = ['#1f77b4', '#ff7f0e', '#2ca02c', '#d62728', '#9467bd', '#8c564b', '#e377c2', '#7f7f7f', '#bcbd22', '#17becf']\n",
    "    color_index = 0\n",
    "    for taxa in unique_taxa:\n",
    "        if color_index < len(predefined_colors):\n",
    "            taxa_colors[taxa] = predefined_colors[color_index]\n",
    "            color_index += 1\n",
    "        else:\n",
    "            h, s, v = random.random(), 0.5 + random.random() / 2.0, 0.4 + random.random() / 5.0\n",
    "            r, g, b = colorsys.hsv_to_rgb(h, s, v)\n",
    "            taxa_colors[taxa] = '#{:02x}{:02x}{:02x}'.format(int(r * 255), int(g * 255), int(b * 255))\n",
    "    print(taxa_colors)\n",
    "    for taxa in sequence_taxonomy:\n",
    "        sequence_colors.append(taxa_colors[taxa])\n",
    "    return sequence_colors\n",
    "\n",
    "\n",
    "sequence_colors = generate_colors(sequence_taxonomy)\n",
    "add_data(\"color\",sequence_colors)\n"
   ]
  },
  {
   "cell_type": "code",
   "execution_count": 8,
   "id": "e3e2e929",
   "metadata": {},
   "outputs": [
    {
     "name": "stdout",
     "output_type": "stream",
     "text": [
      "\n",
      "\n",
      "Building a new DB, current time: 03/08/2023 22:41:55\n",
      "New DB name:   /files/src/processed_sequences/initial_dataset/db_data/my_blast_db\n",
      "New DB title:  ../processed_sequences/initial_dataset/alignment_input_sequences.txt\n",
      "Sequence type: Protein\n",
      "Keep MBits: T\n",
      "Maximum file size: 1000000000B\n",
      "Adding sequences from FASTA; added 14094 sequences in 0.24846 seconds.\n",
      "\n",
      "\n",
      "1/27 Processing ../raw_sequences/Amidine/Jesko_but_unknown/Fasta.fa\n",
      "Got results:\n",
      "['A0A377Z2T7', 'A0A2X3D8D2']\n",
      "2/27 Processing ../raw_sequences/Amidine/Bottromycin/Fasta.fa\n",
      "Got results:\n",
      "['K4MHF8', 'A0A540Q9A9', 'A0A540P9C2', 'M3FEZ7', 'K0NZY4', 'A0A7K3EJ13', 'C9Z182', 'A0A100JQ73', 'L1L6X4', 'K4JZA2']\n",
      "3/27 Processing ../raw_sequences/Unknown/EcYcaO/Fasta.fa\n",
      "Got results:\n",
      "['A0A376MUM2', 'A0A6N8QWD3', 'W8T509', 'V0AP47', 'U9XEU8', 'S1FBU1', 'Q3Z3L7', 'Q31YU6', 'P75838', 'K4VXU5', 'I6EPI9', 'I4SAI8', 'I2UM09', 'F4VCS9', 'F4TCD0', 'D8EAG6', 'B7LD97', 'A0A8F9I0L6', 'A0A8F9H8N8', 'A0A8E2TE79', 'A0A8E0KXK2', 'A0A862ZG40', 'A0A836NFK5', 'A0A829DQD6', 'A0A829AT07', 'A0A811VWF9', 'A0A7U9QG05', 'A0A7U9BF99', 'A0A7I6H1N8', 'A0A6N3R6X6', 'A0A6N3QHX1', 'A0A4P8C2K4', 'A0A478G2T9', 'A0A3T2UZU6', 'A0A2S8DYK7', 'A0A222B1T8', 'A0A1X9TQB8', 'A0A1X3LHC1', 'A0A1X3JJQ8', 'A0A140N9J2', 'A0A0P7L632', 'A0A0I1UH56', 'A0A0E1T7S4', 'A0A0E1LX82', 'A0A0E0Y1C9', 'A0A2X5EH20', 'Q8XEA9', 'C3TGE2', 'B2TUH6', 'A0A891SHR3', 'A0A2S8DKJ3', 'A0A0K6CQZ9', 'A0A0H3PN97', 'A0A0H3JCB1', 'A0A0A1A8G2', 'A0A830SFU8', 'A0A7R6U1H6', 'A0A6L6ZYS1', 'A0A3L5QF67', 'A0A2W6PXB6', 'A0A1X3J320', 'V0YYF8', 'U9XXX5', 'A0A8S7YI14', 'A0A829L0V8', 'A0A7Z1D6E1', 'A0A7H9QYE6', 'A0A3J6P090', 'A0A2X1NW45', 'A0A1X3I9C2', 'A0A0D8WHZ1', 'W1F580', 'J7Q6S5', 'E9TES1', 'E6BCR4', 'E3PIS6', 'E1J2G3', 'E1IQ82', 'E0IZD7', 'D7XJ99', 'D6J8L9', 'A7ZJZ4', 'A0A8S7WPR0', 'A0A8H9AD64', 'A0A8E0L073', 'A0A8D5SZZ3', 'A0A8B5KJ43', 'A0A829CX03', 'A0A7Z8GJS4', 'A0A7U9J2L7', 'A0A4S1QEG9', 'A0A3L9IEA5', 'A0A3D2T7G8', 'A0A1X3L4P9', 'A0A0H0DYA9', 'A0A0A0FAZ0', 'A0A061KH01', 'I6D1D3', 'F0JL76', 'D6I8H4', 'D2ABF8', 'B7LN68', 'A0A8H0ENL5', 'A0A853WHU2', 'A0A822PTZ2', 'A0A7L6VX88', 'A0A6D0K1U9', 'A0A658Z3Y8', 'A0A3R0JC92', 'A0A380B559', 'A0A2X8TUX7', 'A0A2S4MV11', 'A0A2D0CRZ7', 'A0A200L5V2', 'A0A1X9WZF5', 'A0A1M2U0E2', 'A0A080JA48', 'V0XZU6', 'V0SNL2', 'V0A389', 'L3QBD5', 'B7NAQ4', 'B1LJV9', 'A0A829J8P5', 'A0A826V165', 'A0A826UH13', 'A0A7U9G0T1', 'A0A7U8ZZC3', 'A0A7U8ZE91', 'A0A5E9YX28', 'A0A2X7FX08', 'A0A237NHE8', 'A0A1X3LVQ4', 'A0A152X872', 'A0A8S7N543', 'A0A6D0UYP5', 'A0A346GH35', 'A0A2I6FGS8', 'F5NSM9', 'A0A838AU89', 'A0A5F1FEV2', 'A0A200NJS2', 'A0A1V2GEG9', 'A0A0K9TD60', 'F4NP07', 'A0A8G8AKS7', 'A0A827RSI5', 'A0A6H2GGR4', 'A0A2A2C9B9', 'A0A1S9JG20', 'W1WVN7', 'V0VAD0', 'S1Q6D5', 'L4JBQ7', 'F4V0D6', 'D8A7K8', 'B7UMZ1', 'B7MS20', 'A0A8G1IQE9', 'A0A8E0N5I6', 'A0A8E0J2Q3', 'A0A829GBD5', 'A0A828UAK8', 'A0A827QIY6', 'A0A827BBT6', 'A0A826KX28', 'A0A7U9FVP4', 'A0A7U9BR33', 'A0A7A0H5L9', 'A0A4T2L1U4', 'A0A454A2U3', 'A0A3K0QDK4', 'A0A376W2Y1', 'A0A376JGX7', 'A0A366YHG1', 'A0A1M2J350', 'A0A0H3EGX0', 'A0A0H2V5T9', 'A0A0G9FRB7', 'D3H0D4', 'A0A447XZM6', 'Q0T8I7', 'A0A8S7BC28', 'A0A8E2LZK3', 'A0A7W4KL87', 'A0A6L9DK69', 'A0A4P7TRW4', 'F4SWA8', 'E9XN50', 'A0A8G8PQ54', 'A0A854BET7', 'A0A826WRL6', 'A0A5R8TDT4', 'A0A2K3TZB2', 'A0A192CJL8', 'A0A0L7AJ72', 'A0A061YNJ0', 'A0A5F1I6H6', 'A0A5F1E3M6', 'A0A5F1DW89', 'A0A376RKY3', 'A0A7H9LTM0', 'Q1RDV3', 'B7MHL4', 'A0A8S7Y1S8', 'A0A7B6F035', 'A0A4P9DG09', 'A0A3L5H275', 'A0A2J1BX23', 'A0A0H2YY87', 'A0A0E2L850', 'A0A826R0E6', 'A0A6N9MUY3', 'A0A659LVF3', 'A0A4Q0E359', 'A0A8S7W6P3', 'A0A4D9X712', 'A0A8T5WB86', 'A0A7L5V370', 'A0A658XZJ8', 'A0A0K5VEK1', 'A0A0H3MRW1', 'A0A8F9N6C3', 'A0A826YRF7', 'A0A3A6SKD9', 'A0A193LP35', 'A0A8E2GYZ1', 'A0A7D7DH10', 'A0A6D0DH34', 'A0A418GX13', 'A0A403M354', 'A0A5B9AJU1', 'A0A564V134', 'A0A0B1AS38', 'B1EPM5', 'A0A8S7QCB9', 'A0A7U8WYI2', 'A0A789RCP8', 'A0A0K4UA07', 'D7YAN8', 'A0A826TR12', 'A0A7G6KDA1', 'A0A241QQ21', 'A0A1X3JVA8', 'A0A398Q031', 'A0A8S7GVH5', 'A0A828GG73', 'A0A827KXX3', 'A0A7U9DMS4', 'A0A376PX70', 'A0A370V9K2', 'A0A8S7G8C5', 'A0A398TUM4', 'A0A827LCC0', 'A0A7Z8E011', 'A0A839BA24', 'A0A376X284', 'A0A811XIW6', 'A0A6L5E4L0', 'A0A0F6TZP8', 'A0A064E7X7', 'R8X5F8', 'A0A7W2VHW2', 'A0A7L6U4L7', 'A0A7L6JQX4', 'A0A7L6DUX9', 'A0A7L6BUQ5', 'A0A4U6LUA0', 'A0A2I8SDW1', 'A0A6H3B3N0', 'A0A1V8P6C2', 'A0A336QN79', 'A0A8I0FYD0', 'A0A7W3I656', 'A0A7W3HP87', 'A0A7L6PE82', 'A0A7L6II60', 'A0A1R0G1J7', 'A8AIH7', 'A0A7G1PLP9', 'A0A5Y8L170', 'A0A5I4NGI3', 'A0A381H4P6', 'A0A336PYA1', 'A0A2X2X440', 'A0A078LFM0', 'A0A8B5QG77', 'A0A7G2IMC7', 'A0A212I3Q3', 'A0A0N8LW26', 'A0A0J1N780', 'A0A0J1LQ85', 'A0A0D7LQQ8', 'A0A7I6WKG1', 'A0A8H9TTU7', 'A0A133LN53', 'A0A6B0TD05', 'A0A241QDU0', 'A0A6I5AHL2', 'A0A4U6HGS4', 'A0A2K9PIS8', 'A0A6C8Y7Y1', 'A0A5P2MG45', 'A0A0D7LQN7', 'D2TS42', 'A0A8E6RPK3', 'A0A760VM73', 'A0A742QAY7', 'A0A702L4L1', 'A0A636K9L8', 'A0A624MHB7', 'A0A5X9FED8', 'A0A5W3RQT2', 'A0A5W2R9L2', 'A0A5V4MUV4', 'A0A5I0QRR2', 'A0A5H8RV25', 'A0A5H6NSY4', 'A0A482PIR3', 'A0A3Y8QYL9', 'A0A3V8VK21', 'Q57R26', 'C0PXU1', 'A0A8I0MIR5', 'A0A811CPZ1', 'A0A7L6YZZ6', 'A0A7L6YT00', 'A0A7L6UE92', 'A0A7D8IV46', 'A0A749KRS4', 'A0A738CQP3', 'A0A737MN31', 'A0A737LK96', 'A0A735V360', 'A0A734HSD6', 'A0A732CNT0', 'A0A730ZMP3', 'A0A729JWX4', 'A0A728LQ89', 'A0A701QY12', 'A0A6D2G9U2', 'A0A6C7D4X7', 'A0A603B9E5', 'A0A5Y7AA22', 'A0A5Y3XBS2', 'A0A5I0ZI85', 'A0A5H5BLA6', 'A0A5C2LY60', 'A0A3Z7QT87', 'A0A3I8HD80', 'A0A381G5V5', 'A0A379QD43', 'A0A2Z3XD26', 'A0A0F5BCT3', 'A0A8E9YBB7', 'A0A7Z0Y796', 'A0A760LU47', 'A0A701XM72', 'A0A6N6JXL0', 'A0A658B2N3', 'A0A627WZZ5', 'A0A5Y3VA57', 'A0A5X7XJS2', 'A0A5H6JRL3', 'A0A505CYQ5', 'A0A3R0AZD3', 'A0A3I2B6R5', 'A0A379U1V3', 'A0A344SHX5', 'A0A2I5HPX2', 'G5RT63', 'A0A7X1BKK4', 'A0A7D7B4Z0', 'A0A752RX23', 'A0A744Z8G4', 'A0A735HKB3', 'A0A718UQ06', 'A0A6N2VN94', 'A0A5Y0B9M4', 'A0A5T8LJE2', 'A0A5J0EZQ6', 'A0A5I9V874', 'A0A3V2EL85', 'A0A3F3IFI7', 'A0A742Z0T9', 'A0A600X679', 'A0A5Y1WJJ3', 'A0A5I0FMR2', 'A0A5H5INN2', 'A0A3Z7P9K6', 'A0A744RVQ0', 'A0A657HYJ6', 'A0A622TV77', 'A0A731NGC3', 'A0A726JHX8', 'A0A609W1G8', 'A0A5Y2RXV4', 'A0A5V4FKK1', 'A0A5U9KCU3', 'A0A3Y3E3P6', 'A0A3V8I1D5', 'A0A3U9HUA6', 'A0A379R466', 'A0A8E7N3I9', 'A0A7W3BS34', 'A0A749PRQ4', 'A0A744R6Z8', 'A0A702GDR1', 'A0A6Y1UHY3', 'A0A629Y3T8', 'A0A5U3EXU9', 'A0A5T7YBZ8', 'A0A5I9S9W1', 'Q8Z806', 'A0A7X8S554', 'A0A7I7DMK9', 'A0A7D6TG38', 'A0A726AER5', 'A0A721AJ10', 'A0A718VVA1', 'A0A715IAY4', 'A0A714YXB7', 'A0A701K6I1', 'A0A658P256', 'A0A609RFB7', 'A0A5V8Y754', 'A0A5B0SZE3', 'A0A4U8NIR2', 'A0A3U5QF97', 'A0A3R8ZJS8', 'A0A2C9P1M4', 'A0A8E9PNA0', 'A0A752E380', 'A0A737P1J1', 'A0A6Y5YT32', 'A0A6C8H4A5', 'A0A636P4Z3', 'A0A613K7S8', 'A0A5H9H8G8', 'A0A3Q9MUC5', 'A0A761E8P7', 'A0A3Q8DEA9', 'A0A7U5YL24', 'A0A715QJE1', 'A0A702NBF3', 'A0A603DXP1', 'A0A5Z3NWA5', 'A0A5Y8FZ49', 'A0A5T2Y4S0', 'A0A5I2FME1', 'A0A4P6WHR5', 'A0A3Y4B1I6', 'A0A3V3S0V3', 'A0A3U6XHI6', 'A0A2S4QIF4', 'A0A8T9IEH0', 'A0A751MIJ4', 'A0A722VY26', 'A0A720DZ48', 'A0A6Y2WID6', 'A0A6C7I0Q7', 'A0A659MLN4', 'A0A626R4T0', 'A0A5W5I3B2', 'A0A5V4GI94', 'A0A5I8VSX1', 'A0A4Q8P9K4', 'A0A3U0C8Q7', 'A0A3Q9LKI4', 'A0A3Q9L799', 'A0A0H2WQ82', 'A0A716Z9U2', 'A0A702L4P7', 'G9Z6A6', 'G5Q0J7', 'A0A7Z1T6J8', 'A0A7Z1T2Y1', 'A0A735VXX0', 'A0A718RVW2', 'A0A5Y8HHJ3', 'A0A5Y5JQ22', 'A0A5W3GS72', 'A0A5U3CSF6', 'A0A5J0I5S4', 'A0A5I9F659', 'A0A5I1GG51', 'A0A5H8IG85', 'A0A4U8JN64', 'A0A3Z2IEL1', 'A0A3V7IHZ4', 'A0A3V6Q885', 'A0A3V5UL25', 'A0A3T8BVX6', 'A0A3R0QWI6', 'A0A3F3JA77', 'V7ILW2', 'G5QGU1', 'G5NAX6', 'B5F157', 'A0A8H8X7R8']\n",
      "4/27 Processing ../raw_sequences/Azoline/Jesko_but_unknown_outgroup_POTENTIALLY_IGNORE_DUE_TO_WEIRD_ALIGNMENT/outgroup_sequence_Fasta.fa\n",
      "Got results:\n",
      "['A0A4Q0YMK5', 'A0A0C1MFG7', 'A0A4P7BGK5', 'A0A6I3SW70', 'W0VE14', 'A0A7U6B5M9']\n",
      "5/27 Processing ../raw_sequences/Azoline/Thiopeptides/Thiopeptide_Lactazole/Fasta.fa\n",
      "Got results:\n",
      "['X5I1H4', 'A0A372ZM15', 'A0A1Q4W8M9', 'A0A495TP18', 'A0A285R1R3', 'A0A6N7KYW6', 'A0A0M8XTS2', 'A0A1B1BCU7', 'A0A419YAX5', 'A0A3N1USP0', 'A0A0M9CJ37', 'A0A101NEG6', 'A0A4R7S7M3', 'A0A4S2RK29', 'A0A5J6JH05', 'A0A0J7AAU4', 'A0A0N0NGL6', 'A0A3R9X3L6', 'A0A7Y9BPV7', 'A0A344U9J1', 'A0A1Q5MSK4', 'A0A5P2USS1', 'A0A7K2XY00', 'A0A3N4Z0D1', 'A0A0M8SK65', 'A0A0L8N2G4', 'A0A2K8PMW9', 'A0A0M8S2M8', 'A0A2V2ARY5', 'A0A1V0QTC8', 'A0A1Q5L4M0', 'A0A089WZI6', 'D9VJQ0', 'A0A429TEB7', 'A0A656TDY4', 'A0A2H5B9P5', 'A0A6I5FX31', 'A0A7K2K4K7', 'A0A1C4KI85', 'A0A7H8MYD2', 'A0A7K1W999', 'A0A2S3XXG7', 'A0A6N9VFN6', 'A0A3R9YGG8', 'A0A1C4KV06', 'A0A0M4DRR6', 'A0A1W7D2H0', 'A0A7Y6KP80', 'A0A543VZ31', 'A0A6G3NHL4', 'A0A1E7LYQ9', 'A0A7K3RNL0', 'A0A2V2PWZ1', 'A0A7R8S225', 'A0A2T7KL07', 'A0A7J0D5W6', 'A0A1W5Z933', 'A0A6I5F285', 'A0A7Z6XKP1', 'A0A7K3APW1', 'A0A2T7LH34', 'A0A212RVX0', 'A0A1C4RHY1', 'A0A2V4NCP2', 'A0A6G4YD05', 'A0A7K2SVE9', 'A0A1C6MSV7', 'A0A6G2SYC4', 'A0A3R9W5H5', 'A0A6G3BDP9', 'A0A1L6PCK2', 'A0A7K2ZFE1', 'A0A7Y6HFX1', 'A0A2T7KLA3', 'A0A5N5EUN1', 'A0A5M8GPS4', 'A0A1C5CWX6', 'A0A2P8B695', 'A0A2T7KA39', 'A0A6G2UD77', 'A0A3N1AP93', 'A0A495JUI9', 'A0A1H3PAX8', 'A0A8J3LA42', 'A0A8J3L4S3', 'A0A1M7RNF6', 'A0A4V2S6L6', 'A0A1M7FSC0', 'A0A8J3VWN0', 'A0A2W6CB42', 'A0A3N1H075', 'A0A0M8YA22', 'A0A3N1GXA0', 'A0A2P8HLP1', 'A0A7J5AUY2', 'A0A0M8Y6Z8', 'A0A543J7C4', 'A0A7W9HGX0', 'A0A1G8PJ46', 'A0A316I775', 'A0A2P8HIE8', 'A0A1W2D2F7', 'A0A1H9LVL1', 'A0A1I6DLS4', 'A0A290Z874', 'C6WEE3', 'A0A495W205', 'A0A1G7NZY1', 'A0A1H9JEI1', 'A0A193CBS2', 'C3AUU0', 'C3BHH9', 'A0A2H3MT36', 'C0ZD21', 'R8PEG0', 'A0A854ZXX5', 'A0A2B5UYY1', 'A0A3N1GJF0', 'A0A1K0GT12', 'A0A1Y3MEJ3', 'A0A109N1P2', 'A0A7H1QSH3', 'A0A2Z4MI19', 'A0A1S8G9V4', 'A0A6N7KZ74', 'A0A7W9G4B5', 'A0A220MF33', 'A0A2M9NRE0', 'A0A1Y4X2F1', 'A0A1M4TZC4', 'A0A073KIP5', 'A0A495TMB3', 'A0A1V3C692', 'A0A7W0BYL5', 'A0A2A8VEA9', 'A0A7Y9XBA2', 'C6G236', 'A0A1B3XTI5', 'A0A7K1KTE9', 'A0A542RN12', 'A0A292YP87', 'A0A372LGU3', 'A0A0U3GGT4', 'A0A1B7KUG5', 'A0A023CS17', 'A0A291BJP2', 'A0A837KQW1', 'A0A366EQ99', 'A0A3D8VTG5', 'I3E903', 'A0A561CH60', 'A0A7Z2K3K8', 'A0A285QVT1', 'A0A443ITZ6', 'A0A1J6W0S1', 'A0A1H0GGP7', 'A0A2V3AAY6', 'A0A6G9J1A3', 'A0A150MAH3', 'J3AEK0', 'A0A226QN69', 'A0A3R9F2U5', 'A0A2N5GLC3', 'A0A8S0L6K2', 'A0A538N0M3', 'A0A0U2WKT2', 'A0A2N5GTF8', 'I0JLK1', 'A0A7Z2Y8L4', 'F8FKA1', 'A0A3B0B2A0', 'I0BR67', 'H6NNG6', 'A0A0F5R7J0', 'A0A5A9DXI1', 'A0A2A9CFC3', 'A0A5C8MRV9', 'L5N885', 'A0A2P7VK41', 'A0A1T2P9E4', 'A0A8F5C6B0', 'A0A150M7B6', 'A0A023DEE5', 'A0A7W0BWG8', 'C5D552', 'A0A402GGF0', 'T5HW17', 'Q65LW2', 'A0A7G7UJT9', 'A0A1Y0YD29', 'A0A559JK84', 'A0A6L9G757', 'A0A845F0V0', 'J8D2V4', 'C2MHS9', 'A0A2N0YKY2', 'Q0H2Y0', 'A0A1G8S0K6', 'C2WFM7', 'A0A2B1YRF9', 'A0A7G7FYQ8', 'A0A2A8FDM0', 'A0A1I2N395', 'A0A7U3YHS4', 'A0A178TV90', 'A0A1I1K6A1', 'A0A517I606', 'A0A2B0LE65', 'W8YJL1', 'A0A179SY12', 'A0A429XVH5', 'A0A5D4UJI2', 'A0A316XIF1', 'M5P7H2', 'A0A7Y8V037', 'A0A6I7SZE1', 'A0A1S9TSC7', 'A0A0P6WK00', 'A0A1Y5KFG6', 'A0A561DJF1', 'A0A561TVN6', 'A0A2A8RQU5', 'A0A553KG20', 'A0A369WH22', 'A0A015LVV8', 'A0A1Y3PGC1', 'A0A074LUZ5', 'A0A4Q7J9N7', 'A0A2C1Y8T6', 'A0A0A8WXT9', 'A0A1H9X4Z2', 'A0A562K6V1', 'A0A4Y8U428', 'A0A506QK21', 'A0A4R1QFG0', 'A0A1I6TEY6', 'J7L3S6', 'A0A4Q9YLT5', 'A0A4R4YG48', 'A0A178A8I0', 'A0A6H1RAF1', 'A0A7Z8WDE3', 'A0A328L352', 'A0A1V4HL52', 'A0A1W6A5E1', 'A0A0F5RPZ7', 'A0A0B5SHL4', 'A0A840P2Q4', 'A0A7W2A9W6', 'R8N8S9', 'R8HS10', 'A9VJX6', 'A0A653WZZ9', 'J8K0D6', 'A0A285D8K1', 'A0A8D5UE44', 'A0A7Z1KAR7', 'A0A6I7XJS9', 'A0A1C4ARD9', 'A0A845E8W8', 'J8F1E9', 'A0A8T9FGP7', 'A0A6I7FBN0', 'A0A6C1VTP5', 'A0A2A8ZXG6', 'A0A4Y8M2V7', 'A0A1J9VFD8', 'A0A150BRW7', 'A0A3A6PPZ5', 'A0A3D9VAN0', 'A0A366GDK9', 'A0A2N1K2G0', 'A0A1C3T5J1', 'A0A6M1UBW3', 'A0A1H8CDL0', 'A0A2B4NHB7', 'A0A1G4KV18', 'A0A243A1I7', 'A0A1S9TCP4', 'A0A1H3M384', 'A0A6L8USG7', 'A0A2A8U9T4', 'A0A1R1RIE9', 'A0A1G8QI61', 'A0A2C2TKX0', 'A0A1H3RF08', 'A0A1H0AZH0', 'A0A2A9T1F7', 'A0A3Q9SIS6', 'A0A3D8PXQ6', 'A0A7Z0WZ14', 'W7RGT0', 'A0A2A8PQK9', 'J8HRF9', 'C2PSZ5', 'Q813U7', 'C2SXY0', 'A0A853ZE94', 'A0A5F0X641', 'A0A2B0KS17', 'A0A229M8Y4', 'A0A2B3QD06', 'A0A7V7LDS5', 'A0A855DZL0', 'A0A243EKB5', 'A0A0M2P8X9', 'A0A6G7JCX0', 'A0A1Y6A305', 'A0A846TAN1', 'A0A3D8PUI0', 'A0A328MFI4', 'A0A5P8F7L3', 'A0A2C0ZKA6', 'A0A2G6Q781', 'A0A2A8Z2E1', 'A0A8J3ZGN4', 'A0A2A7IT40', 'C2SGZ8', 'A0A4U2Y516', 'A0A2B9QH95', 'A0A0A0WR42', 'A0A1Q7VVR4', 'A0A553KN46', 'A0A2B0Y5S1', 'A0A164CIT2', 'A0A7W2AQZ8', 'A0A2C4Z9V4', 'A0A559JGX8', 'A0A3E0JE00', 'A0A420GZ61', 'A0A1V9W2I1', 'A0A4U3B8S8', 'A0A5C8M7A5', 'A0A1A5XKI5', 'A0A7W7RC59', 'A0A243LUN5', 'A0A6I1FRA0', 'A0A2S9HX71', 'A0A2B9U4W3', 'A0A1C9BQ90', 'J7W3W5', 'A0A7X2ER56', 'A0A160H9X2', 'J9C9V8', 'A0A3D0E408', 'A0A6I2ER57', 'A0A2A7BVV0', 'A0A248TG05', 'A0A0J7G547', 'A0A2T4ZAW7', 'C2PBY5', 'A0A4R4BH15', 'A0A3R9N0D6', 'A0A2L1U146', 'A0A1U9YV16', 'A0A2B4LQN5', 'J8IEV1', 'A0A7V7GYC0', 'A0A7M3FVJ1', 'A0A3Q9HUI2', 'A0A2B0WTH6', 'A0A2A8AX02', 'A0A5J6GNW4', 'A0A2C4PP10', 'A0A2K8ZF60', 'A0A1Q9I4P6', 'N1LGD3', 'J8I311', 'C2YNN0', 'A0A5B9HS45', 'A0A2C1ISZ8', 'A0A0J7H3M1', 'A0A398B7B0', 'R8HBL1', 'A0A2B0DZM0', 'A0A2A7HBE5', 'V5M914', 'M1Q5N1', 'A0A826H6B3', 'A0A5P9XZZ6', 'A0A2S8W4M5', 'A0A249X7H3', 'A0A1S2RBU0', 'A0A1B1L2E3', 'A0A5C4ZG74', 'A0A6L5B4E0', 'A0A1S9YZK9', 'A0A0M1NV52', 'A0A3G6UKB2', 'C2XQZ9', 'A0A2B4F326', 'A0A3T0HS91', 'A0A0M0GDF0', 'A0A6I7XVJ4', 'A0A291Q732', 'C2R541', 'A0A3D5U4N1', 'A0A443GRK4', 'A0A109FTY8', 'A0A243IV11', 'A0A2B5K6G2', 'A0A1C6TT30', 'A0A2A8S842', 'A0A0G8CDH9', 'A0A7Z1FSD7', 'A0A516QNN5', 'A0A6I6YPP1', 'A0A2B2LXL6', 'R8UE28', 'A0A2A8LJQ0', 'A0A090YLV8', 'A0A7Z8RLA4', 'A0A2A7J4G4', 'A0A246PVW2', 'A0A1C4BDG1', 'A0A1X6Q6C3', 'A0A1I7LFX4', 'R8PGW5', 'C3FZY3', 'C2Z4W9', 'A0A243CSM5', 'A0A5E9JA59', 'A0A426H2H7', 'A0A0G8EBZ6', 'A0A5C8L100', 'A0A243GJJ8', 'A0A2A7HYI7', 'D6TFI2', 'A0A7V8CNU9', 'A0A2J9DQQ2', 'A0A243DD40', 'A0A2W6DSP7', 'A0A1D3RED1', 'A0A398BGA9', 'C2UAW4', 'A0A6H0TEX2', 'A0A7V7S836', 'A0A235B3K0', 'A0A7Y6P5X2', 'A0A6C0QT94', 'A0A7X2ZCS1', 'A0A7V7HSA4', 'A0A2B1DCH2', 'A0A1D3NUS0', 'A0A4R1Z4D9', 'A0A243JZX9', 'C3GFT8', 'B7JEU6', 'A0A2R2IAW6', 'A0A2B6CAU0', 'A0A243DQ72', 'A0A0B5NLX1', 'A0A3M8BXK7', 'A0A0M2VNX7', 'K6DW91', 'A0A6I0BPV3', 'A0A0K9GV37', 'B7IM91', 'A0A6L3BZ92', 'A0A2A8ED67', 'A0A2A2PAM8', 'A0A429XB68', 'A0A1J9VTX6', 'A0A7X4YNP5', 'A0A6B3KPN6', 'A0A8T9N413', 'A0A1J9VFA3', 'A0A6L3BJT0', 'A0A317LJY9', 'A0A7X2AL62', 'A0A1W2GTQ4', 'A0A0J1HZ24', 'A0A8J3F251', 'A0A679H849', 'A0A0U2W9H4', 'A0A158RKX9', 'A0A3M8DTL5', 'A0A243JUE1', 'A0A7X2E217', 'A0A0Q3QTW8', 'W8XZR7', 'C2NVW6', 'A0A8E2GB21', 'A0A7X2EFM9', 'A0A5B8PEX6', 'A0A2N3NUB6', 'A0A2A8M5E1', 'A0A023P432', 'A0A2B3DY08', 'A0A327YEC5', 'A0A2B3KKX9', 'A0A243K5K4', 'A0A0K0Q946', 'A0A0D0R3B5', 'A0A3D8GUB1', 'A0A2R5EL29', 'A0A6I5J8H1', 'A0A7X2DVB9', 'A0A4U3C303', 'A0A243MVS1']\n",
      "6/27 Processing ../raw_sequences/Azoline/Thiopeptides/Thiostrepton/Fasta.fa\n"
     ]
    },
    {
     "name": "stdout",
     "output_type": "stream",
     "text": [
      "Got results:\n",
      "['C0JRZ4', 'A0A0K8Q0K9', 'A0A286HXX3', 'A0A2M8XIB2', 'A0A1H5CBQ8', 'A0A5C6WLH3', 'C0JRW9', 'A0A4Q1RYM6', 'A0A161MD05', 'A0A1H8THL2', 'A0A1C4YSW3', 'A0A318NFW1', 'A0A345FAE4', 'A0A2V4NEG2', 'C4RQU0', 'A0A7D6CFW1', 'A0A221W4A5', 'A0A3E2YY81', 'E5DUH9', 'A0A6G9YQJ4', 'A0A7H8XSI2', 'C6FX46', 'A0A1C4ZQY3', 'A0A3N1B292', 'S4MTH7', 'A0A7V9TS16', 'A0A1Q7AQ40', 'A0A3S9V231', 'A0A316ERX1', 'A0A0U2WKT2', 'A0A420GZ61', 'M5P7H2', 'A0A7Y8V037', 'A0A6I7SZE1', 'A0A2B4NHB7', 'A0A1G4KV18', 'A0A6L3BZ92', 'A0A4V6PBD1', 'A0A023CS17', 'A0A2T6C4G9', 'A0A2C4Z9V4', 'A0A0F5RPZ7', 'A0A0G8CDH9', 'C5D552', 'A0A1N6QFF4', 'A0A369WH22', 'A0A316XIF1', 'A0A7U3YHS4', 'A0A178TV90', 'F8FKA1', 'A0A1B7KUG5', 'I0BR67', 'H6NNG6', 'A0A2W4IQC1', 'A0A2W4J3Q2', 'C2NEM4', 'A0RB74', 'A0A7D4CDA7', 'A0A4V2ZTQ4', 'Q0H2Y0', 'A0A073KIP5', 'A0A2C4PP10', 'A0A8T9FGP7', 'M9LC22', 'A0A2G6Q781', 'A0A1T2PYB7', 'A0A7Z8RLA4', 'A0A7V7HSA4', 'A0A2B1DCH2', 'A0A2A7J4G4', 'A0A246PVW2', 'A0A1D3NUS0', 'A0A1C4BDG1', 'A0A1J9VTX6', 'A0A8T9ZFA6', 'A0A1J9SZM6', 'A0A150MAH3', 'A0A6H0TEX2', 'A0A2A8EMF6', 'A0A4U3B8S8', 'A0A2B5K6G2', 'H3SIB5', 'A0A2B4F326', 'C3GFT8', 'B7JEU6', 'A0A2R2IAW6', 'A0A2B6CAU0', 'A0A0B5NLX1', 'A0A1Y3PGC1', 'A0A2K8ZF60', 'A0A8F5C6B0', 'A0A243GJJ8', 'A0A150M7B6', 'A0A023DEE5', 'A0A7X2AL62', 'A0A0J1HZ24', 'A0A4R5YZK1', 'A0A2S9Y8R1', 'A0A7H1QSH3', 'A0A8S0L6K2', 'A0A3E0RCC2', 'A0A329F4W3', 'A0A2N1K2G0', 'A0A243BKP6', 'A0A7Y6P5X2', 'A0A5C8L100', 'A0A402GGF0', 'A0A7W0BWG8', 'C3FZY3', 'A0A243CSM5', 'A0A7V7LDS5', 'A0A6G9J1A3', 'A0A8D5UE44', 'C2VQP1', 'J8BE04', 'A0A1D3N439', 'C2PBY5', 'C2YNN0', 'A0A2C1ISZ8', 'A0A2B0WTH6', 'A0A2A8AX02', 'A0A5P0YA28', 'A0A7V7L7L1', 'A0A7Z1G815', 'A0A2A7GYD2', 'A0A1C4ARD9', 'A0A553KN46', 'A0A226QN69', 'J8D2V4', 'C2MHS9', 'A0A2N0YKY2', 'A0A1T2P9E4', 'A0A8G0YBB6', 'A0A1G8BM83', 'A0A109QIU5', 'A0A3A3G9G4', 'A0A553KG20', 'A0A229UI07', 'A0A4R4BH15', 'A0A5C8MRV9', 'A0A2A7IT40', 'Q6HLT1', 'A0A6A2TA41', 'A0A2S9HG37', 'A0A1D3RED1', 'A0A0G8EBZ6', 'A0A158RKX9', 'A0A1A5XKI5', 'A0A7U6BZX7', 'A0A4S4HZE3', 'A0A1Y6A305', 'A0A2A7BVV0', 'A0A0J7G547', 'A0A6L7HPD9', 'A0A6H3AJJ1', 'Q63EB4', 'A0A6M8D2H6', 'A0A292YP87', 'A0A2B4LQN5', 'A0A1T3V7J1', 'A0A327YEC5', 'A0A7G3E9P7', 'A0A2A8ZXG6', 'A0A3G1H353', 'A0A378X6L4', 'A0A7W2AQZ8', 'A0A6H9IWP6', 'A0A4Y8T6C6', 'A0A4Y7QX61', 'A0A3R9DV07', 'A0A150AYQ2', 'A0A7X2ER56', 'A0A160H9X2', 'D8H648', 'A0A109FTY8', 'A0A235F4V4', 'A0A2B1E6P0', 'A0A160INZ2', 'A0A243JUE1', 'A0A437SJF6', 'A0A2A8BU61', 'T5HW17', 'Q65LW2', 'A0A7G7UJT9', 'A0A1Y0YD29', 'A0A223D1D0', 'A0A6L5LL33', 'A0A2B9QH95', 'A0A7V7S836', 'A0A291Q732', 'A0A2A7E4U9', 'A0A2A7DD60', 'A0A242XLH8', 'A0A7Z0WZ14', 'A0A2C1LJ64', 'A0A2A8UT65', 'A0A6I7XJS9', 'A0A6I0BPV3', 'A0A7Z1KAR7', 'A0A7G3DQ18', 'A0A4Q9YLT5', 'A0A6H9IGG2', 'A0A5J6GNW4', 'A0A368VQH8', 'A0A7W0BYL5', 'A0A6L5Q758', 'A0A3D9VAN0', 'A0A366GDK9', 'A0A6C0FWN5', 'J7W3W5', 'A0A1X6Q6C3', 'A0A328MFI4', 'A0A2S9HX71', 'R8N8S9', 'R8HS10', 'A9VJX6', 'A0A653WZZ9', 'A0A4R1QFG0', 'A0A2B5IVF6', 'A0A443T9D0', 'A0A7I8D8K2', 'A0A0M4FE11', 'A0A242VZK7', 'A0A506QK21', 'A0A015LVV8', 'A0A556CIR3', 'A0A162PBM2', 'A0A2S8V0H8', 'A0A243A1I7', 'A0A6I6YPP1', 'J8HRF9', 'C2PSZ5', 'A0A2W1L201', 'A0A1C4BJW6', 'A0A6C1VTP5', 'A0A2N0ZIH4', 'A0A235B3K0', 'A7GMD1', 'A0A6B3KPN6', 'A0A2S1A8A3', 'A0A559JK84', 'A0A090YLV8', 'A0A6G7JCX0', 'A0A242ZL24', 'C2SGZ8', 'A0A0A0WR42', 'A0A1S9TCP4', 'A0A4P9F399', 'C2WFM7', 'A0A2B1YRF9', 'S9STL9', 'A0A2A8S842', 'A0A2A9CFC3', 'A0A0B5SHL4', 'C2S0Q4', 'B9IU55', 'B7I0G9', 'A0A5M9GYS0', 'A0A3G5U635', 'A0A1Y6A8S5', 'J9C9V8', 'A0A2N5GLC3', 'A0A845F0V0', 'A0A2B2NPZ9', 'A0A372LGU3', 'J8CUF9', 'J8F1E9', 'R8PGW5', 'C3BHH9', 'C2Z4W9', 'A0A2H3MT36', 'A0A1H0GGP7', 'A0A2C1BVA6', 'I3DVS6', 'A0A2B0LE65', 'A0A7Z8WDE3', 'A0A559JGX8', 'A0A150BRW7', 'A0A248TG05', 'A0A3D8VTG5', 'A0A8T9N413', 'A0A328L352', 'I3E903', 'A0A2T7YU29', 'A0A6I1FRA0', 'A0A845FA32', 'A0A7X1J0I7', 'A0A1G8R8N7', 'A0A2B1KHC6', 'A0A1S7F259', 'R8DDG6', 'A0A2C4QQI6', 'A0A1G8S0K6', 'A0A0D7KPZ9', 'A0A2B0Y5S1', 'A0A164CIT2', 'A0A150EJI6', 'A0A2C4UXM1', 'A0A1C3T5J1', 'W7RGT0', 'C3AUU0', 'W8XZR7', 'C2NVW6', 'A0A8E2GB21', 'A0A7X2EFM9', 'A0A5B8PEX6', 'A0A2N3NUB6', 'A0A2A8M5E1', 'A0A023P432', 'A0A2T0MR10', 'A0A0E1MKR6', 'K0FIP3', 'C2V8S8', 'A0A7T3JL69', 'A0A2C5PQF4', 'A0A2B4YVP0', 'A0A242WUC8', 'A0A2A8LJQ0', 'A0A2I0R8V0', 'A0A1S9TSC7', 'A0A5C5AKK1', 'A0A6M1UBW3', 'A0A2A7HYI7', 'A0A329M4Z9', 'A0A511VBW2', 'A0A1R1RIE9', 'A0A2B5UYY1', 'A0A243DQ72', 'A0A516QNN5', 'R8I345', 'A0A2C2LLD7', 'A0A2B3UM28', 'A0A1W6A5E1', 'A0A1Y3MEJ3', 'A0A243LUN5', 'A0A243IV11', 'A0A2T0F8I9', 'D5DU93', 'A0A7W3N7M9', 'A0A243EY45', 'A0A1N7CNV7', 'A0A167TUV1', 'A0A8J2VJA2', 'A0A150BY04', 'J7WBW1', 'J3ZY29', 'C3DGT5', 'A0A2H3QMR2', 'A0A243MI29', 'A0A1I2CBX8', 'A0A854ZXX5', 'N1LGD3', 'J8I311', 'A0A5B9HS45', 'A0A0J7H3M1', 'A0A1C3SB13', 'A0A1I6TEY6', 'R8HBL1', 'A0A679H849', 'A0A1J9VFA3', 'J8K9D0', 'R8SG80', 'Q813U7', 'C2SXY0', 'A0A8I1H016', 'A0A853ZE94', 'A0A6H9J4Q7', 'A0A6D1T1H5', 'A0A5F0X641', 'A0A433M475', 'A0A2B0KS17', 'A0A2B0A057', 'A0A243BBG6', 'A0A229M8Y4', 'A0A151UVZ2', 'A0A2B9U4W3', 'A0A243JZX9', 'A0A854YII5', 'A0A5M8SEB3', 'A0A1S9YZK9', 'A0A1C9BQ90', 'A0A3E0JE00', 'C2R541', 'A0A3D5U4N1', 'A0A1Y0ITH4', 'A0A371SMJ1', 'J8IEV1', 'A0A855DZL0', 'A0A7V7GYC0', 'A0A7M3FVJ1', 'A0A3Q9HUI2', 'A0A5P8F7L3', 'A0A5E9JA59', 'A0A2A7GQZ2', 'A0A1B8UXK1', 'Q73BP1', 'A0A1Y6A118', 'A0A136BUX1', 'J8HHP2', 'C3GY20', 'A0A853XHB5', 'A0A6L3WFG6', 'A0A5C5A5T4', 'A0A386ZTV7', 'A0A2M9WXM0', 'A0A6I5J8H1', 'A0A7Z8S6T7', 'A0A0U2W9H4', 'A0A2C1ZLJ5', 'A0A6I0BQ00', 'A0A806HTA7', 'A0A7V7I7S6', 'A0A4E7PN33', 'A0A369CWG1', 'A0A242YCK6', 'A0A7J5A2D1', 'A0A1E8BRZ5', 'A0A2B3QD06', 'A0A1I1K6A1', 'R8MUV8', 'R8EV78', 'C2X8U3', 'C2WJH0', 'A0A8B2VT48', 'A0A828XJ03', 'A0A6I7E9J7', 'A0A2B3DDQ6', 'A0A2A7CEG1', 'A0A243H263', 'A0A243C7J7', 'A0A1H5V601', 'A0A0F6FZF0', 'A0A383R9N6', 'V5M914', 'M1Q5N1', 'A0A826H6B3', 'A0A5P9XZZ6', 'A0A2S8W4M5', 'A0A1B1L2E3', 'A0A2N5GTF8', 'A0A1M4TZC4', 'A0A480BFT1', 'A0A7X2DVB9', 'A0A4U3C303', 'A0A243MVS1', 'A0A243G5K5', 'A0A193CQ71', 'A0A2A8PQK9', 'A0A243EKB5', 'A0A1Q9I4P6', 'A0A4V5TWN7', 'A0A4U2NXR1', 'A0A150D3L0', 'A0A7X0NU40', 'R8UE28', 'A0A8I1GK52', 'A0A855D084', 'A0A854KN63', 'A0A2B4VS83', 'A0A0Q9L0F2', 'A0A5C4ZG74', 'A0A2A9T1F7', 'A0A2C1DH54', 'A0A1E8BBR0', 'A0A243JD32', 'A0A7V8CNU9', 'A0A2J9DQQ2', 'A0A243DD40', 'A0A4Q9DN47', 'A0A2T0EHT3', 'A0A3N2FWH9', 'A0A0J6ETN4', 'A0A249X7H3', 'A0A8J3S3A8', 'A0A226QVJ7', 'B7HH16', 'C2USB4', 'A0A6N7KZ74', 'A0A1Q7VVR4', 'A0A068N4S8', 'A0A1W2GTQ4', 'A0A852T9I8', 'A0A329ESN2', 'A0A5B8Z8W9', 'A0A1X7GBJ3', 'A0A838X9R3', 'A0A4R4EA83', 'A0A443GRK4', 'A0A2B0DZM0', 'A0A2A7HBE5', 'S9TZQ1', 'A0A7W7RC59', 'A0A3M8DTL5', 'A0A7Z1FSD7', 'A0A3N6CG26', 'J8L9U8', 'C3E0K2', 'A0A6I2ER57', 'A0A0D1QS88', 'G1ECL8']\n",
      "7/27 Processing ../raw_sequences/Azoline/LAPs/Goadsporin/Fasta.fa\n",
      "Got results:\n",
      "['Q3C2F7', 'A0A1S2PZ02', 'A0A0N1FRW2', 'A0A1H7KQY6', 'A0A1H8RJF1', 'A0A429BUN2', 'A0A7W7D399', 'A0A8E2B0V0', 'A0A2K8MG90', 'A0A2N3WFQ4', 'W5T7A4', 'A0A0M8SMQ8', 'A0A2N3KQT9', 'A0A6B2WGA0', 'A0A6B2VLL3', 'A0A5R9M700', 'A0A8F9YX67', 'F4FHE0', 'A0A097CRI3', 'A0A1H3DG54', 'A0A561EXY3', 'A0A7H8KWJ5', 'A0A6P0LJL1', 'A0A7W7SD74', 'A0A1Q5EUQ2', 'A0A8G1XAE6', 'A0A3N4RI54', 'A0A419YL90', 'A0A4U3MNE5', 'A0A066Z0M9', 'A0A3A4KFU0', 'A0A327T4A4', 'A0A1G9HK63', 'A0A2A3I1M7', 'A0A1D9G9V9', 'A0A6L9ZF50', 'A0A6P0KJB4', 'A0A1I2LWW1', 'E4NFR8', 'A0A0L8N4C3', 'A0A839PVX8', 'A0A495Y2C4', 'A0A1E2WGD6', 'A0A8J7AFF3', 'A0A1D8U2T0', 'A0A3A4KQK7', 'A0A1E5QQQ5', 'A0A845WKL8', 'A0A3M1K6A8', 'A0A846DV02', 'B4W006', 'A0A1U7H836', 'A0A352AGG0', 'A0A3M9M6K1', 'A0A6B3MAW0', 'A0A8J3W0R6', 'A0A355DW01', 'A0A1Z4S7K7', 'A3IYQ0', 'A0A0C1WVK6', 'A0A7C9TV49', 'A0A6P0VGF4', 'A0A350Y3Z4', 'A0A7C9PT65', 'A0A652KCV0', 'A0A316AY76', 'A0A6P0SLR0', 'A0A7C1VVK8', 'A0A496V9L2', 'A0A1W9X7G5', 'A0A846BG41', 'A0A2D6BF98', 'A0A6P0I5R1', 'A0A0K1EF34', 'A0A846D6K2', 'A0A7C9PR35', 'A0A2D6B7R4', 'A0A1Z4L5N2', 'A0A1Z4IW12', 'A0A1U7HEY7', 'A0A6P0WT63', 'K9WVA9', 'E0U9F8', 'A0A6M0FJG2', 'A0A7W9LCI7', 'K9WBM2', 'A0A6P0MJG5', 'Q0FLD1', 'A0A646KMR0', 'A0A6P0L3T8', 'K9T3I9', 'A0A1H6EYM7', 'K9Z9X5', 'A0A6M0EXK8', 'A0A6B3NCT4', 'A0A6P0TI24', 'A0A433UJ44', 'A0A6P0N175', 'I4H360', 'A0A846EKY2', 'A0A6P0K631', 'A0A8J6S5L3', 'A0A846GH62', 'A8YAZ7', 'A0A1X9LBP4', 'A0A367R8F2', 'A0A845YCC7', 'A0A3A9Y8F4', 'A0A6P0M1N7', 'A0A6P0JND9', 'A0A6P0I8T9', 'A0A6M0BC79', 'A0A6M0A2Z8', 'A0A6L9ZE47', 'A0A6L9YB94', 'A0A1U7NAK9', 'A0A316DPG7', 'A0A845Z598', 'A0A6P0TSA9', 'A0A552AIU3', 'A0A1Z4KC23', 'A0A1Q5LCS2', 'A0A1H0MD46', 'A0A401IKN4', 'A0A1X1NA99', 'A0A0H1AKR9', 'A0A2I8A448', 'A0A0A1VSD2', 'A0A6P0WUP2', 'D8FWK1', 'A0A4R4WXW0', 'A0A7W7PL67', 'A0A0C2KQH6', 'A0A7K3A2K1', 'A0A6P0P3B8', 'E0ULZ9', 'A0A0C1R8R5', 'A0A7C9TVU1', 'A0A0N9I2T4', 'A0A6B3NZX6', 'A0A2L2N442', 'A0A209BTZ1', 'A0A1Z4Q1A6', 'A0A846AEB3', 'D6B7H9', 'A0A7L5XLY0', 'A0A3M1PYK6', 'A0A844MI29', 'A0A0K3BP57', 'A0A8I0UVP8', 'A0A7Y6GXT5', 'A0A367QE11', 'G3EGR8', 'A0A542SXF5', 'A0A235HQK9', 'A0A077M1L3', 'A0A1V2QTB8', 'A0A1Z4H0T8', 'A0A841UX50', 'A0A8H9LTN5', 'A0A6B3I9K3', 'A0A6B3FFE8', 'A0A6B3AEL1', 'A0A6A0BI10', 'A0A3N6GZ56', 'A0A380P133', 'A0A2M9HUU6', 'A0A3N6PE57', 'A0A1Y5X096', 'A0A0S1UPQ4', 'A0A139XCW6', 'A0A6G3Z7G9', 'A0A6I6RPP2', 'A0A4R7VVY6', 'A0A7C1ZYB9', 'A0A496V9H6', 'A0A1W9X655', 'A0A2S2FPP2', 'A0A7Y6HSL5', 'A0A8T4F372', 'A0A352AKD1', 'A0A8F6I2T2', 'A0A8S0NHP5', 'A0A8G1ZQ40', 'A0A6G2ZYF8', 'A0A1C4NLY9', 'A0A1C4LZA7', 'A0A126Y589', 'A0A7K2GIU9', 'A0A7Y6SIZ9', 'A0A561EVG6', 'A0A1C0VWY3', 'A0A1Q5J0R0', 'A0A139WUH2', 'I4FY24', 'A0A428ZQZ0', 'A0A2R4SXH8', 'A0A3E0MB92', 'A0A3C0N9U9', 'A0A7Z1AVN4', 'A0A552KNM0', 'A0A552FG89', 'A0A6P1ZTH0', 'A0A7U3UP24', 'A0A6P0V0C1', 'A0A2R4TB82', 'I4IPB7', 'A0A552GF80', 'B7KLY0', 'A0A844MN60', 'A0A6G3QCL7', 'A0A6B2WBN4', 'A0A6B2W0D7', 'A0A218PYJ6', 'A0A100JVH9', 'A0A6P0R6S9', 'A0A2P9FBX9', 'A0A3N5T2T9', 'A0A7K2X374', 'A0A429PMB3', 'A0A2K8T8P2', 'A0A3N1UXW1', 'A0A8D5TTY5', 'A0A139GKM4', 'A0A6I4ND87', 'A0A6L9ZKZ3', 'A0A1V4BTG7', 'A0A510PLJ4', 'A0A367R1H7', 'A0A3E0LQQ9', 'A0A352AMH9', 'A0A552DW21', 'A0A1Z4QS72', 'A0A8J3QDE3', 'A0A2I8A4Z0', 'A0A2G9DX05', 'A0A8J6X920', 'A0A352X4N4', 'A0A101SZJ9', 'A0A5R9LUU3', 'A0A0F6U6A0', 'A0A3D8JRY5', 'A0A551YPV7', 'I4HXX8', 'A0A5A5RPS9', 'A0A551Y3K9', 'A0A7K1XIT3', 'A0A841WIE2', 'A0A5J6J5S5', 'A0A6G2LLV8', 'A0A4S3GX11', 'A0A552AF07', 'A0A2Z6UQL9', 'A0A355DUA7', 'A0A3N6HID2', 'A0A0K1S273', 'A0A8J6X906', 'A0A0Q4EBL5', 'A0A552HLQ6', 'A0A1H0W6V6', 'C9ZCD0', 'I4G7M8', 'A0A1I2HRD5', 'A0A8I0P694', 'A0A286F396', 'A0A841UMX3', 'B0JLW1', 'A0A3G9JCP9', 'A0A1Q5KTZ5', 'A0A1H4IB06', 'A0A6P0P8F9', 'A0A6P0RPZ5', 'A0A2K8T3H9', 'A0A3N1HW72', 'A0A846C768', 'A0A353KEU7', 'A0A6N8B265', 'A0A0L8MB43', 'K9VBG7', 'A0A552IFB6', 'A0A6P0YD84', 'A0A7Y9XH50', 'A0A2L2XNB6', 'M3F2X1', 'A0A7K3E062', 'A0A2Z6CWK0', 'A0A857D5T2', 'A0A7Y6KSM8', 'A0A7Y6F475', 'A0A5B8DT15', 'A0A3N4Z2Q3', 'A0A0C1NIG7', 'A0A352X845', 'V4IV95', 'A0A7L5B2L8', 'A0A3S4BTS2', 'A0A3N6I6U6', 'A0A2H6L413', 'A0A1H5FAR3', 'A0A5P1ZXQ0', 'A0A2N3XK04', 'A0A0H5CJ96', 'A0A6H9GGB4', 'A0A6H9GN56', 'A0A5P2USP6', 'E2Q9D1', 'A0A846ERI6', 'A0A7S8AUA7', 'A0A7C4W5E5', 'A0A3A4WMV8', 'A0A3N1SJX5', 'G2NKF4', 'A0A7K2TXD7', 'A0A327T4H0', 'A0A3D5AFP7', 'A0A3D4WML4', 'A0A099DA34', 'A0A350X9X7', 'A0A7Y4U0K2', 'A0A6G2ZAP6', 'A0A5C9CQS9', 'A0A1D7YBC4', 'A0A1M7M2V9', 'A0A0N1G7V3', 'A0A0D6KDX3', 'A0A1I4VNU7', 'A0A661D4H5', 'A0A6M0GCC0', 'A0A3N1SK36', 'F2RDL7', 'A0A1N7HZ15', 'A0A376DRP1', 'A0A2T7SXC3', 'A0A8I1QFC6', 'A0A678XAW1', 'A0A1Z4LU36', 'R1HT54', 'A0A285QID2', 'A0A8D6NR33', 'A0A2H5B399', 'A0A4Q4DDL3', 'A0A540X8L6', 'A0A1H0P701', 'A0A2X0JCL5', 'A0A1C5GE00', 'A0A0T1QHE5', 'A0A5J4L416', 'A0A3N5TF30', 'A0A3R9UDA1', 'A0A1H7JR69', 'A0A354YXK1', 'E0UMX3', 'A0A7H1BBD4', 'A0A1Q5HJ21', 'A0A848LRJ0', 'A0A5P2A351', 'G7W6U3', 'A0A6I8LTM2', 'A0A1M5H7N8', 'A0A429SN10', 'A0A1Z4N1M6', 'A0A1Z4QMD6', 'A0A0M8VU89', 'A0A4V2S5Y5', 'A0A1M5XDX1', 'E0ULZ4', 'A0A8I2J4R9', 'A0A2U9P173', 'A0A344TXG4', 'A0A7X6CEN3', 'A0A6G9SQA3', 'A0A1Z4G4Z7', 'A0A7J5AWX0', 'A0A6B3M215', 'A0A2S5CJC0', 'A0A1H9CYI1', 'A0A1Z4KBZ5', 'A0A2H5AZ22', 'A0A344LH45', 'A0A2B8AWY2', 'A0A5P9PY72', 'A0A7K2Q308', 'A0A6I5RH71', 'A0A0B5IJM9', 'A0A5P2B2F0', 'E3T490', 'A0A7K3FUV5', 'S3B9A1', 'A0A6C1BYK9', 'A0A8D5RNP2', 'A0A1Z4BZI5', 'A0A2U3C8H7', 'A0A4Y3RVP0', 'A0A518DQN3', 'A0A0J6XNR4', 'A0A0P1EJX7', 'A0A8T4HVR4', 'A0A640S5Q6', 'Q0AW18', 'A0A6P1AB24', 'A0A7L4Y2B3', 'A0A6M3RFS1', 'A0A0L8QVZ9', 'A0A0T6LPE6', 'A0A7W7VGL4', 'A0A3N6IP06', 'A0A0Q9AL03', 'A0A1S2P9V8', 'A0A3S2YPM1', 'G0XS53', 'A0A838A7V8', 'A0A1M3KY52', 'U9VT97', 'Q9ZA45', 'A0A6P0RHT8', 'A0A4R2IKX3', 'A0A074LIF9', 'A0A7Y6XGN5', 'A0A090AFB4', 'A0A845Y7Y0', 'A0A7C3VGV3', 'A0A1Q5IU49', 'B8HTZ0', 'A0A2T4V8J1', 'A0A0L8N2U0', 'A0A0D6KA13', 'A0A2R4K0E8', 'A0A1H5R4Y4', 'A0A250VCJ7', 'A0A8J3S5Y5', 'A0A371XRQ8', 'A0A6G2W2I0', 'A0A1L9AZ42', 'A0A1C6U8N1', 'A0A3R9ELY0', 'A0A2M9M8H2', 'A0A6I5HBC2', 'A0A8J3SN35', 'A0A1Z4JYH4', 'A0A1K1RJS6', 'A0A7K2LXI9', 'A0A6I5GXI3', 'A0A6B3DU63', 'A0A7Y0J8A0', 'A0A3B8Y4I9', 'A0A1I0ZHY1', 'A0A1H5A319', 'A0A8J7FFK2', 'A0A3S8WDM7', 'A0A7C9PT41', 'A0A7W7VWN0', 'D6K3L6', 'A0A849H949', 'A0A1Z4H191', 'A0A367ENV1', 'A0A6M0S623', 'A0A6M0RJQ8', 'A0A6B2DKZ4', 'A0A841WK81', 'A0A1B9EVQ9', 'A0A498AWX0', 'A0A6N7H8E8', 'A0A223D4P4', 'A0A8G0MNW5', 'A0A7Z0SVJ9', 'A0A1E7K2S2', 'A0A1U7I6H5', 'A0A8J3WFD3', 'A0A8J3T443', 'A0A5D4JLH8', 'A0A1I4KZ59', 'A0A6P0KF21', 'A0A139XD50', 'A0A255PSQ1', 'A0A1Q4VEE4', 'A0A5Q0TXK7', 'B1WRK6', 'A0A6I6F3S4', 'A0A8T6P4C3', 'A0A252E474', 'A0A4D4K1P4', 'A0A0H4CIR9', 'A0A428W6U7', 'A0A2T7LQM3', 'A0A066TZ20', 'A0A433UHD5', 'A0A2T4VHC4', 'A0A1H9NA72', 'A0A6G2Q1I7', 'A0A6G2N0A9', 'A0A426SD08', 'A0A1C5ECM0', 'A0A499UU59', 'A0A6N7HR02', 'A0A2E6EXU3', 'A0A2D8UJ15', 'A0A6G7P0S8', 'A0A250IUJ6', 'A0A4Q7J3U6', 'A0A6G3VYA5']\n",
      "8/27 Processing ../raw_sequences/Azoline/LAPs/Sag/Fasta.fa\n"
     ]
    },
    {
     "name": "stdout",
     "output_type": "stream",
     "text": [
      "Got results:\n",
      "['Q9A0K3', 'Q5XCZ7', 'Q48UE9', 'Q1JMK7', 'Q1JHQ2', 'Q1J7H7', 'J7M7A4', 'A0A4U7I6K5', 'A0A0H3BXM7', 'A0A0H2UUD9', 'A0A0E1EP97', 'U2U9D8', 'A0A3P5Y3Y4', 'A0A3L8GF98', 'B4U1J8', 'A0A2X3UZR5', 'A0A6M1KRL0', 'A0A6D2LSB5', 'A0A2X3S529', 'C0MDP8', 'C0M9K2', 'A0A0G6ZT77', 'A0A4V0BY49', 'M4YWM6', 'A0A8B6LB99', 'A0A509DF47', 'A0A4V0F4X6', 'G5K9G8', 'A0A448DMW8', 'A0A380KII4', 'C5WFP4', 'A0A4U9XI33', 'A0A5Q2RPU5', 'A0A5Q2S003', 'A0A4V0CKQ6', 'A0A4U9ZK76', 'A0A4V0H4C1', 'A0A4U9XUL5', 'Q8GP15', 'A0A7G9AZY3', 'A0A380L333', 'A0A2J9X7V9', 'A0A139QGI9', 'F9P4B1', 'A0A892RM16', 'A0A024FA74', 'A0A024F9K8', 'A0A024F8Z1', 'L7P6E5', 'I0SDF3', 'A0A024F915', 'U2Y1X1', 'G5K156', 'A0A0P6SLU4', 'A0A2Z4WC67', 'A0A1S9I6L7', 'B1KV59', 'A0A846J117', 'A0A2K9MM18', 'A0A2P1TVJ5', 'A0A7X5P8Z0', 'A0A7U9GJX5', 'A0A0B4W7U4', 'A0A1J1CX96', 'A0A1L3NLN4', 'A0A0S6U1E6', 'A0A0D1BQF2', 'J7SWK6', 'A0A0M1IXW4', 'A0A0A2HDT3', 'A0A6B4DSW4', 'A0A846I2Q6', 'A0A3F2ZTT1', 'A0A0E1KZV8', 'A0A6G4EB42', 'A0A2G7HIE4', 'A0A6B4JY10', 'A0A6M0XWJ5', 'A0A6M0T2Y5', 'A5HZ34', 'A0A8I0HEN9', 'A0A175M0H0', 'A0A2I4NIP3', 'A0A6B3YL03', 'A0A6B3ZYK0', 'A0A6I1MNV2', 'M1ZQS9', 'A0A6B4YZ69', 'A0A1V9I6T5', 'C1FSG3', 'A0A6B4CXX1', 'A0A6B3X632', 'B1IEJ9', 'A0A6B4FYI7', 'A7GAP4', 'A0A1I0V0Q0', 'A0A381JAZ0', 'A0A1M6HC35', 'A0A7X0VQY7', 'A0A1H0L7L3', 'A0A1M4Y6E5', 'F1TF18', 'A0A1H9Z7J8', 'A0A354HSP2', 'A0A6F8Z0K3', 'A0A6F8XP21', 'A0A8J3JN93', 'A0A895XND1', 'A0A1G4WAK9', 'A0A895Y8V8', 'A0A7X8FQ82', 'A0A8J7GQY1', 'A0A810MVC1', 'A0A8J3Q2X8', 'A0A7Y6GDE4', 'A0A8J8BE67', 'A0A847WN80', 'A0A3N4Z8N9', 'A0A1C5Q6E5', 'A0A1X7H360', 'A0A2A4INX2', 'D5U8R8', 'A0A3B6VMY5', 'K0JMQ3', 'D8ICP2', 'A0A381AER8', 'A0A2N5RF99', 'G0EMF7', 'A0A3B6VR38', 'A0A3B6VAU7', 'A0A0G4K423', 'A0A1E5NS05', 'J9UBC6', 'A0A1E5NE78', 'A0A2U4F2Z3', 'A0A1D2QPZ9', 'A0A2V4EU91', 'A0A256L8P4', 'A0A1L4DG87', 'G0ITQ7', 'A0A1G4Q983']\n",
      "9/27 Processing ../raw_sequences/Azoline/LAPs/ClosD/Fasta.Fa\n",
      "Got results:\n",
      "['A0A0A2HDT3', 'A0A846I2Q6', 'A0A3F2ZTT1', 'A0A0E1KZV8', 'B1IEJ9', 'A0A6B4DSW4', 'A0A2G7HIE4', 'A5HZ34', 'A0A8I0HEN9', 'A0A175M0H0', 'A0A0M1IXW4', 'B1KV59', 'A0A846J117', 'A0A6B4YZ69', 'A0A1V9I6T5', 'A0A6G4EB42', 'A7GAP4', 'A0A2I4NIP3', 'A0A1S9I6L7', 'A0A6M0XWJ5', 'A0A6M0T2Y5', 'A0A6B3ZYK0', 'M1ZQS9', 'C1FSG3', 'A0A6B4CXX1', 'A0A6B3YL03', 'A0A6B3X632', 'A0A6B4JY10', 'A0A6B4FYI7', 'A0A7X5P8Z0', 'A0A7U9GJX5', 'A0A0B4W7U4', 'A0A2K9MM18', 'J7SWK6', 'A0A0D1BQF2', 'A0A2P1TVJ5', 'A0A1J1CX96', 'A0A1L3NLN4', 'A0A0S6U1E6', 'A0A2Z4WC67', 'A0A6I1MNV2', 'A0A381JAZ0', 'A0A1H0L7L3', 'A0A7X0VQY7', 'A0A1I0V0Q0', 'A0A1M4Y6E5', 'A0A6M1KRL0', 'C0M9K2', 'A0A0G6ZT77', 'C0MDP8', 'A0A3L8GF98', 'B4U1J8', 'A0A2X3UZR5', 'A0A2X3S529', 'A0A6D2LSB5', 'A0A3P5Y3Y4', 'A0A7G9AZY3', 'F9P4B1', 'A0A892RM16', 'A0A024FA74', 'A0A024F9K8', 'A0A380L333', 'A0A2J9X7V9', 'A0A139QGI9', 'A0A024F8Z1', 'A0A4V0H4C1', 'U2Y1X1', 'A0A4U9XUL5', 'A0A1M6HC35', 'L7P6E5', 'I0SDF3', 'A0A024F915', 'A0A4U9ZK76', 'A0A448DMW8', 'G5K9G8', 'A0A4U9XI33', 'A0A4V0CKQ6', 'A0A5Q2RPU5', 'M4YWM6', 'A0A8B6LB99', 'A0A509DF47', 'A0A4V0F4X6', 'A0A380KII4', 'A0A0P6SLU4', 'G5K156', 'A0A4V0BY49', 'C5WFP4', 'A0A5Q2S003', 'Q8GP15', 'Q9A0K3', 'Q5XCZ7', 'Q48UE9', 'Q1JMK7', 'Q1JHQ2', 'Q1J7H7', 'J7M7A4', 'A0A4U7I6K5', 'A0A0H3BXM7', 'A0A0H2UUD9', 'A0A0E1EP97', 'U2U9D8', 'A0A354HSP2', 'F1TF18', 'A0A1H9Z7J8', 'A0A1G4WAK9', 'A0A7X8FQ82', 'A0A895XND1', 'A0A895Y8V8', 'A0A6F8Z0K3', 'A0A8J8BE67', 'A0A6F8XP21', 'A0A8J3JN93', 'A0A8J3Q2X8', 'A0A8J7GQY1', 'A0A3N4Z8N9', 'A0A7Y6GDE4', 'A0A810MVC1', 'A0A1X7H360', 'A0A1C5Q6E5', 'A0A847WN80', 'G0ITQ7', 'A0A1L4DG87', 'C0RBN7', 'C0R9G8', 'A0A1G4Q983', 'A0A3B6VR38', 'A0A0G4K423', 'A0A7V6NKG1', 'D5U8R8', 'A0A3B6VAU7', 'A0A381AER8', 'K0JMQ3', 'D8ICP2', 'A0A2N5RF99', 'A0A3B6VMY5', 'A0A2A4INX2', 'A0A1D2QPZ9', 'G0EMF7', 'J9UBC6', 'A0A1E5NS05', 'G9WII0', 'A0A1E5NE78', 'A0A2U4F2Z3', 'A0A7M1Q0H5']\n",
      "10/27 Processing ../raw_sequences/Azoline/LAPs/Mccb17/Fasta.fa\n",
      "Got results:\n",
      "['A0A637A169', 'A0A5V9D089', 'A0A377YUQ3', 'A0A0J2DW11', 'A0A060VNK7', 'S1P7K9', 'B7VF11', 'A0A5V8IU03', 'A0A8S7RCF7', 'A0A5Z7TGH8', 'A0A3K0WFT4', 'P23186', 'A0A3R0K6T0', 'A0A315FUN2', 'A0A2N5AMT6', 'A0A8K0V4N4', 'A0A756IHA5', 'A0A506VB73', 'A0A3M5VFR0', 'A0A3M3SXG0', 'A0A3M3LG74', 'A0A3M3AAK0', 'A0A0P9UW99', 'A0A0N8RPQ8', 'A0A3M4UUF9', 'A0A3M4LKP4', 'A0A3M3A1S0', 'A0A0N8RFT2', 'A0A0P9GSM2', 'A0A3M4T2I8', 'A0A3M4WHD0', 'A0A8I0VTF7', 'A0A2S8Y6R1', 'A0A5E6VAC3', 'J2W9U5', 'A0A1G9ZCJ4', 'A0A3G7UU60', 'A0A0D0S691', 'A0A172Z3N7', 'A0A1D3JV47', 'A0A2N7YFH1', 'A0A3E1I480', 'A0A7Y0ZNB4', 'A0A7Y5YQJ4', 'A0A1N7UK69', 'A0A315T5G2', 'J2XRW1', 'A0A315WXC6', 'A0A7Y0W8G1', 'A0A7Y7WFI6', 'A0A1I4ZCY8', 'A0A3M4GEB3', 'A0A231G0S8', 'A0A1G7VR57', 'A0A285YVL8', 'A0A1H1FWI2', 'A0A7X1KWA9', 'Q88F59', 'A0A8F8BYE1', 'A0A2V4FBV4', 'A0A4Y9TML6', 'J3BNJ3', 'A0A1V2J460', 'A0A246Q8T5', 'A0A7V8RHY0']\n",
      "11/27 Processing ../raw_sequences/Azoline/LAPs/BalhD/Fasta.fa\n",
      "Got results:\n",
      "['C2NCP9', 'A0R9H7', 'A0A7D3YGH3', 'J8JJK8', 'A0A6I6YVX8', 'A0A6I6YN87', 'A0A5B8PR19', 'J3U9N4', 'A0A6I7EJ45', 'A0A7X2B396', 'R8DMB6', 'C2P7R5', 'A0A246PI99', 'A0A4U1MH72', 'A0A8T9NGP1', 'A0A2S5D201', 'A0A4Y9ABZ3']\n",
      "12/27 Processing ../raw_sequences/Azoline/LAPs/plantazolin/Fasta.fa\n",
      "Got results:\n",
      "['C2YNN0', 'A0A2C4PP10', 'A0A2C1ISZ8', 'A0A2B5IVF6', 'A0A7V7LDS5', 'A0A7Z8RLA4', 'A0A2B5K6G2', 'A0A2A7J4G4', 'A0A246PVW2', 'A0A1C4BDG1', 'A0A7V7HSA4', 'A0A2B1DCH2', 'A0A1D3NUS0', 'A0A0G8CDH9', 'A0A243JUE1', 'A0A243GJJ8', 'C2PBY5', 'A0A242ZL24', 'A0A4R4BH15', 'A0A2B0WTH6', 'A0A2A8AX02', 'A0A1C4BJW6', 'A0A4U3B8S8', 'A0A6H0TEX2', 'A0A0G8EBZ6', 'A0A1D3RED1', 'A0A2A7BVV0', 'A0A0J7G547', 'A0A2C4Z9V4', 'A0A6L3BZ92', 'A0A8T9FGP7', 'A0A2A8BU61', 'A0A2B4F326', 'A0A1N6QFF4', 'A0A1C4ARD9', 'A0A8T9ZFA6', 'A0A6H9IGG2', 'A0A1J9SZM6', 'A0A6L5Q758', 'A0A6I7XJS9', 'A0A2B1E6P0', 'A0A2A7IT40', 'A0A1Y6A305', 'A0A420GZ61', 'A0A2A8EMF6', 'A0A2B4NHB7', 'A0A1G4KV18', 'A0A2A8ZXG6', 'A0A2A7E4U9', 'A0A2A7DD60', 'A0A242XLH8', 'A0A556CIR3', 'A0A162PBM2', 'A0A437SJF6', 'A0A6B3KPN6', 'A0A316XIF1', 'A0A2B4LQN5', 'A0A1T2PYB7', 'A0A0F5RPZ7', 'A0A243BKP6', 'C2NEM4', 'A0RB74', 'A0A7D4CDA7', 'A0A2G6Q781', 'A0A6L5LL33', 'A0A2C1LJ64', 'A0A2A8UT65', 'C3GFT8', 'B7JEU6', 'A0A2R2IAW6', 'A0A2C4QQI6', 'A0A2B6CAU0', 'A0A158RKX9', 'A0A0B5NLX1', 'A0A1T2P9E4', 'D8H648', 'A0A7X2AL62', 'A0A1J9VTX6', 'A0A0J1HZ24', 'A0A151UVZ2', 'K0FIP3', 'C2V8S8', 'A0A7T3JL69', 'A0A402GGF0', 'A0A2C5PQF4', 'A0A2B4YVP0', 'A0A242WUC8', 'Q63EB4', 'A0A6M8D2H6', 'A0A329F4W3', 'A0A7V7S836', 'A0A6I6YPP1', 'A0A243IV11', 'Q73BP1', 'A0A6I0BPV3', 'A0A516QNN5', 'A0A1Y6A118', 'A0A136BUX1', 'J8D2V4', 'C2MHS9', 'A0A506QK21', 'A0A2N0YKY2', 'A0A2I0R8V0', 'A0A2C4UXM1', 'A0A150BY04', 'C3FZY3', 'A0A243CSM5', 'J8K9D0', 'A0A7V7L7L1', 'A0A7U6BZX7', 'A0A4S4HZE3', 'C2S0Q4', 'B9IU55', 'B7I0G9', 'A0A6H9IWP6', 'A0A5M9GYS0', 'A0A4Y8T6C6', 'A0A4Y7QX61', 'A0A3R9DV07', 'A0A3G5U635', 'A0A2N1K2G0', 'A0A1Y6A8S5', 'A0A150AYQ2', 'A0A5C5AKK1', 'A0A150EJI6', 'Q6HLT1', 'A0A853XHB5', 'A0A6A2TA41', 'A0A5C5A5T4', 'A0A2S9HG37', 'A0A2M9WXM0', 'A0A0E1MKR6', 'C2VQP1', 'A0A8I1GK52', 'A0A855D084', 'A0A854KN63', 'A0A6L7HPD9', 'A0A6H3AJJ1', 'A0A2B4VS83', 'A0A2K8ZF60', 'A0A1T3V7J1', 'A0A2C1ZLJ5', 'A0A2A8LJQ0', 'A0A7Z8S6T7', 'A0A2B0Y5S1', 'A0A2A7HYI7', 'A0A164CIT2', 'A0A068N4S8', 'A0A242VZK7', 'A0A4P9F399', 'A0A7X2ER56', 'A0A2S9Y8R1', 'A0A2B1KHC6', 'A0A160H9X2', 'A0A2B2NPZ9', 'A0A7X2DVB9', 'A0A4U3C303', 'A0A243MVS1', 'A0A243G5K5', 'A0A1Q9I4P6', 'A0A193CQ71', 'C2USB4', 'A0A5C4ZG74', 'A0A2B9U4W3', 'A0A2A7GQZ2', 'A0A1J9VFA3', 'A0A2T0EHT3', 'A0A6I5J8H1', 'W8XZR7', 'R8MUV8', 'R8EV78', 'C2X8U3', 'C2WJH0', 'C2NVW6', 'A0A8E2GB21', 'A0A8B2VT48', 'A0A828XJ03', 'A0A7X2EFM9', 'A0A6I7E9J7', 'A0A5B8PEX6', 'A0A2N3NUB6', 'A0A2B3DDQ6', 'A0A2B2LXL6', 'A0A2A8PQK9', 'A0A2A8M5E1', 'A0A2A7CEG1', 'A0A243H263', 'A0A243C7J7', 'A0A1H5V601', 'A0A0F6FZF0', 'A0A023P432', 'R8UE28', 'N1LGD3', 'J8I311', 'C2R541', 'A0A5B9HS45', 'A0A3D5U4N1', 'A0A345X577', 'A0A249X7H3', 'A0A1C9BQ90', 'A0A0J7H3M1', 'R8I345', 'J8L9U8', 'J8IEV1', 'C3E0K2', 'A0A806HTA7', 'A0A7V7I7S6', 'A0A7V7GYC0', 'A0A7M3FVJ1', 'A0A5P8F7L3', 'A0A4E7PN33', 'A0A3Q9HUI2', 'A0A369CWG1', 'A0A2C2LLD7', 'A0A2B3UM28', 'A0A2B3QD06', 'A0A2B0DZM0', 'A0A2A7HBE5', 'A0A242YCK6', 'A0A1W2GTQ4', 'A0A0D1QS88', 'V5M914', 'R8DDG6', 'Q813U7', 'M1Q5N1', 'C2SXY0', 'A0A853ZE94', 'A0A826H6B3', 'A0A7Z8WDE3', 'A0A5P9XZZ6', 'A0A5F0X641', 'A0A2S8W4M5', 'A0A2B0KS17', 'A0A229M8Y4', 'A0A1B1L2E3', 'R8PGW5', 'C2Z4W9', 'B7HH16', 'A0A855DZL0', 'A0A7V8CNU9', 'A0A443GRK4', 'A0A2J9DQQ2', 'A0A2B9QH95', 'A0A243DD40', 'A0A242ZSM1', 'R8HBL1', 'B7IM91', 'A0A679H849', 'A0A5C1FBY3', 'A0A4V5TWN7', 'A0A4U2NXR1', 'A0A2C1BVA6', 'A0A2A8ED67', 'A0A2A2PAM8', 'A0A243EKB5', 'A0A7X2E217', 'A0A1S7F259', 'J8HHP2', 'C3GY20', 'A0A6L3WFG6', 'A0A386ZTV7', 'A0A2T7YU29', 'A0A2A9T1F7', 'A0A243EY45', 'A0A1S9YZK9', 'A0A243A1I7', 'A0A1C3T5J1', 'A0A5E9JA59', 'A0A221BTG1', 'J7WBW1', 'J3ZY29', 'C3DGT5', 'C2UAW4', 'A0A6L3BJT0', 'A0A3D9VAN0', 'A0A366GDK9', 'A0A2H3QMR2', 'A0A2B3KKX9', 'A0A243MI29', 'A0A243K5K4', 'A0A1S9TCP4', 'A0A150BRW7', 'A0A0K0Q946', 'A0A0D0R3B5', 'R8N8S9', 'R8HS10', 'A9VJX6', 'A0A855ANU6', 'A0A653WZZ9', 'A0A2K8TN56', 'A0A243E2G7', 'A0A1I3ZPI8', 'A0A1E8BRZ5', 'A0A109FTY8', 'A0A6N2HAU1', 'A0A2T0F8I9', 'A0A243LUN5', 'A0A243JZX9', 'A0A6L5MEE4', 'A0A443T9D0', 'A0A226QVJ7', 'A0A854YII5', 'A0A5M8SEB3', 'A0A150D3L0', 'J7W3W5', 'A0A2S8V0H8', 'R8SG80', 'J8CUF9', 'J8BE04', 'C2SGZ8', 'A0A8I1H016', 'A0A6H9J4Q7', 'A0A6D1T1H5', 'A0A433M475', 'A0A2B0A057', 'A0A243BBG6', 'A0A1D3N439', 'A0A0B5SHL4', 'A0A0A0WR42', 'J9C9V8', 'A0A4Q9YLT5', 'A0A2B3DY08', 'A0A243DQ72', 'A0A328MFI4', 'A0A2S9HX71', 'A0A6I2ER57', 'A0A1W6A5E1', 'J8F1E9', 'J8ASH1', 'A0A328L352', 'A0A2C5QAB2', 'A0A243JD32', 'A0A1S9TSC7', 'A0A1X6Q6C3', 'J8FIA2', 'A0A1S9SEI7', 'J8HRF9', 'C2PSZ5', 'A0A6I2ASD8', 'A0A2C1DH54', 'A0A1E8BBR0', 'R8QLQ4', 'C2XQZ9', 'A0A1G4ED01', 'A0A2A8U9T4', 'A0A1V9W2I1', 'J8K0D6', 'A0A2A8Z2E1', 'A0A1J9VFD8', 'A0A0J6LD79', 'A0A2B1FFM1', 'A0A2B9E6X9', 'A0A090YLV8', 'A0A1Y3MEJ3', 'R8PEG0', 'A0A2B5UYY1', 'C3AUU0', 'C3BHH9', 'A0A2H3MT36', 'A0A1S8G9V4', 'A0A854ZXX5', 'A7GMD1', 'A0A7Z1G815', 'A0A2S1A8A3', 'A0A2A7GYD2', 'A0A073KIP5', 'A0A2C2TKX0', 'A0A1H3RF08', 'A0A2A8RQU5', 'C2WFM7', 'A0A2B1YRF9', 'A0A2B0LE65', 'A0A7W0BYL5', 'A0A150MAH3', 'A0A8F5C6B0', 'A0A150M7B6', 'A0A023DEE5', 'A0A6G9J1A3', 'A0A226QN69', 'A0A5C8MRV9', 'A0A023CS17', 'A0A1B7KUG5', 'C5D552', 'A0A7W0BWG8', 'A0A4R1QFG0', 'A0A369WH22', 'A0A8S0L6K2', 'A0A327YEC5', 'A0A7U3YHS4', 'A0A178TV90', 'A0A1Y3PGC1', 'A0A3R9N0D6', 'A0A6M1UBW3', 'A0A6I1FRA0', 'A0A6L3VFE1', 'A0A2N5GLC3', 'A0A2N0ZIH4', 'A0A2A8S842', 'A0A1I6TEY6', 'A0A8D5UE44', 'A0A1A5XKI5', 'A0A7Z1KAR7', 'A0A553KN46', 'A0A292YP87', 'A0A0M4FE11', 'A0A2V3AAY6', 'A0A8J2VJA2', 'A0A562K6V1', 'A0A4U1D0Q9', 'A0A3A3GJV3', 'A0A7G3DUM2', 'A0A4R2BJR3', 'A0A3G9IKQ4', 'A0A2N5FBY5', 'A0A1I1K6A1', 'V6MCE6', 'I3E903', 'A0A2N5GTF8', 'A0A4V3B4F6', 'A0A0M0GDF0', 'H3SDN0', 'A0A3N6CG26', 'A0A1E1VN55', 'A0A378ZNA1', 'A0A8G0YBB6', 'A0A511VBW2', 'A0A1X7GBJ3', 'A0A1H9X4Z2', 'A0A1G8BM83', 'A0A109QIU5', 'A0A559K6L1', 'A0A383RB78', 'A0A7H1QSH3', 'D5DU93', 'A0A7W3N7M9', 'A0A368VQH8', 'A0A1I4C340', 'I3DVS6', 'A0A561DJF1', 'A0A3M8BXK7', 'A0A3A5IXQ5', 'A0A3E0RCC2', 'A0A3M8CR10', 'A0A1T2X1E1', 'A0A553KG20', 'A0A259T3Q6', 'A0A4Y8U428', 'A0A3M8DTL5', 'A0A371SMJ1', 'A0A0K9GV37', 'A0A3M8CPL2', 'A0A2A8FDM0', 'A0A6I0BQ00', 'A0A3Q9RMJ5', 'A0A7X3IES2', 'A0A7I8D8K2', 'A0A398B7B0', 'A0A1B8UWN2', 'K6DW91', 'A0A4S4C5B4', 'A0A329ESN2', 'A0A1I2CBX8', 'N0AKL0', 'S9TZQ1', 'K6CFU3', 'A0A7Z1FSD7', 'A0A3Q9SIS6', 'A0A268JXG9', 'A0A5B8Z8W9', 'A0A7Y9BGQ6', 'A0A544VE35', 'A0A398BGA9', 'A0A372LGU3', 'A0A3D8GUB1', 'A0A7W2AQZ8', 'A0A852T9I8', 'A0A7W2A9W6', 'A0A268E4L6', 'A0A0Q3WJI5', 'A0A7W1XB68', 'A0A1H0AZH0', 'A0A1G7MYT9', 'A0A443ITZ6', 'A0A0M1NV52', 'A0A0D7KPD3', 'A0A098EVA1', 'A0A345PDK0', 'A0A429XB68', 'A0A0U1NXZ7', 'A0A8G0HU51', 'A0A4R8GHH4', 'A0A4R1APU5', 'A0A3D8PXQ6', 'A0A366K2T4', 'A0A0Q3QTW8', 'A0A7X2ZCS1', 'A0A0U2W9H4', 'A0A480BFT1', 'A0A072NGX4', 'A0A8J3F251']\n",
      "13/27 Processing ../raw_sequences/Azoline/LAPs/Heterocycloanthracins/Fasta.fa\n"
     ]
    },
    {
     "name": "stdout",
     "output_type": "stream",
     "text": [
      "Got results:\n",
      "['A0A6L7HPD9', 'A0A6H3AJJ1', 'C3FZY3', 'A0A243CSM5', 'C3GFT8', 'B7JEU6', 'A0A2R2IAW6', 'A0A2B6CAU0', 'A0A0B5NLX1', 'A0A7X2AL62', 'A0A0J1HZ24', 'A0A1J9VTX6', 'C2NEM4', 'A0RB74', 'A0A7D4CDA7', 'Q6HLT1', 'C2VQP1', 'A0A6H9IWP6', 'A0A6A2TA41', 'A0A4Y8T6C6', 'A0A4Y7QX61', 'A0A3R9DV07', 'A0A2S9HG37', 'A0A150AYQ2', 'A0A1T3V7J1', 'Q63EB4', 'A0A6M8D2H6', 'A0A2K8ZF60', 'A0A6I2ASD8', 'A0A242VZK7', 'D8H648', 'A0A7U6BZX7', 'A0A4S4HZE3', 'A0A2S9Y8R1', 'A0A243BKP6', 'A0A1T2PYB7', 'A0A158RKX9', 'A0A0F5RPZ7', 'A0A2N1K2G0', 'A0A437SJF6', 'C2S0Q4', 'B9IU55', 'B7I0G9', 'A0A5M9GYS0', 'A0A402GGF0', 'A0A3G5U635', 'A0A1Y6A8S5', 'A0A329F4W3', 'J8D2V4', 'C2MHS9', 'A0A2N0YKY2', 'A0A5C5AKK1', 'A0A316XIF1', 'A0A150BY04', 'A0A853XHB5', 'A0A5C5A5T4', 'A0A2M9WXM0', 'A0A0E1MKR6', 'A0A7Z8S6T7', 'A0A2B4LQN5', 'A0A068N4S8', 'A0A6I6YPP1', 'A0A4P9F399', 'A0A8T9ZFA6', 'A0A6B3KPN6', 'A0A1J9SZM6', 'A0A556CIR3', 'A0A162PBM2', 'A0A6L5LL33', 'A0A7V7S836', 'A0A7V7L7L1', 'A0A150EJI6', 'A0A1T2P9E4', 'A0A4R4BH15', 'A0A2C4PP10', 'A0A2A7IT40', 'A0A1C4ARD9', 'A0A0G8CDH9', 'C2YNN0', 'A0A2C1ISZ8', 'A0A2B4F326', 'A0A7Z8RLA4', 'A0A7V7HSA4', 'A0A2B1DCH2', 'A0A2A7J4G4', 'A0A246PVW2', 'A0A243JUE1', 'A0A1D3RED1', 'A0A1D3NUS0', 'A0A1C4BDG1', 'A0A7X2ER56', 'A0A160H9X2', 'A0A7V7LDS5', 'A0A6H0TEX2', 'A0A2G6Q781', 'A0A5C4ZG74', 'A0A8T9FGP7', 'A0A516QNN5', 'A0A2C4QQI6', 'A0A1Y6A305', 'A0A2A7E4U9', 'A0A2A7DD60', 'A0A243IV11', 'A0A242XLH8', 'A0A2B5K6G2', 'A0A2A8BU61', 'A0A2C1ZLJ5', 'A0A2B0Y5S1', 'A0A2A8ZXG6', 'A0A164CIT2', 'W8XZR7', 'C2NVW6', 'A0A8E2GB21', 'A0A7X2EFM9', 'A0A5B8PEX6', 'A0A2N3NUB6', 'A0A2A8M5E1', 'A0A151UVZ2', 'A0A023P432', 'A0A1C4BJW6', 'A0A7X2DVB9', 'A0A4U3C303', 'A0A4U3B8S8', 'A0A2C1BVA6', 'A0A2B5IVF6', 'A0A2B0WTH6', 'A0A2A8AX02', 'A0A2A7GQZ2', 'A0A243MVS1', 'A0A243G5K5', 'A0A1Q9I4P6', 'A0A193CQ71', 'B7HH16', 'A0A6I0BPV3', 'A0A2C4Z9V4', 'A0A242ZL24', 'Q73BP1', 'A0A420GZ61', 'A0A2B9U4W3', 'A0A2B1E6P0', 'A0A1Y6A118', 'A0A1C9BQ90', 'A0A136BUX1', 'K0FIP3', 'C2V8S8', 'A0A7T3JL69', 'A0A2C5PQF4', 'A0A2B4YVP0', 'A0A2B2NPZ9', 'A0A2A8LJQ0', 'A0A243GJJ8', 'A0A242WUC8', 'A0A1J9VFA3', 'A0A2T7YU29', 'R8UE28', 'R8MUV8', 'R8EV78', 'C2X8U3', 'C2WJH0', 'A0A8B2VT48', 'A0A828XJ03', 'A0A806HTA7', 'A0A7V7I7S6', 'A0A6L5Q758', 'A0A6I7E9J7', 'A0A6H9IGG2', 'A0A4E7PN33', 'A0A369CWG1', 'A0A2B3DDQ6', 'A0A2A7CEG1', 'A0A243H263', 'A0A243C7J7', 'A0A242YCK6', 'A0A1H5V601', 'A0A0F6FZF0', 'N1LGD3', 'J8I311', 'B7IM91', 'A0A6I5J8H1', 'A0A5B9HS45', 'A0A2C1LJ64', 'A0A2B3QD06', 'A0A2A8UT65', 'A0A2A8ED67', 'A0A2A2PAM8', 'A0A249X7H3', 'A0A243EY45', 'A0A242ZSM1', 'A0A1W2GTQ4', 'A0A0J7H3M1', 'C2R541', 'A0A506QK21', 'A0A3D5U4N1', 'A0A2I0R8V0', 'A0A2C4UXM1', 'A0A2B2LXL6', 'A0A2B0DZM0', 'A0A2A7HBE5', 'Q813U7', 'J8IEV1', 'C2SXY0', 'C2PBY5', 'A0A853ZE94', 'A0A7X2E217', 'A0A7V7GYC0', 'A0A7M3FVJ1', 'A0A5F0X641', 'A0A5C1FBY3', 'A0A443GRK4', 'A0A3Q9HUI2', 'A0A2B4NHB7', 'A0A2B0KS17', 'A0A243EKB5', 'A0A229M8Y4', 'A0A1S7F259', 'A0A1G4KV18', 'V5M914', 'M1Q5N1', 'J8L9U8', 'J8K9D0', 'C3E0K2', 'A0A826H6B3', 'A0A7V8CNU9', 'A0A679H849', 'A0A5P9XZZ6', 'A0A4V5TWN7', 'A0A4U2NXR1', 'A0A2S8W4M5', 'A0A2J9DQQ2', 'A0A2B3KKX9', 'A0A2A7BVV0', 'A0A243K5K4', 'A0A243DD40', 'A0A1B1L2E3', 'A0A150D3L0', 'A0A0K0Q946', 'A0A0J7G547', 'A0A0D1QS88', 'A0A0D0R3B5', 'A0A855DZL0', 'A0A5P8F7L3', 'A0A221BTG1', 'A0A1N6QFF4', 'R8HBL1', 'J7WBW1', 'J3ZY29', 'C3DGT5', 'A0A2H3QMR2', 'A0A243MI29', 'A0A8I1GK52', 'A0A855D084', 'A0A855ANU6', 'A0A854KN63', 'A0A2K8TN56', 'A0A2B4VS83', 'A0A2A7HYI7', 'A0A1S9YZK9', 'A0A1I3ZPI8', 'A0A6N2HAU1', 'A0A2T0F8I9', 'A0A2A9T1F7', 'C2UAW4', 'A0A854YII5', 'A0A6L3BZ92', 'A0A5M8SEB3', 'A0A6L5MEE4', 'A0A6L3BJT0', 'A0A5E9JA59', 'A0A243LUN5', 'R8SG80', 'A0A8I1H016', 'A0A6H9J4Q7', 'A0A6D1T1H5', 'A0A433M475', 'A0A2B9QH95', 'A0A2B0A057', 'A0A243JZX9', 'A0A243E2G7', 'A0A243BBG6', 'J8HHP2', 'C3GY20', 'A0A6L3WFG6', 'A0A386ZTV7', 'A0A2B3DY08', 'A0A243JD32', 'A0A0G8EBZ6', 'A0A6I7XJS9', 'A0A2C5QAB2', 'A0A243DQ72', 'R8I345', 'C2USB4', 'A0A6I2ER57', 'A0A443T9D0', 'A0A2T0EHT3', 'A0A2C2LLD7', 'A0A2B3UM28', 'A0A226QVJ7', 'R8PGW5', 'C2Z4W9', 'A0A2B1KHC6', 'A0A345X577', 'R8DDG6', 'J8BE04', 'A0A1D3N439', 'A0A2A8PQK9', 'A0A2A8EMF6', 'A0A1E8BRZ5', 'J8FIA2', 'J8CUF9', 'A0A2S8V0H8', 'A0A1S9SEI7', 'J8ASH1', 'A0A2C1DH54', 'A0A1E8BBR0', 'C2XQZ9', 'R8QLQ4', 'A0A1G4ED01', 'J9C9V8', 'A0A243A1I7', 'A0A1S9TCP4', 'A0A109FTY8', 'R8N8S9', 'R8HS10', 'J7W3W5', 'A9VJX6', 'A0A653WZZ9', 'A0A3D9VAN0', 'A0A366GDK9', 'A0A7Z8WDE3', 'C2SGZ8', 'A0A0A0WR42', 'A0A2A8U9T4', 'A0A4Q9YLT5', 'A0A328MFI4', 'A0A1C3T5J1', 'A0A150BRW7', 'A0A1W6A5E1', 'A0A2S9HX71', 'A0A1V9W2I1', 'A0A0B5SHL4', 'J8HRF9', 'C2PSZ5', 'A0A1X6Q6C3', 'A0A328L352', 'J8F1E9', 'A0A1S9TSC7', 'J8K0D6', 'A0A2B9E6X9', 'A0A2B1FFM1', 'A0A2A8Z2E1', 'A0A0J6LD79', 'A0A1J9VFD8', 'A0A090YLV8', 'A7GMD1', 'A0A2S1A8A3', 'R8PEG0', 'C3BHH9', 'A0A2H3MT36', 'A0A7Z1G815', 'A0A2A7GYD2', 'C3AUU0', 'A0A1Y3MEJ3', 'A0A2B5UYY1', 'A0A1S8G9V4', 'A0A854ZXX5', 'A0A2C2TKX0', 'A0A1H3RF08', 'A0A2A8RQU5', 'A0A073KIP5', 'C2WFM7', 'A0A2B1YRF9', 'A0A2B0LE65', 'A0A7W0BYL5', 'A0A8F5C6B0', 'A0A150M7B6', 'A0A023DEE5', 'A0A023CS17', 'A0A1B7KUG5', 'A0A7W0BWG8', 'A0A150MAH3', 'A0A6G9J1A3', 'A0A226QN69', 'A0A5C8MRV9', 'A0A369WH22', 'A0A8S0L6K2', 'C5D552', 'A0A7U3YHS4', 'A0A178TV90', 'A0A1Y3PGC1', 'A0A4R1QFG0', 'A0A327YEC5', 'A0A7Z1KAR7', 'A0A2N0ZIH4', 'A0A6I1FRA0', 'A0A2A8S842', 'A0A1I6TEY6', 'A0A1I1K6A1', 'A0A6M1UBW3', 'A0A1E1VN55', 'A0A1A5XKI5', 'A0A3G9IKQ4', 'A0A8D5UE44', 'A0A562K6V1', 'A0A553KN46', 'A0A1I2CBX8', 'I3E903', 'A0A378ZNA1', 'A0A2V3AAY6', 'A0A8J2VJA2', 'A0A292YP87', 'A0A4U1D0Q9', 'A0A3R9N0D6', 'A0A3Q9RMJ5', 'V6MCE6', 'A0A7G3DUM2', 'A0A383RB78', 'A0A2N5GTF8', 'A0A2N5GLC3', 'A0A3A3GJV3', 'A0A3M8CR10', 'A0A0M0GDF0', 'A0A7I8D8K2', 'A0A4R2BJR3', 'A0A3M8DTL5', 'A0A1I4C340', 'A0A7X3IES2', 'A0A6L3VFE1', 'A0A3M8BXK7', 'A0A3E0RCC2', 'A0A0K9GV37', 'A0A398BGA9', 'K6CFU3', 'A0A1G7MYT9', 'A0A4V3B4F6', 'A0A1B8UWN2', 'N0AKL0', 'A0A544VE35', 'A0A0M4FE11', 'A0A559K6L1', 'A0A0D7KPD3', 'A0A259T3Q6', 'A0A1T2X1E1', 'S9TZQ1', 'I3DVS6', 'H3SDN0', 'A0A2N5FBY5', 'A0A561DJF1', 'A0A7Z1FSD7', 'A0A511VBW2', 'K6DW91', 'A0A3M8CPL2', 'A0A1X7GBJ3', 'A0A8G0YBB6', 'A0A1G8BM83', 'A0A109QIU5', 'A0A371SMJ1', 'D5DU93', 'A0A7W3N7M9', 'A0A2A8FDM0', 'A0A368VQH8', 'A0A429XVH5', 'A0A7Y9BGQ6', 'A0A553KG20', 'A0A398B7B0', 'A0A268JXG9', 'A0A3A5IXQ5', 'A0A1H9X4Z2', 'A0A7W1XB68', 'A0A6I0BQ00', 'A0A4Y8U428', 'A0A7W2AQZ8', 'A0A7H1QSH3', 'A0A372LGU3', 'A0A072NGX4', 'A0A443ITZ6', 'A0A0U1NXZ7', 'A0A3N6CG26', 'A0A480BFT1', 'A0A0U2W9H4', 'A0A345PDK0', 'A0A1H0AZH0', 'A0A7W2A9W6', 'A0A4S4C5B4', 'A0A3Q9SIS6', 'A0A268E4L6', 'A0A3D8PUI0', 'A0A2B2C8L3', 'A0A329ESN2', 'A0A4R8GHH4', 'A0A366K2T4', 'A0A248TG05', 'A0A852T9I8', 'A0A098EVA1', 'A0A073JWK2', 'A0A429XB68', 'A0A6I7FBN0', 'A0A0Q3WJI5', 'A0A0M1NV52', 'A0A7X2ZCS1', 'H0U7X3']\n",
      "14/27 Processing ../raw_sequences/Azoline/LAPs/Azolemycin_updated/Fasta.fa\n",
      "Got results:\n",
      "['A0A3S8WK97', 'A0A5J6HUA2', 'A0A8T4IKE7', 'A0A1C5BP61', 'A0A6G2S0T8', 'A0A401R4D2', 'A0A2M9LM53', 'A0A059WAL4', 'A0A4U0RTK4', 'A0A3R9XV70', 'A0A142D836', 'A0A1R1S905', 'A0A2P8I1F6', 'A0A852YPU6', 'A0A1M4ZHL8', 'A0A839N5Q4', 'A0A7C6QRP3']\n",
      "15/27 Processing ../raw_sequences/Azoline/Cyanobactins/Cyanobactins_Mus/Fasta.fa\n",
      "Got results:\n",
      "['A0A5Q0TWV7', 'A0A5Q0TXK7', 'A0A841WK81', 'E0UMX3', 'A0A8D6NR33', 'D8G188', 'A0A0D6KN79', 'A0A846DBR4', 'K9RMB3', 'A0A846GSF1', 'A0A350Y0Y3', 'A0A7Z9C271', 'A0A328I5V0', 'A0YXD2', 'A0A1Z4QMD6', 'A0A355DQZ2', 'A0A6P0RHT8', 'A0A0M1JU92', 'A0A822LBS3', 'A0A552FCL4', 'A0A846ABY3', 'A0A845Y7Y0', 'A0A6L9ZUD4', 'B2KYG8', 'A0A6P0HTK1', 'A0A166XYF7', 'A0A6P0XHA0', 'H1W859', 'A0A6M0FLX7', 'A0A350X9X7', 'A0A6P0NZB9', 'A0A352X3V7', 'Q112J9', 'A0A846G8X9', 'A0A166XY79', 'A0A5Q4H6E3', 'K9VLB2', 'A0A7C9PT41', 'A0A6I5RH71', 'A0A6M0S623', 'A0A6M0RJQ8', 'A0A6L9ZF47', 'A0A6H9GIQ3', 'A0A1Z4KBZ5', 'A0A6P0KVZ0', 'L7EB34', 'A8Y998', 'A0A3N0X0V8', 'A0A1D9G459', 'B2KYG1', 'A0A845WWA1', 'S3JD46', 'I4HNZ7', 'A0A552CBV2', 'A0A367Q6E1', 'A0A0D6KA13', 'I4H1I7', 'A0A552LCQ7', 'A0A552AVC8', 'A8YE43', 'A0A1X9LB16', 'A0A1E4Q845', 'E0U9F8', 'A0A1D8TWC4', 'A0A1Z4IW12', 'A0A6P0YQ71', 'A0A6M0F0C1', 'A0A846D6K2', 'A0A6P0I5R1', 'B4W006', 'A0A6P0LH81', 'A0A6P0NBN5', 'A0A6P0ZZ22', 'A0A1Z4Q1A6', 'A0A6M0FJG2', 'Q52QI6', 'A0A1U7H836', 'A0A845W5V1', 'A0A6P0J9X0', 'A0A6P0INS1', 'A0A6M0BK35', 'A0A6B3MWR8', 'A8YAZ7', 'A0A1X9LBP4', 'A0A0A1VSD2', 'A0A845X128', 'A0A2L2N442', 'A0A846GH62', 'I4H360', 'A0A1Z4S7K7', 'A0A235IR86', 'A0A1Y0RJ65', 'K9WBM2', 'A0A846EKY2', 'A0A8J7FFK2', 'A0A6P0T1L9', 'A0A433UJ44', 'A3IYQ0', 'A0A8J7AFF3', 'A0A6P0MDL0', 'A0A6P0TSA9', 'A0A552AIU3', 'A0A845Z598', 'A0A235HQK9', 'A0A6P0P3B8', 'K9WVA9', 'K9Z9X5', 'B8HTZ0', 'A0A846AEB3', 'A0A845YCC7', 'A0A6B3NZX6', 'A0A6P0WUP2', 'A0A6P0VGF4', 'A0A846BG41', 'A0A3N6PE57', 'A0A846DPP7', 'E0ULZ9', 'A0A2R5FL30', 'A0A6P0KJB4', 'A0A1D8U2T0', 'A0A7C1VVK8', 'A0A496V9L2', 'A0A1W9X7G5', 'A0A841UX50', 'A0A367R1H7', 'A0A6P0MJG5', 'A0A6L9ZF50', 'A0A6P0WT63', 'A0A1E5QQQ5', 'A0A6P0LJL1', 'A0A367R8F2', 'A0A6M0EXK8', 'A0A6B3NCT4', 'A0A8J6X906', 'A0A845WKL8', 'A0A6P0K631', 'A0A1D9G9V9', 'A0A6P0L3T8', 'A0A846DV02', 'A0A6G3Z7G9', 'A0A8J6S5L3', 'A0A2K8T8P2', 'A0A401IKN4', 'A0A6B3MAW0', 'A0A3C0N9U9', 'A0A352X4N4', 'A0A352AGG0', 'A0A6P0TI24', 'A0A7X6CEN3', 'A0A350Y3Z4', 'A0A552KNM0', 'I4IPB7', 'A0A8D5TTY5', 'A0A139GKM4', 'A0A551YPV7', 'A0A352AKD1', 'A0A8J3T443', 'A0A2Z6CWK0', 'I4FY24', 'A0A3E0MB92', 'A0A139XD50', 'B7KLY0', 'A0A8J3SN35', 'A0A2Z6UQL9', 'A0A8J3S5Y5', 'A0A510PLJ4', 'A0A1Z4L5N2', 'A0A7C9TV49', 'A0A551Y3K9', 'A0A2I8A448', 'A0A552GF80', 'A0A552HLQ6', 'A0A552FG89', 'A0A6H9GGB4', 'A0A7C4W5E5', 'A0A661D4H5', 'A0A6H9GN56', 'A0A552DW21', 'A0A0F6U6A0', 'A0A3E0LQQ9', 'A0A6L9ZKZ3', 'A0A2H6L413', 'A0A7C1ZYB9', 'A0A496V9H6', 'A0A1W9X655', 'A0A552IFB6', 'A0A857D5T2', 'I4HXX8', 'A0A5A5RPS9', 'A0A1V4BTG7', 'A0A0K1S273', 'A0A841UMX3', 'A0A1Z4G4Z7', 'B0JLW1', 'A0A3G9JCP9', 'A0A6P0P8F9', 'I4G7M8', 'A0A2L2XNB6', 'A0A552AF07', 'A0A352X845', 'A0A2I8A4Z0', 'A0A1Z4KC23', 'A0A367QE11', 'A0A1Z4QS72', 'A0A0C1NGI1', 'A0A352AMH9', 'A0A6P1AB24', 'A0A0S6UX82', 'A0A844MN60', 'A0A218PYJ6', 'A0A3B8Y4I9', 'A0A6P0N175', 'A0A1C0VWY3', 'A0A6P0SLR0', 'A0A6P1ZTH0', 'A0A6P0R6S9', 'A0A6P0RPZ5', 'A0A139WUH2', 'A0A841WIE2', 'A0A846ERI6', 'A0A6P0V0C1', 'A0A6P0JND9', 'A0A6P0I8T9', 'A0A6M0BC79', 'A0A6M0A2Z8', 'A0A6L9ZE47', 'A0A6L9YB94', 'A0A1U7NAK9', 'A0A2K8T3H9', 'A0A139XCW6', 'A0A1Z4H0T8', 'A0A0C2KQH6', 'A0A6P0M1N7', 'A0A7C9TVU1', 'A0A1U7HEY7', 'D8FWK1', 'A0A0D6KDX3', 'A0A355DUA7', 'A0A7C9PR35', 'A0A1Z4H191', 'A0A3N5T2T9', 'A0A6P1AB33', 'K9T3I9', 'A0A1U7I6H5', 'K9VBG7', 'A0A1Z4N1M6', 'A0A355DW01', 'A0A844MI29', 'A0A846C768', 'A0A6M0GCC0', 'A0A7C9PT65', 'A0A0C1R8R5', 'A0A316DPG7', 'A0A7Y4U0K2', 'G7W6U3', 'A0A252E474', 'A0A252EDJ7', 'U9VT97', 'A0A433UHD5', 'K9TQ74', 'A0A1Z4JYH4', 'A0A0D7P7Y9', 'A0A350XED8', 'A0A6P0YD84', 'A0A090AFB4', 'A0A6B3M215', 'A0A6G9SQA3', 'A0A0C1NIG7', 'A0A252DRG7', 'A0A7C2F277', 'A0A6N8B265', 'A0A8J6X920', 'A0A5C9CQS9', 'A0A7D4XI14', 'A0A2T4VHC4', 'A0A7C3VGV3', 'A0A4U3MNE5', 'E0ULZ4', 'A0A1M5XDX1', 'A0A354YXK1', 'A0A6N7PQ17', 'A0A1Z4LU36', 'A0A4U1JHJ6', 'A0A1E2WGD6', 'A0A846BTC6', 'G0XS53', 'A0A6M5YI80', 'B1WRK6', 'A0A0N1FRW2', 'A0A1Q3HPD3', 'A0A084SEM6', 'Q0AW18', 'A0A6P0UZN9', 'A0A6P0KF21', 'A0A3D8JRY5', 'A0A518DQN3', 'A0A223D4P4', 'A0A3A4KFU0', 'A0A6N7PJX0', 'A0A6M0G2R6', 'A0A2T4V8J1', 'A0A3N5TF30', 'A0A1Z4BZI5', 'A0A2S5CJC0', 'A0A1M7M2V9', 'A0A1L9AZ42', 'A0A849H949', 'A0A0K1EF34', 'A0A376DRP1', 'A0A8D5RNP2', 'A0A2N3KQT9', 'A0A3M1K6A8', 'Q3C2F7', 'S9QTM4', 'A0A0Q4EBL5', 'A0A429BUN2', 'A0A1I4VNU7', 'A0A1H8RJF1', 'A0A1N7HZ15', 'A0A8J3W0R6', 'A0A1M5H7N8', 'A0A8T6P4C3', 'A0A250IUJ6', 'A0A3M1PYK6', 'A0A1S2PZ02', 'A0A1I7IUW3', 'A0A561EVG6', 'A0A3A4KQK7', 'Q3B4I7', 'A0A3A4WMV8', 'A0A1H6EYM7', 'A0A2E6EXU3', 'A0A2D8UJ15', 'A0A4P2Q3A2', 'A0A344LH45', 'A0A554VAX1', 'A0A561EXY3', 'A0A085WV69', 'A0A074LIF9', 'A0A1G9HK63', 'A0A7W9LCI7', 'A0A327T4A4', 'A0A1H7KQY6', 'A0A7W7SD74', 'A0A646KMR0', 'Q092U8', 'A0A1H7TLQ6', 'A0A4R4WXW0', 'A0A1I0HTW7', 'A0A8G1XAE6', 'A0A3N4RI54', 'A0A066Z0M9', 'A0A7Y6XGN5', 'A0A419YL90', 'A0A7H8KWJ5', 'A0A6B2WGA0', 'A0A6B2VLL3', 'A0A5R9M700', 'W5T7A4', 'A0A1V2QTB8', 'A0A0A2CLL8', 'A0A540X8L6', 'A0A429BD25', 'A0A2R4TB82', 'A0A428ZQZ0', 'A0A8J3WFD3', 'A0A848LRJ0', 'A0A542SXF5', 'A0A839PVX8', 'A0A3D4R4H7', 'A0A1Q5EUQ2', 'A0A1H3DG54', 'A0A495Y2C4', 'A0A852ZNF8', 'A0A3A8NLF5', 'A0A1H9CYI1', 'A0A3D5AFP7', 'A0A3D4WML4', 'E4NFR8', 'A0A8I1QFC6', 'A0A1Y5X096', 'A0A544YFP0', 'A0A5J5J1M0', 'A0A0G2ZG73', 'A0A7Z1AVN4', 'A0A2L0F4G9', 'A0A2A3I1M7', 'A0A0K3BP57', 'A0A1H8Y709', 'A0A0N9I2T4', 'A0A8G0MNW5', 'A0A1N7DAS4', 'A0A6B2WBN4', 'A0A6B2W0D7', 'A0A6A0IPI8', 'A0A7W7D399', 'A0A3N1SK36', 'A0A6N7PZK1', 'A0A4R7VVY6', 'A0A4U1IQL5', 'A0A8J3QDE3', 'A0A2H0VTZ9', 'A0A544YVS0', 'A0A0S7ZI96', 'A0A2B8AWY2', 'A0A255PSQ1', 'A0A3M9M6K1', 'A0A1I4KZ59', 'A0A0H4CIR9', 'A0A2T7X2R3', 'A0A1I6XCQ5', 'A0A5P9PY72', 'A0A5R9LUU3', 'A0A1G7YH87', 'E2Q9D1', 'A0A1H0MD46', 'F4FHE0', 'A0A097CRI3', 'A0A7K1XIT3', 'A0A3A9Y8F4', 'A0A6G2LLV8', 'A0A4S3GX11', 'A0A1R0KHF6', 'A0A1H3D924', 'A0A0H5CJ96', 'A0A839E9H9', 'A0A3N1SJX5', 'A0A3A8P9C9', 'A0A2R4K0E8', 'A0A1Q3GKD5', 'A0A3A8LEZ5', 'A0A0P1EJX7', 'A0A0M8SMQ8', 'A0A3A8QBD4', 'A0A1X1NA99', 'A0A2X0JCL5', 'A0A4R2IKX3', 'A0A6G7P0S8', 'A0A4V2S5Y5', 'A0A1Q5LCS2', 'A0A0Q9AL03', 'A0A3A8HTQ5', 'A0A0L8N4C3', 'A0A1H5YVI4', 'A0A150TDU0', 'A0A1J4PZ91', 'A0A838A7V8', 'Q0FLD1', 'A0A2D6BF98', 'A0A3N4Z2Q3', 'A0A1I2LWW1', 'A0A7Y4KKM2', 'A0A0L8J0C0', 'A0A8I0P694', 'A0A286F396', 'A0A0C1WVK6', 'A0A100JVH9', 'A0A2D6B7R4', 'A0A2N8MMC6', 'A5CZU0', 'A0A1I0ZHY1', 'A0A1H0P701', 'C9ZCD0', 'A0A2R4SXH8', 'A0A1H5R4Y4', 'A0A3A9ZIB3', 'A0A263D0H9', 'M3F2X1', 'A0A7K3E062', 'G0FW81', 'A0A0H3DAL5', 'A0A229RBF8', 'A0A1T3P6N9', 'A0A2P9FBX9', 'A0A2G9DX05', 'A0A401YVA3', 'A0A3A8R0W5', 'A0A7X3WM79', 'A0A0N9IHW2', 'A0A7Z0SVJ9', 'A0A4Q5ZKY8', 'A0A3A8LAJ2', 'A0A1H0W6V6', 'A1ZGZ4', 'A0A6I6F3S4', 'A0A6L7MG82', 'A0A0K3BMZ5', 'A0A066UJ83', 'A0A841BAV7', 'A0A7U3UP24', 'V6K5N2', 'A0A7W7T699', 'A0A6G3QCL7', 'A0A2N3WFQ4', 'A0A2H5AZ22', 'A0A428XBK9', 'A0A8E2B0V0', 'A0A847KC25', 'A0A1H7JR69', 'A0A7K3A2K1']\n",
      "16/27 Processing ../raw_sequences/Azoline/Cyanobactins/Cyanobactins_PatD/PatD_Fasta.fa\n"
     ]
    },
    {
     "name": "stdout",
     "output_type": "stream",
     "text": [
      "Got results:\n",
      "['Q52QI6', 'A0A166XY79', 'A0A6H9GIQ3', 'A0A1E4Q845', 'S3JD46', 'I4HNZ7', 'A0A552CBV2', 'A0A552AVC8', 'L7EB34', 'A8Y998', 'A0A3N0X0V8', 'A8YE43', 'A0A1X9LB16', 'I4H1I7', 'A0A552LCQ7', 'B2KYG1', 'A0A367Q6E1', 'B2KYG8', 'A0A166XYF7', 'A0A7Z9C271', 'A0A350Y0Y3', 'A0YXD2', 'A0A822LBS3', 'A0A552FCL4', 'A0A328I5V0', 'A0A355DQZ2', 'A0A0M1JU92', 'A0A0D6KN79', 'A0A7C9PT41', 'K9VLB2', 'H1W859', 'A0A5Q4H6E3', 'K9RMB3', 'A0A846GSF1', 'D8G188', 'A0A845X128', 'A0A846DBR4', 'A0A845Y7Y0', 'E0UMX3', 'A0A8D6NR33', 'A0A6P0XHA0', 'Q112J9', 'A0A6P0NZB9', 'A0A6L9ZUD4', 'A0A6P0RHT8', 'A0A6M0FLX7', 'A0A6P0HTK1', 'A0A846ABY3', 'A0A1Z4QMD6', 'A0A846G8X9', 'A0A0S6UX82', 'A0A6I5RH71', 'A0A841WK81', 'A0A1Z4IW12', 'K9WBM2', 'A0A350X9X7', 'A0A5Q0TXK7', 'A0A5Q0TWV7', 'A0A352X3V7', 'A0A6M0S623', 'A0A6M0RJQ8', 'A0A845WWA1', 'A0A0D6KA13', 'A0A0D7P7Y9', 'A0A6L9ZF47', 'A0A235IR86', 'A0A6P0KVZ0', 'A0A1D9G459', 'B8HTZ0', 'A0A1D8TWC4', 'A0A6P0LJL1', 'A0A7C1VVK8', 'A0A496V9L2', 'A0A1W9X7G5', 'A0A6P0KJB4', 'A0A6P0LH81', 'A0A845WKL8', 'A0A1U7H836', 'A0A1Z4Q1A6', 'A0A1D9G9V9', 'A0A1D8U2T0', 'A0A6L9ZF50', 'A0A845W5V1', 'A0A6P0J9X0', 'A0A6P0INS1', 'A0A6M0BK35', 'A0A6B3MWR8', 'A0A1Z4KBZ5', 'A0A6P0ZZ22', 'A0A6P0NBN5', 'A0A846DPP7', 'A0A6P0YQ71', 'A0A6M0F0C1', 'A0A1Z4S7K7', 'A0A6P0MDL0', 'A3IYQ0', 'A0A8J7AFF3', 'A0A6P0T1L9', 'A0A846D6K2', 'A0A2L2N442', 'B4W006', 'A0A845YCC7', 'I4H360', 'A0A8J7FFK2', 'A0A433UJ44', 'K9WVA9', 'A0A846EKY2', 'E0U9F8', 'A0A6P0WUP2', 'A0A0A1VSD2', 'A0A235HQK9', 'A0A6P0L3T8', 'A0A367R8F2', 'A0A6P0I5R1', 'A8YAZ7', 'A0A1X9LBP4', 'A0A6M0FJG2', 'A0A6P0VGF4', 'A0A845Z598', 'A0A6P0TSA9', 'A0A6P0MJG5', 'A0A846AEB3', 'K9Z9X5', 'E0ULZ9', 'A0A6P0WT63', 'A0A552AIU3', 'A0A841UX50', 'A0A6P0P3B8', 'A0A3N6PE57', 'A0A846GH62', 'A0A6B3NZX6', 'A0A846BG41', 'A0A367R1H7', 'A0A2K8T8P2', 'A0A846DV02', 'A0A1E5QQQ5', 'A0A8J6S5L3', 'A0A6G3Z7G9', 'A0A6M0EXK8', 'A0A6B3NCT4', 'A0A6P0K631', 'A0A2Z6CWK0', 'A0A7C4W5E5', 'A0A7C9TVU1', 'A0A6B3MAW0', 'A0A6P0TI24', 'A0A1Y0RJ65', 'A0A352AGG0', 'A0A7C1ZYB9', 'A0A496V9H6', 'A0A1W9X655', 'A0A661D4H5', 'A0A084SEM6', 'A0A2R5FL30', 'A0A401IKN4', 'A0A352X4N4', 'A0A6P0SLR0', 'A0A3C0N9U9', 'A0A6P0M1N7', 'A0A139WUH2', 'A0A4U3MNE5', 'A0A352AKD1', 'A0A7D4XI14', 'A0A8J6X920', 'A0A8J3S5Y5', 'A0A8J3T443', 'A0A6P0JND9', 'A0A6P0I8T9', 'A0A6M0BC79', 'A0A6M0A2Z8', 'A0A6L9ZE47', 'A0A6L9YB94', 'A0A1U7NAK9', 'A0A6M5YI80', 'A0A7X6CEN3', 'A0A8J3SN35', 'A0A7C9PT65', 'A0A350Y3Z4', 'A0A1Q3HPD3', 'A0A352AMH9', 'A0A1Z4QS72', 'A0A2T4VHC4', 'K9TQ74', 'A0A6P0N175', 'A0A1Z4L5N2', 'E0ULZ4', 'A0A0C2KQH6', 'A0A352X845', 'A0A1Z4KC23', 'A0A844MN60', 'K9VBG7', 'A0A316DPG7', 'A0A8J6X906', 'A0A7C9TV49', 'A0A1L9AZ42', 'A0A367QE11', 'D8FWK1', 'A0A1C0VWY3', 'A0A3N5T2T9', 'A0A2K8T3H9', 'A0A846C768', 'I4FY24', 'A0A2I8A448', 'A0A1Z4H0T8', 'B7KLY0', 'A0A2T4V8J1', 'A0A6P1AB33', 'A0A8D5TTY5', 'A0A139GKM4', 'A0A510PLJ4', 'A0A551YPV7', 'A0A7C2F277', 'S9QTM4', 'A0A552KNM0', 'A0A2I8A4Z0', 'I4IPB7', 'G0XS53', 'A0A2Z6UQL9', 'A0A552GF80', 'A0A7Y4U0K2', 'K9T3I9', 'A0A5C9CQS9', 'A0A139XCW6', 'I4G7M8', 'A0A6P0YD84', 'A0A552HLQ6', 'A0A3E0LQQ9', 'A0A0C1NIG7', 'A0A1V4BTG7', 'A0A6P0V0C1', 'A0A841WIE2', 'A0A552FG89', 'A0A1U7HEY7', 'A0A3E0MB92', 'A0A551Y3K9', 'A0A552AF07', 'A0A3B8Y4I9', 'A0A552DW21', 'A0A1Z4H191', 'A0A552IFB6', 'A0A7C9PR35', 'A0A841UMX3', 'I4HXX8', 'A0A5A5RPS9', 'A0A518DQN3', 'A0A3D8JRY5', 'A0A2L2XNB6', 'A0A1U7I6H5', 'A0A6P1ZTH0', 'A0A6L9ZKZ3', 'A0A0K1S273', 'A0A355DUA7', 'A0A6M0GCC0', 'B0JLW1', 'A0A3G9JCP9', 'A0A6H9GN56', 'A0A139XD50', 'A0A0F6U6A0', 'A0A846BTC6', 'A0A6P0R6S9', 'A0A6P0P8F9', 'A0A6B3M215', 'A0A6P0RPZ5', 'A0A857D5T2', 'A0A250IUJ6', 'A0A218PYJ6', 'A0A350XED8', 'A0A0C1NGI1', 'A0A2H6L413', 'A0A1Z4G4Z7', 'A0A6H9GGB4', 'A0A433UHD5', 'A0A846ERI6', 'G7W6U3', 'A0A0C1R8R5', 'A0A354YXK1', 'Q092U8', 'A0A844MI29', 'A0A1M5XDX1', 'A0A090AFB4', 'A0A7C3VGV3', 'A0A1Z4LU36', 'A0A6N8B265', 'A0A223D4P4', 'A0A6G9SQA3', 'A0A6P0UZN9', 'A0A1E2WGD6', 'A0A1Z4JYH4', 'A0A0D6KDX3', 'A0A1H7TLQ6', 'A0A1Z4N1M6', 'A0A355DW01', 'A0A6M0G2R6', 'A0A4U1JHJ6', 'U9VT97', 'A0A252EDJ7', 'A0A1I0HTW7', 'Q0AW18', 'A0A4P2Q3A2', 'A0A6N7PJX0', 'A0A419YL90', 'A0A2N3KQT9', 'A0A3A4KQK7', 'A0A6P1AB24', 'A0A3N5TF30', 'A0A252E474', 'A0A327T4A4', 'A0A429BD25', 'A0A848LRJ0', 'A0A0A2CLL8', 'A0A6N7PQ17', 'A0A7H8KWJ5', 'A0A429BUN2', 'A0A8G1XAE6', 'A0A3N4RI54', 'A0A8T6P4C3', 'A0A1G7YH87', 'B1WRK6', 'A0A561EVG6', 'A0A1G9HK63', 'A0A6P0KF21', 'A0A252DRG7', 'A0A3A4KFU0', 'A0A3M1K6A8', 'A0A849H949', 'A0A066Z0M9', 'E4NFR8', 'A0A852ZNF8', 'A0A6N7PZK1', 'A0A3A4WMV8', 'A0A540X8L6', 'A0A1Q5EUQ2', 'A0A1Z4BZI5', 'F4FHE0', 'A0A097CRI3', 'A0A6B2WGA0', 'A0A6B2VLL3', 'A0A5R9M700', 'A0A2S5CJC0', 'A0A6B2WBN4', 'A0A6B2W0D7', 'A0A544YFP0', 'A0A544YVS0', 'A0A3M1PYK6', 'A0A1H8RJF1', 'A0A085WV69', 'A0A8D5RNP2', 'A0A0M8SMQ8', 'A0A542SXF5', 'A0A5R9LUU3', 'A0A0N1FRW2', 'A0A1M7M2V9', 'A0A7Y6XGN5', 'A0A1N7DAS4', 'A0A376DRP1', 'Q3C2F7', 'A0A1H3DG54', 'A0A1S2PZ02', 'A0A1H7KQY6', 'A0A646KMR0', 'A0A1H6EYM7', 'A0A0K1EF34', 'A0A8I1QFC6', 'A0A150TDU0', 'A0A0N9I2T4', 'A0A1M5H7N8', 'A0A7W7SD74', 'A0A0K3BP57', 'A0A4R4WXW0', 'W5T7A4', 'A0A3A8NLF5', 'A0A561EXY3', 'A0A1I4VNU7', 'A0A1V2QTB8', 'A0A0Q4EBL5', 'A0A7X4AA80', 'A0A2T0N6P7', 'A0A3A8P9C9', 'A0A344LH45', 'A0A1N7HZ15', 'A0A0K1ESM7', 'A0A2E6EXU3', 'A0A2D8UJ15', 'A0A6L7K979', 'A0A7W9LCI7', 'A0A8J3W0R6', 'A0A4R2IKX3', 'A0A4P2PYB0', 'A0A1I2LWW1', 'A0A839E9H9', 'A0A3A8HTQ5', 'A0A1I7IUW3', 'Q3B4I7', 'A0A7X4AFT1', 'A0A2L0F4G9', 'A0A6L7P6S0', 'A0A6L8JBL6', 'A0A6L7RCG6', 'A0A2A3I1M7', 'A0A4U1IQL5', 'A0A5J5J1M0', 'A0A7Y4KKM2', 'A0A1Y5X096', 'A0A0S7ZI96', 'A0A0C1WVK6', 'A0A3A9Y8F4', 'A0A3A8LEZ5', 'A0A428ZQZ0', 'A0A5P9PY72', 'A0A3A8QBD4', 'Q0FLD1', 'D1A618', 'A0A7X3Z4N4', 'A0A2H0VTZ9', 'A0A1J4PZ91', 'A0A1H8Y709', 'A0A2D6BF98', 'A0A8J3WFD3', 'A0A6I4ND87', 'A0A1R0KHF6', 'A0A8G0MNW5', 'A0A0L8N4C3', 'A0A3A8IRU0', 'A0A7Z1AVN4', 'A0A3A8T7Z3', 'A0A0G2ZG73', 'A0A2L0ENS4', 'A0A7K3A2K1', 'A0A2D6B7R4', 'A0A4V2S5Y5', 'A0A7H8HGM0', 'A0A0H1AKR9', 'A0A6G3QCL7', 'A0A7Y3MVW6', 'A0A074LIF9', 'A0A6I6F3S4', 'A0A7X3WM79', 'A0A1A9QLH6', 'A0A3A8R0W5', 'A0A7K0CDX0', 'A0A100JVH9', 'A0A5N6BKW2', 'A0A1V4DR00', 'A0A2R4TB82', 'C9ZCD0', 'A0A2T7X2R3', 'A0A7W7D399', 'A0A6N7H8E8', 'A0A848XNV9', 'A0A209BTZ1', 'A0A8H9LTN5', 'A0A6B3I9K3', 'A0A6B3FFE8', 'A0A6B3AEL1', 'A0A6A0BI10', 'A0A3N6GZ56', 'A0A380P133', 'A0A2M9HUU6', 'A0A7X4Y6Y4', 'A0A8F6I2T2', 'A0A2X0JCL5', 'A0A2P9FBX9', 'A0A3A8T0K2', 'A0A1H7JR69', 'A0A4R7VVY6', 'A0A8S0NHP5', 'A0A8G1ZQ40', 'A0A6G2ZYF8', 'A0A1C4NLY9', 'A0A1C4LZA7', 'A0A126Y589', 'A0A560IMI8', 'A0A248JZU7', 'A0A7K2GIU9', 'A0A554VAX1', 'A0A6I6RPP2', 'A0A0P1EJX7', 'A0A8T6HN83', 'A0A3A8RTC1', 'A0A6A0IPI8', 'A0A4Q5ZKY8', 'D6B7H9', 'A0A7L5XLY0', 'A0A410RVN6', 'A0A1H0MD46', 'A0A429FPV6', 'A0A3A8LAJ2', 'A0A263D0H9', 'A0A150QWF7', 'A0A3N1SK36', 'A0A2R4SXH8', 'A0A1H5YVI4', 'A0A7S8AUA7', 'A0A2S2FPP2', 'A0A0S1UPQ4', 'A0A8I0P694', 'A0A286F396', 'A0A8J3QDE3', 'G3EGR8', 'A0A3N6IP06']\n",
      "17/27 Processing ../raw_sequences/Azoline/Cyanobactins/Cyanobactins_TruD/TruD_Fasta.Fa\n",
      "Got results:\n",
      "['B2KYG8', 'A0A166XYF7', 'A0A350Y0Y3', 'A0A328I5V0', 'A0A7Z9C271', 'A0A355DQZ2', 'A0A822LBS3', 'A0A552FCL4', 'A0YXD2', 'A0A0M1JU92', 'A0A0D6KN79', 'K9VLB2', 'A0A166XY79', 'A0A367Q6E1', 'B2KYG1', 'Q52QI6', 'A0A846GSF1', 'H1W859', 'A0A846DBR4', 'A0A6H9GIQ3', 'A0A552AVC8', 'S3JD46', 'I4HNZ7', 'A0A552CBV2', 'D8G188', 'L7EB34', 'A8Y998', 'A0A3N0X0V8', 'I4H1I7', 'A0A552LCQ7', 'K9RMB3', 'A8YE43', 'A0A1X9LB16', 'A0A845Y7Y0', 'A0A1E4Q845', 'A0A7C9PT41', 'A0A5Q4H6E3', 'A0A845X128', 'E0UMX3', 'A0A8D6NR33', 'A0A6P0NZB9', 'Q112J9', 'A0A6P0XHA0', 'A0A1Z4QMD6', 'A0A350X9X7', 'A0A6P0RHT8', 'A0A6P0HTK1', 'A0A6L9ZUD4', 'A0A846ABY3', 'A0A6M0FLX7', 'A0A846G8X9', 'A0A5Q0TXK7', 'A0A5Q0TWV7', 'A0A841WK81', 'A0A6I5RH71', 'A0A1Z4KBZ5', 'A0A0D6KA13', 'A0A1Z4IW12', 'A0A1D9G459', 'A0A845WWA1', 'A0A6M0S623', 'A0A6M0RJQ8', 'A0A6P0KVZ0', 'A0A6L9ZF47', 'A0A235IR86', 'A0A352X3V7', 'A0A6P0LH81', 'K9WBM2', 'A0A845W5V1', 'A0A6P0J9X0', 'A0A6P0INS1', 'A0A6M0BK35', 'A0A6B3MWR8', 'A0A1D8TWC4', 'A0A6P0ZZ22', 'A0A6P0NBN5', 'B8HTZ0', 'A0A845YCC7', 'A0A8J7FFK2', 'B4W006', 'A0A6P0T1L9', 'A0A0S6UX82', 'A0A6P0WUP2', 'A0A6P0MDL0', 'A0A6P0LJL1', 'A0A7C1VVK8', 'A0A496V9L2', 'A0A1W9X7G5', 'A0A1U7H836', 'A0A8J7AFF3', 'K9WVA9', 'A0A846D6K2', 'A0A0D7P7Y9', 'A0A6P0MJG5', 'A0A6L9ZF50', 'A0A1Z4S7K7', 'A0A6P0KJB4', 'A0A1D9G9V9', 'A0A845WKL8', 'A0A1Z4Q1A6', 'A0A1D8U2T0', 'A0A846DPP7', 'A0A6P0YQ71', 'A0A6M0F0C1', 'E0ULZ9', 'E0U9F8', 'A0A6P0I5R1', 'A0A6M0FJG2', 'A0A846EKY2', 'A0A846AEB3', 'A0A235HQK9', 'I4H360', 'A0A6P0TSA9', 'A0A845Z598', 'A0A8J6S5L3', 'A0A846GH62', 'A0A6P0P3B8', 'A0A2K8T8P2', 'A0A0A1VSD2', 'A0A433UJ44', 'A0A6G3Z7G9', 'A8YAZ7', 'A0A1X9LBP4', 'A0A2L2N442', 'A0A6B3NZX6', 'A0A3N6PE57', 'A0A1Y0RJ65', 'A0A6P0L3T8', 'K9Z9X5', 'A0A552AIU3', 'A0A6P0VGF4', 'A3IYQ0', 'A0A367R8F2', 'A0A6M0EXK8', 'A0A6B3NCT4', 'A0A1E5QQQ5', 'A0A841UX50', 'A0A6P0K631', 'A0A6P0WT63', 'A0A846BG41', 'A0A846DV02', 'A0A352AGG0', 'A0A2R5FL30', 'A0A2Z6CWK0', 'A0A367R1H7', 'A0A6B3MAW0', 'A0A6P0TI24', 'A0A1Z4QS72', 'A0A7C9TVU1', 'A0A661D4H5', 'A0A7C4W5E5', 'A0A7C1ZYB9', 'A0A496V9H6', 'A0A1W9X655', 'A0A401IKN4', 'A0A1Z4L5N2', 'A0A3C0N9U9', 'A0A7C9TV49', 'A0A352AKD1', 'A0A6P0SLR0', 'A0A6P0M1N7', 'A0A350Y3Z4', 'A0A2I8A448', 'A0A1C0VWY3', 'A0A8J6X906', 'A0A8J3S5Y5', 'A0A6P0JND9', 'A0A6P0I8T9', 'A0A6M0BC79', 'A0A6M0A2Z8', 'A0A6L9ZE47', 'A0A6L9YB94', 'A0A1U7NAK9', 'A0A7X6CEN3', 'A0A6P0N175', 'A0A367QE11', 'A0A8J3T443', 'A0A8J6X920', 'A0A139WUH2', 'A0A8J3SN35', 'A0A352AMH9', 'A0A8D5TTY5', 'A0A139GKM4', 'I4IPB7', 'A0A084SEM6', 'A0A1Z4H0T8', 'A0A551YPV7', 'A0A844MN60', 'A0A1Z4KC23', 'A0A352X4N4', 'A0A552KNM0', 'I4FY24', 'A0A6L9ZKZ3', 'A0A139XCW6', 'A0A6M0GCC0', 'A0A7C9PT65', 'A0A7C2F277', 'A0A6P1ZTH0', 'A0A552FG89', 'A0A0C2KQH6', 'K9TQ74', 'A0A2K8T3H9', 'A0A6P0P8F9', 'A0A3B8Y4I9', 'A0A4U3MNE5', 'A0A841WIE2', 'A0A3E0MB92', 'A0A552HLQ6', 'A0A316DPG7', 'K9VBG7', 'A0A552GF80', 'A0A6P1AB33', 'A0A2Z6UQL9', 'A0A7D4XI14', 'A0A552DW21', 'A0A6M5YI80', 'K9T3I9', 'D8FWK1', 'A0A6P0R6S9', 'A0A1U7HEY7', 'A0A510PLJ4', 'A0A2T4VHC4', 'A0A1Q3HPD3', 'A0A218PYJ6', 'A0A846C768', 'A0A551Y3K9', 'A0A352X845', 'A0A6H9GGB4', 'A0A6P0V0C1', 'A0A3N5T2T9', 'A0A846ERI6', 'I4G7M8', 'A0A552IFB6', 'A0A552AF07', 'A0A3E0LQQ9', 'A0A2H6L413', 'A0A841UMX3', 'I4HXX8', 'A0A5A5RPS9', 'A0A0C1NIG7', 'A0A0K1S273', 'A0A6H9GN56', 'A0A1V4BTG7', 'B0JLW1', 'A0A3G9JCP9', 'A0A857D5T2', 'A0A0F6U6A0', 'A0A844MI29', 'E0ULZ4', 'A0A2L2XNB6', 'B7KLY0', 'A0A6P0RPZ5', 'A0A6B3M215', 'A0A6P0YD84', 'A0A0C1R8R5', 'A0A7C9PR35', 'A0A1U7I6H5', 'G7W6U3', 'A0A2I8A4Z0', 'A0A5C9CQS9', 'A0A846BTC6', 'A0A1Z4G4Z7', 'A0A3D8JRY5', 'A0A350XED8', 'A0A355DUA7', 'G0XS53', 'A0A1Z4H191', 'U9VT97', 'A0A1H7TLQ6', 'A0A7C3VGV3', 'A0A355DW01', 'A0A518DQN3', 'A0A0C1NGI1', 'A0A6P1AB24', 'A0A1Z4LU36', 'A0A1Z4N1M6', 'A0A139XD50', 'A0A0D6KDX3', 'A0A1I0HTW7', 'A0A6G9SQA3', 'A0A2T4V8J1', 'A0A6M0G2R6', 'A0A7Y4U0K2', 'A0A3N5TF30', 'A0A6P0UZN9', 'Q092U8', 'A0A6N8B265', 'A0A433UHD5', 'A0A1M5XDX1', 'A0A354YXK1', 'A0A252E474', 'A0A6P0KF21', 'A0A1E2WGD6', 'A0A1L9AZ42', 'A0A252EDJ7', 'A0A1Z4JYH4', 'A0A090AFB4', 'A0A4P2Q3A2', 'S9QTM4', 'A0A252DRG7', 'A0A223D4P4', 'A0A852ZNF8', 'Q0AW18', 'B1WRK6', 'A0A4U1JHJ6', 'A0A250IUJ6', 'A0A849H949', 'A0A3A4KFU0', 'A0A6N7PJX0', 'A0A8D5RNP2', 'A0A0K1EF34', 'A0A085WV69', 'A0A429BD25', 'A0A8T6P4C3', 'A0A429BUN2', 'A0A6N7PQ17', 'A0A8I1QFC6', 'A0A1I7IUW3', 'A0A3M1PYK6', 'A0A2N3KQT9', 'A0A0N1FRW2', 'A0A3M1K6A8', 'A0A2S5CJC0', 'A0A1Z4BZI5', 'A0A1G9HK63', 'A0A540X8L6', 'A0A0G2ZG73', 'A0A554VAX1', 'A0A7Y6XGN5', 'A0A0A2CLL8', 'A0A3A4WMV8', 'A0A327T4A4', 'A0A3A4KQK7', 'A0A6N7PZK1', 'A0A7W9LCI7', 'A0A2T0N6P7', 'F4FHE0', 'A0A097CRI3', 'A0A0K1ESM7', 'A0A6B2WGA0', 'A0A6B2VLL3', 'A0A5R9M700', 'Q3B4I7', 'A0A544YFP0', 'A0A848LRJ0', 'A0A1M7M2V9', 'Q3C2F7', 'A0A419YL90', 'A0A2H0VTZ9', 'A0A544YVS0', 'A0A2E6EXU3', 'A0A2D8UJ15', 'A0A7H8KWJ5', 'A1ZGZ4', 'A0A0Q4EBL5', 'A0A376DRP1', 'A0A848XNV9', 'A0A1N7HZ15', 'A0A344LH45', 'A0A561EVG6', 'A0A1H6EYM7', 'A0A4P2PYB0', 'A0A7Y3MVW6', 'A0A1N7DAS4', 'A0A066Z0M9', 'A0A0K3BP57', 'A0A0M8SMQ8', 'A0A1I4VNU7', 'A0A6B2WBN4', 'A0A6B2W0D7', 'A0A561EXY3', 'A0A8G1XAE6', 'A0A3N4RI54', 'A0A7W7SD74', 'A0A2L0F4G9', 'A0A1M5H7N8', 'A0A7X4AA80', 'A0A8J3W0R6', 'A0A1Q5EUQ2', 'A0A150TDU0', 'A0A2A3I1M7', 'A0A5R9LUU3', 'A0A7Z1AVN4', 'A0A6L7K979', 'A0A838A7V8', 'E4NFR8', 'A0A4R4WXW0', 'A0A4U1IQL5', 'A0A7X3Z4N4', 'A0A2T7X2R3', 'A0A7K0VEZ9', 'A0A6I2YK95', 'A0A3A8NLF5', 'A0A1G7YH87', 'A0A6L8JBL6', 'A0A6L7RCG6', 'A0A0N9I2T4', 'A0A2V7QNI9', 'A0A6L7P6S0', 'A0A1Q3GKD5', 'A0A5P9PY72', 'A0A4R7VVY6', 'A0A1S2PZ02', 'A0A1R0KHF6', 'A0A6L7UJZ1', 'A0A150QWF7', 'A0A2R4TB82', 'A0A1H8RJF1', 'A0A1V2QTB8', 'A0A7X3R886', 'A0A6I6F3S4', 'A0A074LIF9', 'A0A542SXF5', 'A0A7X4D105', 'A0A6N8XLP0', 'A0A3A9Y8F4', 'A0A2L0ENS4', 'A0A3A8HTQ5', 'A0A3D4R4H7', 'A0A8G0MNW5', 'A0A8J3WFD3', 'A0A3A9ZIB3', 'A0A6I3B6A1', 'A0A646KMR0', 'A0A7K0CDX0', 'A0A839E9H9', 'D1A618', 'A0A7Y4KKM2', 'A0A6N7H8E8', 'A0A0S7ZI96', 'A0A1H5QGG8', 'A0A7X4C034', 'A0A6L8BTR2', 'A0A3A8LEZ5', 'A0A8J3QDE3', 'A0A2R4SXH8', 'A0A8T6I668', 'A0A4R2IKX3', 'A0A7K0TLL5', 'A0A7X3X5F8', 'A0A7X3TIU2', 'A0A1H7KQY6', 'W5T7A4', 'A0A3R9ELY0', 'R1HT54', 'A0A7X4J3I6', 'A0A6N8WQS3', 'S3B9A1', 'A0A6C1BYK9', 'A0A7K2X374', 'A0A429PMB3', 'A0A4P5S8R7', 'A0A1H8Y709', 'A0A1Y5X096', 'A0A1J4PZ91', 'A0A263D0H9', 'A0A7H8HGM0', 'A0A3A8T7Z3', 'A0A0P1EJX7', 'A0A0L8N4C3', 'G0FW81', 'A0A0H3DAL5', 'A0A1M3KY52', 'A0A3A8P9C9', 'A0A4Q7J3U6', 'A0A3A8RTC1', 'A0A2N8MMC6', 'A0A1H3DG54', 'A0A1H5R4Y4', 'A0A428Y1N0', 'A0A429FPV6', 'A0A6B2DKZ4', 'A0A229SFX6', 'A0A3A8IRU0', 'A0A1I2LWW1', 'A0A8T6HN83', 'A0A429DRC7', 'A0A6L7S7N8', 'A0A229RBF8', 'A0A3D5AFP7', 'A0A3D4WML4', 'M2NZN3', 'A0A6B1DNL3', 'A0A371XRQ8', 'A0A4V2S5Y5', 'A0A154MID1', 'A0A7X4Y6Y4', 'A0A2P2FQZ5', 'A0A8T6FAL2', 'A0A6L7JHC9', 'A0A0L8J0C0', 'A0A7Y6KSM8', 'A0A7Y6F475', 'A0A5B8DT15', 'A0A7S8AUA7', 'A0A6N9A844', 'A0A429CBR3', 'A0A839PVX8', 'A0A3A8QBD4', 'A0A428ZQZ0']\n",
      "18/27 Processing ../raw_sequences/Azoline/Bottromycin/Fasta.fa\n"
     ]
    },
    {
     "name": "stdout",
     "output_type": "stream",
     "text": [
      "Got results:\n",
      "['K4MJT7', 'M3ENG2', 'K0P4N8', 'A0A7K3EIY9', 'C9Z183', 'A0A540P9G5', 'L1L6K6', 'A0A540P2Q5', 'K4JVC6']\n",
      "19/27 Processing ../raw_sequences/Thioamide/Thioviridamide/Fasta.fa\n",
      "Got results:\n",
      "['T2HWM4', 'A0A7W9H482', 'A0A0N0HLJ3', 'A0A4D9CFI4', 'A0A2Z5WLL4', 'A0A1S2PC86', 'A0A1R1S5L9', 'A0A1J4PYC2', 'A0A1C6UB24', 'A0A229RNL7', 'A0A229RYW0', 'A0A154M4V3', 'A0A1R0KWS9', 'A0A193BSG9', 'A0A239PCE0', 'A0A2T0N7C3', 'A0A229S9K9', 'A0A8J3Q978', 'A0A1Q4XN37', 'A0A1C6TT33', 'A0A0F0GSX1', 'A0A840P1S7', 'A0A4R5EEK9', 'A0A7K1KSY3', 'A0A3A9Y6E0', 'A0A010ZR31', 'A0A1H3TLS8', 'A0A8J4E5M4', 'A0A429GDY0', 'A0A8J7KJS2', 'A0A0K1EF39', 'A0A3S5GY88', 'A0A4Q0SZI9', 'A0A1H1YV18', 'A0A2V8MVP5', 'A0A6A7LCX4', 'A0A3N5WB13', 'A0A6A8FJD2', 'A0A6G1YTD3', 'K0IEK3', 'A0A6G1YPE4', 'A0A2V8S2N8', 'A0A2V2U5N5', 'A0A8T7GJ04', 'A0A838W2R6', 'A0A143PIS8', 'A0A484ID53', 'A0A533VF70', 'A0A533UWL3', 'A0A533VBI8', 'A0A523B9K5', 'A0A832CEI4', 'A0A7C4TN06', 'A0A533U9J3', 'A0A2V2MW46', 'A0A842LU58', 'A0A533WLG8', 'A0A7J2YCK8', 'A0A060HQ07', 'A0A1Q7JXM8', 'A0A7J4L8D5', 'A0A3M1LJP2', 'A0A654M7U7', 'A0A1Q7FAQ1', 'A0A847VBP5', 'A0A523BAJ5', 'A0A838U2P6', 'A0A2I0P3T6', 'A0A838NAR4', 'A0A075MW40', 'A0A7G9YFG8', 'A0A3N5RCQ9', 'A0A843ALY3', 'A0A7J4N5H4', 'A0A2K5ASZ8', 'A0A7K4A113', 'A0A557SS26', 'A0A1V5A3B7', 'A0A1V4UU30', 'A0A5B2Z6M8', 'A0A1Q7KX28', 'A0A1Q7F7B1', 'A0A1Q7PPZ6', 'D4N6W6', 'A0A7L4R0D0', 'A0A838D5A6', 'A0A842LH29', 'A0A850SL35', 'A0A1V4TQ74', 'A0A1V4UCU1', 'A0A843KPL2', 'A0A7C4WDB1', 'A0A523B657', 'A0A1V5T0H9', 'Q2FL72', 'A0A7L4PQI7', 'A0A524I1Z6', 'A0A7K4BCR9', 'A0A842PZD1', 'A0A520KSE4', 'A0A7J3D7M1', 'A6UP66', 'A0A2V2N3R7', 'A0A366MEZ7', 'A0A843RDX9', 'A0A7J4PNY4', 'A0A8F5VP36', 'A0A8E7EG62', 'A0A150IV03', 'A0A843D4L7', 'A0A843DTJ8', 'A0A843DT95', 'A0A7J4FUR2', 'A0A150J249', 'A0A1V4ZFV4', 'A0A1V4TWC7', 'A0A7L4PQ66', 'A0A8T9VP19', 'A0A2I0PUK2', 'A0A7L4QKJ5', 'A9AAP1', 'A2SR09', 'L0HEM9', 'A0A7J9NS94', 'A0A1V5AQP5', 'A0A1V4UJJ6', 'A0A482ATK5', 'A0A0Q0VBY2', 'A0A1V4ZYM4', 'Q6LYD5', 'A0A7J9RX85', 'A0A7J9NN89', 'A0A2I0CYF6', 'A6VG04', 'A0A7J9PHB0', 'A1B7P9', 'A0A7K4BTH1', 'G0H0K8', 'A0A7K4B0T9', 'A0A6G6WQR9', 'A0A8T4DEM3', 'A0A843JNR5', 'A0A1V6IQL5', 'A0A150JJE9', 'A0A842MDQ6', 'A0A2Z5PSY2', 'A0A2Z5PHK2', 'A0A7D5T3N0', 'H1Z302', 'A0A498H2F9', 'A0A831L3C9', 'A0A832EYA9', 'A0A523AD83', 'A0A1V5ZFR5', 'A0A843AZJ3', 'A0A150J4Q7', 'A0A843K321', 'A0A843K8S1', 'A0A8T3VXM8', 'A0A843KBH5', 'A0A7S9GS73', 'A4FXC2', 'A0A1M7Z2Q0', 'A0A4R2F5L1', 'A0A7L4PJB3', 'A0A7J9RMY1', 'A0A125RB92', 'A0A537PDW4', 'A0A2J6UVQ5', 'A0A1R3EDJ9', 'A0A2T5EL79', 'A0A2V6YE40', 'A0A520K704', 'A0A847UXC9', 'A0A1V5BE42', 'A0A1V4VAX6', 'A0A1M5Y1E0', 'A0A7Y3KQL5', 'G7WND2', 'A0A560BQF9', 'A0A537UVB0', 'K0VNW2', 'A0A0D7QJ51', 'A0A2V7B6D0', 'S4XWU3', 'A0A150PNG5']\n",
      "20/27 Processing ../raw_sequences/Thioamide/McrA_thioamidation_YcaO/Fasta.fa\n",
      "Got results:\n",
      "['Q8TUA8', 'A0A832SJF3', 'A0A0E3PJC6', 'A0A0E3P9W6', 'A0A0E3P0L0', 'A0A0F8F5B2', 'A0A0F8EW94', 'A0A0F8EJ75', 'A0A0F8D027', 'A0A0F8QHV9', 'A0A0F8U9T9', 'A0A0F8C8Z7', 'A0A0E3NT67', 'Q8PWW8', 'A0A0F8GIH6', 'A0A0E3S352', 'A0A0E3RQJ2', 'A0A0E3RL06', 'A0A0E3RCL6', 'A0A0E3NMW1', 'A0A0F8N0Z4', 'A0A0E3PZJ8', 'M1QIT8', 'A0A0F8QGB4', 'A0A0F8HA62', 'A0A0F8NC77', 'A0A0E3WVR0', 'A0A832S1E2', 'A0A1E7GEN0', 'A0A2A2HRR6', 'Q46E94', 'A0A0E3QG17', 'A0A847PS91', 'A0A832L9F1', 'A0A0E3Q7I5', 'A0A0E3LK85', 'A0A0E3WXP7', 'A0A1D2WME7', 'A0A0G3CK75', 'A0A0E3R2G8', 'A0A0E3QRY1', 'A0A498GVI4', 'A0A660HSR4', 'A0A1I6ZMZ3', 'A0A0E3L0S5', 'A0A0E3H992', 'A0A832TH23', 'A0A0E3WUL1', 'A0A7J4PN16', 'A0A0E3NZS3', 'A0A7Z8KM08', 'A0A099T4Q9', 'W9DVW6', 'A0A0E3SQL6', 'A0A4E0Q1F5', 'Q12UD2', 'A0A849PYI7', 'A0A849QMK1', 'A0A139CQ71', 'A0A7Z7AXY7', 'F7XP63', 'A0A1I4QNK5', 'A0A7L4QX31', 'A0A842KIZ4', 'A0A1L3Q0Q6', 'D5E9E8', 'A0A3M9LSN2', 'A0A1V4YJ23', 'A0A7D5I1P1', 'A0A2D3C6P1', 'A0A1L9C5F6', 'A0A1H9ZA04', 'A0A498H701', 'A0A427UC91', 'A0A3R9FED5', 'A0A285FYT7', 'A0A1D2UZL5', 'A0A314ZZZ0', 'A0A1B8WZU7', 'A0A139CNQ9', 'A0A3R8CD28', 'L0KZ17', 'A0A062V8Z7', 'A0A5E4KTX1', 'D7EBR5', 'A0A522V977', 'A0A822JIJ6', 'A0A284VL23', 'A0A5E4L589', 'A0A5E4KT49', 'A0A2I0NLB1', 'A0A5E4HIG7', 'A0A8T5N8R3', 'A0A7J4LNZ5', 'A0A8T6YFU3', 'A0A6A2FPS0', 'A0A0P7ZDH8', 'A0A842Y089', 'A0A315XIU1', 'A0A2P5K4Q9', 'A0A8T6Z118', 'A0A842Y6R6', 'A0A7J4NVJ4', 'A0A849QTX2', 'A0A849QRL4', 'A0A8S9W8W5', 'A0A7J9TGJ4', 'A0A1V4YCB2', 'A0A3R7DTE5', 'A0A662R5D8', 'A0A662RD97', 'A0A2V3JWN3', 'A0A520JZW2', 'A0A7J4FUF5', 'A0A7R9N1F3', 'A0A7R9N122', 'A0A7C0ZSX5', 'A0A497IJ16', 'A0A662RAN1', 'H8I5Q6', 'Q0W324', 'A0A1V4YUJ9', 'A0A832RW34', 'A0A124FB60', 'A0A101F3H0', 'D1YW04', 'A0A662R729', 'A0A7J4PNY4', 'A0A8B3S1E9', 'A0A848DAZ1', 'A0A811T770', 'A0A7J3S7G4', 'A0A520JUZ9', 'A0A101IKT6', 'A0A0Q1AX08', 'A0A524I1Z6', 'A0A1D3L4G9', 'A0A832LLJ8', 'A0A3G9CZG1', 'A0A842M6X2', 'A0A842L832', 'A0A8T8K3B4', 'A0A3A5HKK4', 'A0A7C4WDB1', 'A0A523B657', 'F0T937', 'A0A523BAJ5', 'A0A1V4ZYM4', 'A0A843ALY3', 'A0A7J4N5H4', 'A0A2A2H351', 'A0A1D2WB86', 'A0A7L4PQI7', 'F6D6D1', 'E3GYA0', 'A0A8T3UX65', 'D2ZMT0', 'A0A8T3VA28', 'A0A1V4YU21', 'A0A2U1S8X9', 'A0A842LU58', 'A0A2I0PMS9', 'A0A832CEI4', 'A0A7C4TN06', 'A0A1V4TQ74', 'A0A843KPL2', 'A0A8T3VM52', 'A0A2H4U523', 'B9AGV5', 'R7PVA3', 'U6EE58', 'A0A166AS52', 'A0A843GYR9', 'A5UKF7', 'A0A1D2WXU0', 'A3CV63', 'A0A523B9K5', 'A0A832EYA9', 'A0A523AD83', 'A0A347ADY6', 'A0A842YLY1', 'A0A371ND23', 'A0A523BI35', 'A0A429GG00', 'E1RDI2', 'A0A0H1QXZ8', 'A0A6A8RRZ0', 'A0A8T3VEF7', 'A0A843IJG2', 'A0A843F3Y1', 'O27068', 'A0B902', 'A0A843FAZ8', 'A0A1G5VY82', 'T2GHV3', 'A0A223YXV4', 'A0A8T3V788', 'A0A8T5UZ54', 'A0A7K4BTH1', 'A0A0U3EA32', 'A0A150IV03', 'A0A7L4P2E8', 'A0A1M4MMA9', 'A0A125RB92', 'A0A347ANT5', 'A0A483CWQ0', 'A0A2I0P3T6', 'A0A843GN43', 'A0A166A9Y2', 'A0A842LH29', 'A0A843J7A1', 'A0A843G5Y3', 'A0A832RZY8', 'A0A101IZL4', 'A0A1G9ASI5', 'A0A315XM75', 'A0A842LQP3', 'A0A7K3YG74', 'A0A498H2F9', 'A0A328PHL1', 'A0A843EKR9', 'A0A8J7REK8', 'A0A219AMZ0', 'A0A150J249', 'A0A7K4BIH9', 'A0A842PEI1', 'A0A7C6UI27', 'A0A662RS71', 'A0A166E496', 'A0A7C6FXK3', 'A0A1V5M601', 'A0A2A2HBU9', 'A0A2I0P8S1', 'A0A0Q0VBY2', 'A0A6B9TJ55', 'A0A843AZJ3', 'A0A843IPB2', 'A0A7J4L8D5', 'A0A7G9Z0G5', 'A0A832QTH2', 'I7LKL0', 'A0A832S9X1', 'A0A1V5B374', 'A0A090I7M1', 'A0A2H4VGU0', 'A0A2H4VC98', 'A0A1V4TJM5', 'A0A2I0Q3B9', 'A0A2H4VQQ0', 'D9PXL0', 'A0A8G1EFX8', 'A0A843DCN5', 'A0A7L4QYA7', 'A0A7K4A113', 'A0A831L3C9', 'A7I9T1', 'A0A843JNR5', 'A0A1V6IQL5', 'A0A150JJE9', 'Q64AP0', 'A0A7G9Z7M2', 'A0A2I0NQ28', 'A0A7L4R0D0', 'A0A8T3VTI1', 'A0A832UAR4', 'A0A101J0F7', 'A0A101H6W4', 'A0A5B9M355', 'K2QCR6', 'A0A7L4PQ66', 'A0A1I4GYH3', 'A0A849PHU1', 'A0A843DTJ8', 'A0A842XIB1', 'D3E1V8', 'A0A843D4L7', 'R9SIN0', 'A0A847SZ14', 'A0A843DT95', 'A0A7L4QKJ5', 'A0A1V4UXG7', 'A0A849QSR7', 'A0A7J4KDH4', 'A0A847UXC9', 'A0A1V5BE42', 'A0A1V4VAX6', 'A0A2I0CYF6', 'A0A7C3Y0Y1', 'A0A843KBH5', 'A0A8T7H033', 'A0A7K3Y2J1', 'A0A7J3D7M1', 'L0HEM9', 'A0A5E4IH80', 'A0A7J4EDN9', 'Q6MZD9', 'D1JFU1', 'A0A0X3BRB0', 'A0A126QYW0', 'A0A843BXM9', 'A0A2I0PUK2', 'A0A2V3JMF9', 'A0A524QML5', 'A0A8A3S6I5', 'A0A7L4PJB3', 'Q64EF9', 'A0A1V6N1K8', 'A0A6B9TFN1', 'A0A2Z4LAU7', 'G7WND2', 'A0A328SR02', 'A0A1D2X3Q7', 'A0A842KQT0', 'A0A8J7W823', 'A0A7K3YVM7', 'A0A842MDQ6', 'A0A842M8P2', 'A0A1V4UCU1', 'A0A8T9VP19', 'A0A2V2MW46', 'A0A1V5AYQ7', 'A0A7K4DHR7', 'Q64A07', 'A0A150J4Q7', 'A0A3N5BSN2', 'A0A1H7KML6', 'A0A1D2WPA8', 'A0A832FKU3', 'A0A1V5A3B7', 'A0A1V4UU30', 'A0A7G9YX99', 'A0A1V4YN59', 'A0A7K4BCR9', 'Q2FL72', 'A0A3R7VPB6', 'A0A2V2N3R7', 'A0A7J4FUR2', 'A0A7L4NYX2', 'A0A7G9YFG8', 'A0A7T9CET1', 'A0A328SDC1', 'A0A520JXK9', 'A0A2I0PCQ2', 'A0A832RRJ3', 'A0A101DQJ3', 'A0A1V5T0H9', 'A0A832UBW9', 'A0A366MD95', 'A0A482ATK5', 'A3CXR0', 'A0A7C1DU42', 'A0A328RX70', 'K6U2U4', 'A0A7C3FC71', 'A0A2V3JBG7', 'A0A843AKG5', 'A0A8J8PD49', 'A0A843K8S1', 'A2SR09', 'A0A7J9RMY1', 'A0A1V5AQP5', 'A0A1V4UJJ6', 'A0A7C0XNK3', 'A0A166A893', 'F4C094', 'A0A1V4VAL1', 'A0A1V4ZFV4', 'A0A1V4TWC7', 'A0A1V4ZCK4', 'A0A328S5C6', 'A0A3N9UW20', 'A0A5E4IVL6', 'A0A257MHR5', 'A0A7K4D638', 'A0A257MM46', 'A0A7J3UZC4', 'Q2NF67', 'A0A328Q7N0', 'A0A1D2WEF0', 'A0A8F5VP36', 'A0A8E7EG62', 'A0A1Y3G9Z4', 'A0A520KSE4', 'A0A498H2G4', 'A0A8S9WEI1', 'A0A662RGJ5', 'H1KXH1', 'A0A7K4AHM1', 'A0A847VBP5', 'A0A366MEZ7', 'A0A1Y3GDJ3', 'A0A843K321', 'A0A7C4NH02', 'A0A523B3C5', 'A0A0H1R0V7', 'A0A7K4BRR5', 'R9TB02', 'A0A7L4Q232', 'F6BCR5', 'A0A7L4R3X2', 'A0A2V3JCC2', 'I7KCY1', 'A0A063ZI95', 'A0A832U4F3', 'A0A444L8D5', 'A0A328SC90', 'A0A843L371', 'A0A832SLY9', 'B8GHE4', 'A0A8T4DEM3', 'A0A1M4MM27', 'J0S380', 'A0A368TIA5', 'A0A7K4CGD9', 'A0A1V5AEC2', 'A0A1V4UPH2', 'A0A832W6V9', 'A0A1V5ZFR5', 'A0A831LRR8', 'A0A7K4HPV7', 'A0A843LRJ7', 'A0A843LA27', 'A0A3N5X0C7', 'A0A7K4A5P4', 'A0A0X3BM96', 'A0A484F4W8', 'A0A7K3YCU1', 'A0A843CJN7', 'D7DS03', 'A0A7K4B0T9', 'A0A7C1IK62', 'A0A1G8WRA8', 'A0A2I0NT47', 'A0A257MNW0', 'A0A0Q0VYE0', 'A0A843KHT4', 'A0A843LI59', 'A0A1V6K3A4', 'A0A520K704', 'A0A7K4APY8', 'A0A1V5A7T6', 'A0A1V4UHA1', 'A0A8T4D7W8', 'A0A7C6D1W8', 'A6UP66', 'A0A7L4QFR7', 'H1Z302', 'A0A2L1CCU2', 'H1Z158', 'A0A7J9PS71', 'A0A7J9PKA1', 'A0A7J9NM97', 'A0A7J9PAP3', 'A0A7J9NYJ0', 'A0A7D5T3N0', 'A0A7J9NS94', 'A0A2Z5PSY2', 'A0A2Z5PHK2', 'A0A8T3VXM8', 'A0A7J9S2B2', 'G0H0K8', 'Q6LYD5', 'A0A7J9RX85', 'A0A7J9NN89', 'A6VG04', 'A0A7J9PHB0', 'A4FXC2', 'A0A662IXW4', 'A9AAP1', 'A0A7K4A928', 'A0A662JKM4', 'A0A843F2V8', 'A0A0Q0VDU5', 'A0A2I0P650', 'A0A7L4Q1E2', 'A0A1Q6DW13', 'A0A843FIF4', 'A0A0Q0W1Z1', 'A0A8T4FVZ1', 'A0A7L4PRP1', 'A0A843DY37', 'A0A8T3VSN1', 'A0A0A7LBH0', 'A0A0Q4BCT1', 'A0A843CVL3', 'R7PXX2', 'M9S9V3', 'A0A3G3IFG0', 'D1JBL6', 'A0A843EAZ9', 'A0A126QV95', 'A0A832TGT0', 'A0A6B9T9V8', 'A0A843JL32', 'A0A1V5A3B9', 'A0A1V4U9Y8', 'A0A843IAN6', 'A0A843DTQ0', 'A0A0X8V1Z6', 'A0A8T4DH50']\n",
      "21/27 Processing ../raw_sequences/Thioamide/Jesko2/Fasta.fa\n"
     ]
    },
    {
     "name": "stdout",
     "output_type": "stream",
     "text": [
      "Got results:\n",
      "['A0A1Q4XN37', 'A0A1C6UB24', 'A0A229RNL7', 'A0A154M4V3', 'A0A193BSG9', 'A0A1R0KWS9', 'A0A229RYW0', 'A0A2T0N7C3', 'A0A010ZR31', 'A0A239PCE0', 'A0A229S9K9', 'A0A1H3TLS8', 'A0A4R5EEK9', 'A0A8J3Q978', 'A0A1C6TT33', 'A0A3A9Y6E0', 'A0A7W9H482', 'A0A0N0HLJ3', 'A0A7K1KSY3', 'A0A0F0GSX1', 'A0A1S2PC86', 'A0A1R1S5L9', 'A0A2Z5WLL4', 'A0A8J7KJS2', 'A0A8J4E5M4', 'A0A1J4PYC2', 'A0A840P1S7', 'A0A3S5GY88', 'A0A429GDY0', 'A0A4D9CFI4', 'T2HWM4', 'A0A0K1EF39', 'A0A4Q0SZI9', 'A0A1H1YV18', 'A0A3N5RCQ9', 'A0A060HQ07', 'D4N6W6', 'A0A7K4A113', 'A0A520KSE4', 'A0A533UWL3', 'A0A533VF70', 'A0A8T7GJ04', 'A0A075MW40', 'A0A7J4L8D5', 'A0A1G9ASI5', 'A0A8F5VP36', 'A0A8E7EG62', 'A0A6A7LCX4', 'A0A1V5A3B7', 'A0A1V4UU30', 'A0A838W2R6', 'A0A2I0NQ28', 'A0A2I0P8S1', 'A0A5B2Z6M8', 'A0A7J4PNY4', 'A0A832S9X1', 'A3CV63', 'A0A0H1QXZ8', 'A0A2V8MVP5', 'Q2FL72', 'A0A0Q0VBY2', 'A0A1V5T0H9', 'A0A5E4IH80', 'A0A2V2MW46', 'A0A0X3BRB0', 'A0A1M4MMA9', 'A0A8T7H033', 'A0A524QML5', 'I7LKL0', 'A0A842XIB1', 'A0A257MHR5', 'A0A2K5ASZ8', 'A0A832CEI4', 'A0A7C4TN06', 'A0A831L3C9', 'A0A257MM46', 'A0A849PHU1', 'A0A7K3YVM7', 'A0A498H2F9', 'A2SR09', 'A0A847UXC9', 'A0A1V5BE42', 'A0A1V4VAX6', 'A0A843K8S1', 'A0A838U2P6', 'A0A2V2U5N5', 'A0A7K4BCR9', 'A0A1V5AYQ7', 'A0A3N9UW20', 'A0A7J2YCK8', 'A0A366MEZ7', 'A0A5E4IVL6', 'A0A2V2N3R7', 'A0A843D4L7', 'A0A7G9YFG8', 'A0A843DTJ8', 'A0A7L4PQI7', 'A0A101IKT6', 'A0A0Q1AX08', 'A0A520JXK9', 'A0B902', 'A0A6G1YPE4', 'A0A7K4D638', 'A0A6A8FJD2', 'F4C094', 'A0A1V4VAL1', 'G7WND2', 'A0A843DT95', 'A0A1V4UCU1', 'A0A843ALY3', 'A0A257MNW0', 'A0A1V5AQP5', 'A0A1V4UJJ6', 'A0A7C4WDB1', 'A0A523B657', 'A0A7K4AHM1', 'A0A2V3JMF9', 'A0A7L4R0D0', 'A0A842LU58', 'A0A2I0P3T6', 'A0A523B9K5', 'A0A8J7W823', 'A0A654M7U7', 'A0A832EYA9', 'A0A523AD83', 'A0A847VBP5', 'A0A7J4N5H4', 'A0A843K321', 'A0A482ATK5', 'L0HEM9', 'A0A7K4CGD9', 'A0A1V5AEC2', 'A0A1V4UPH2', 'A0A150J249', 'A0A662RGJ5', 'A0A2I0CYF6', 'A0A832UAR4', 'A0A101J0F7', 'A0A101H6W4', 'A0A7C6D1W8', 'A0A7J4FUR2', 'A0A1V4ZFV4', 'A0A1V4TWC7', 'A0A484ID53', 'A0A1V4UXG7', 'A0A7L4QKJ5', 'A0A150IV03', 'A0A7K4BTH1', 'A0A150J4Q7', 'B8GHE4', 'A0A523BI35', 'A0A429GG00', 'A0A843LA27', 'A0A843KPL2', 'A7I9T1', 'A0A843JNR5', 'A0A1V6IQL5', 'A0A150JJE9', 'A0A524I1Z6', 'A0A1V5B374', 'A0A7K4B0T9', 'A0A7L4PQ66', 'A0A1Y3G9Z4', 'A0A1V5ZFR5', 'A0A843BXM9', 'A0A0Q0VYE0', 'A0A843AZJ3', 'A0A1V5A7T6', 'A0A1V4UHA1', 'A0A1Y3GDJ3', 'A0A8T4DEM3', 'A0A1V4ZYM4', 'A0A2I0PUK2', 'A6UP66', 'A0A832UBW9', 'H1KXH1', 'A0A3R7VPB6', 'A0A842PEI1', 'A0A8T9VP19', 'F6BCR5', 'A0A842LH29', 'A0A3N5X0C7', 'A0A2I0PCQ2', 'A0A1V4TQ74', 'A0A2V8S2N8', 'A0A843KBH5', 'A0A8S9WEI1', 'A0A832FKU3', 'A9AAP1', 'A0A7J3D7M1', 'A0A143PIS8', 'A0A7J9RMY1', 'A0A842MDQ6', 'A0A7K4BRR5', 'A0A7J9NM97', 'A0A150R9F4', 'A0A8D6PUS0', 'A0A7L4PJB3', 'A0A384HZ60', 'Q6LYD5', 'A0A7J9RX85', 'A0A2Z5PSY2', 'A0A2Z5PHK2', 'A0A7J9NN89', 'A6VG04', 'A0A7J9PHB0', 'A0A7J9NS94', 'G0H0K8', 'A0A7J3UZC4', 'A0A7C3FC71', 'A0A7L4Q1E2', 'A0A444L8D5', 'A0A843GN43', 'A0A8T3VXM8', 'A0A843G5Y3', 'A0A843EKR9', 'A0A843J7A1', 'A0A842M8P2', 'A0A843GYR9', 'A0A520K704', 'A0A8T4D7W8', 'A0A8T3VM52', 'A4FXC2', 'H8I5Q6', 'R9TB02', 'A0A2V6YE40', 'A0A1V4YUJ9', 'A0A1V4ZCK4', 'Q0W324', 'A0A8J8PD49', 'A0A2I0PMS9', 'A0A843RDX9', 'U6EE58', 'A0A7D5T3N0', 'C9RI92', 'C7P9B3', 'A0A1U7J2C6', 'A0A7Y3KQL5', 'A0A0F4QW14', 'D1YW04', 'A0A7L4P2E8', 'A0A8G2BG12', 'A0A1D3L4G9', 'A0A537RYK1', 'A0A1X7HA08', 'A0A1Q9GIX7', 'A0A1F7PR31', 'A0A431VBU8', 'A0A7X0C610', 'A0A839W1B6', 'A0A235HEX9', 'A0A2V7B6D0', 'K9WIL1', 'A0A347ANT5', 'A0A5A9GWW7', 'A0A8F8P5Z9', 'A0A8F8P2A8', 'A0A8F8J7Q4', 'A0A8F8IWB6', 'A0A7C9ICZ2', 'A0A5A9FHE1', 'A0A2V6QU23', 'A0A560CMU3', 'A1B7P9', 'A0A8F8IKG8', 'A0A545ZB32', 'A0A4Q7FXI0', 'A0A3S0V8L7', 'A0A2V8MZT3', 'A0A545SMX1', 'A0A6N1ATR3', 'A0A833A758', 'A0A4Y8QQE5', 'A0A4R2D6L6', 'A0A0Q4BCT1', 'A0A7V3CFJ0', 'A0A843DTQ0', 'A0A4P7Z6H7', 'A0A2U1X1M2', 'A0A1X7Q4M8', 'A0A0X8V1Z6', 'A0A2U1Y8W0', 'A0A7W7YYM1', 'A0A849E8E8', 'A0A1G9R370', 'A0A3S0V2U7', 'A0A7W8EEI7', 'A0A6N8SE16', 'A0A1A9G4G1', 'A0A7S9GS73', 'A0A2L0F7W3', 'A0A418VMH3', 'A0A7C2ZTI1', 'A0A6I6IRI0', 'A0A2W4C2W8', 'A0A2T1HQ29', 'A0A7S4ZSC2']\n",
      "22/27 Processing ../raw_sequences/Thioamide/Jesko/Fasta.fa\n",
      "Got results:\n",
      "['A0A1J4PYC2', 'A0A1S2PC86', 'A0A7W9H482', 'A0A2Z5WLL4', 'A0A1R1S5L9', 'A0A0N0HLJ3', 'A0A4D9CFI4', 'A0A0F0GSX1', 'A0A154M4V3', 'A0A193BSG9', 'A0A229RYW0', 'A0A229RNL7', 'A0A1R0KWS9', 'A0A1C6TT33', 'A0A8J3Q978', 'A0A3A9Y6E0', 'A0A7K1KSY3', 'T2HWM4', 'A0A2T0N7C3', 'A0A1C6UB24', 'A0A8J4E5M4', 'A0A840P1S7', 'A0A429GDY0', 'A0A010ZR31', 'A0A1Q4XN37', 'A0A229S9K9', 'A0A239PCE0', 'A0A1H3TLS8', 'A0A4R5EEK9', 'A0A3S5GY88', 'A0A0K1EF39', 'A0A8J7KJS2', 'A0A4Q0SZI9', 'A0A1H1YV18', 'A0A6A7LCX4', 'A0A2V8MVP5', 'A0A3N5WB13', 'A0A8T7GJ04', 'A0A533UWL3', 'A0A5B2Z6M8', 'A0A533VF70', 'A0A838NAR4', 'A0A838W2R6', 'A0A3N5RCQ9', 'A0A533VBI8', 'A0A7J4PNY4', 'A0A7K4A113', 'A0A1V5A3B7', 'A0A1V4UU30', 'A0A533U9J3', 'D4N6W6', 'A0A1V4UCU1', 'A0A8T4DEM3', 'A0A843BXM9', 'A0A843DT95', 'A0A838U2P6', 'A0A7J4L8D5', 'A0A0H1QXZ8', 'A0A843D4L7', 'A0A843DTJ8', 'A0A842XIB1', 'A0A7C4WDB1', 'A0A523B657', 'A0A8T9VP19', 'A0A1V4ZYM4', 'A0A842LH29', 'A0A1M4MMA9', 'A0A101IKT6', 'A0A0Q1AX08', 'A0A849PHU1', 'A0A520JXK9', 'L0HEM9', 'A0A2V8S2N8', 'A0A1G9ASI5', 'A3CV63', 'A0A0Q0VBY2', 'A0A1Y3G9Z4', 'A0A2V3JMF9', 'A0A843AZJ3', 'A0A545SMX1', 'A0A2I0CYF6', 'A0A1Y3GDJ3', 'A0A0Q0VYE0', 'A0A7J3D7M1', 'A0A838D5A6', 'A0A847UXC9', 'A0A1V5BE42', 'A0A1V4VAX6', 'A0A662RGJ5', 'A0A1V4ZFV4', 'A0A1V4TWC7', 'A0A3N5X0C7', 'A0A8F5VP36', 'A0A8E7EG62', 'A0A7G9YFG8', 'A0A1V5T0H9', 'Q2FL72', 'A0A520KSE4', 'A0A1V4TQ74', 'A0A498H2F9', 'A0A2I0P3T6', 'A0A7K4BCR9', 'A0A7L4R0D0', 'A0A557SS26', 'B8GHE4', 'A0A8S9WEI1', 'A0A7J4FUR2', 'A0A2V2N3R7', 'A0A832S9X1', 'A0A831L3C9', 'G7WND2', 'A0A843KPL2', 'A0A2I0NQ28', 'A0A847VBP5', 'A0A5E4IH80', 'A0A843ALY3', 'A0A366MEZ7', 'A0A7J4N5H4', 'A0A654M7U7', 'A0A832EYA9', 'A0A523AD83', 'A0A2V2MW46', 'A0A524I1Z6', 'A0A832UAR4', 'A0A101J0F7', 'A0A101H6W4', 'A0A832CEI4', 'A0A7C4TN06', 'A2SR09', 'A0A7L4PQI7', 'A0A3M1LJP2', 'A0A7S9GS73', 'A0A2K5ASZ8', 'A0A2I0P8S1', 'A0A843KBH5', 'A0B902', 'A0A2I0PUK2', 'A0A1V5AQP5', 'A0A1V4UJJ6', 'A0A7C6D1W8', 'A0A7K4B0T9', 'A0A523B9K5', 'A0A7K3YVM7', 'A0A1V5A7T6', 'A0A1V4UHA1', 'A0A1V5ZFR5', 'A0A7K4BRR5', 'A0A257MHR5', 'A0A2I0PCQ2', 'A0A832UBW9', 'A0A1V4UXG7', 'A0A1V5B374', 'A0A257MM46', 'A0A843LA27', 'A0A7K4D638', 'A0A7L4QFR7', 'F4C094', 'A0A1V4VAL1', 'A0A1V5AYQ7', 'A0A2V8MZT3', 'A0A5E4IVL6', 'A0A842MDQ6', 'A7I9T1', 'A0A7L4PJB3', 'A0A523BAJ5', 'A0A257MNW0', 'A0A7K4APY8', 'A0A7J9RMY1', 'A0A150R9F4', 'A0A843K8S1', 'A0A143PIS8', 'A0A2V6YE40', 'A0A7K4AHM1', 'A0A524QML5', 'A0A7K4CGD9', 'A0A1V5AEC2', 'A0A1V4UPH2', 'A0A8T4D7W8', 'A0A7J3UZC4', 'A0A832FKU3', 'A0A847SZ14', 'A0A3R7VPB6', 'A6UP66', 'A0A520K704', 'H1KXH1', 'A0A3N9UW20', 'A0A1Q6DW13', 'A0A523BI35', 'A0A429GG00', 'A0A7D5T3N0', 'A0A537UVB0', 'A0A2V7B6D0', 'A0A0D7QJ51', 'A0A2I0PMS9', 'A0A7C1IK62', 'H1Z302', 'A0A843J9F4', 'A0A7Y3KQL5', 'A0A1F7PR31', 'B6B5A0', 'A0A2I0Q3B9', 'A0A2H4VQQ0', 'A0A2H4VGU0', 'A0A2H4VC98', 'A0A7L4Q1E2', 'A0A0Q4BCT1', 'A0A484F4W8', 'A0A843CJN7', 'K6U2U4', 'S4XWU3', 'A0A150PNG5', 'A0A0F8QHV9', 'A0A0F8C8Z7', 'A0A328RX70', 'A0A0F8U9T9', 'Q8PWW8', 'A0A0F8GIH6', 'A0A0E3S352', 'A0A0E3RQJ2', 'A0A0E3RL06', 'A0A0E3RCL6', 'A0A2A2HBU9', 'A0A843GYR9', 'A0A0F8F5B2', 'A0A0F8EW94', 'A0A0F8EJ75', 'A0A0F8D027', 'A0A0F8N0Z4', 'A0A0E3PZJ8', 'A0A0F8QGB4', 'A0A4Q7FXI0', 'D0LNV5', 'A0A0F8HA62', 'A0A843F3Y1', 'A0A0U3EA32', 'A0A843IJG2', 'A0A0A7LBH0', 'Q0W324', 'A0A0F8NC77', 'M1QIT8', 'A0A0D8D8S8', 'Q12UD2', 'A0A560BQF9', 'A0A418VMH3', 'A0A7K3ZLE5', 'A0A316H8T9', 'A0A7J9YTR0', 'A0A8T4DH50', 'A0A0E3NT67', 'A0A0E3NMW1', 'A0A1I4DNR9', 'A0A3R7DTE5', 'A0A2L0F7W3', 'A0A560CSK3', 'A0A1E7GEN0', 'A0A662R5D8']\n",
      "23/27 Processing ../raw_sequences/Thioamide/Thioholgamide/Fasta.fa\n",
      "Got results:\n",
      "['A0A1J4PYC2', 'A0A1S2PC86', 'A0A7W9H482', 'A0A2Z5WLL4', 'A0A1R1S5L9', 'A0A0N0HLJ3', 'A0A4D9CFI4', 'A0A0F0GSX1', 'A0A154M4V3', 'A0A193BSG9', 'A0A229RYW0', 'A0A229RNL7', 'A0A1R0KWS9', 'A0A1C6TT33', 'A0A8J3Q978', 'A0A3A9Y6E0', 'A0A7K1KSY3', 'T2HWM4', 'A0A2T0N7C3', 'A0A1C6UB24', 'A0A8J4E5M4', 'A0A840P1S7', 'A0A429GDY0', 'A0A010ZR31', 'A0A1Q4XN37', 'A0A229S9K9', 'A0A239PCE0', 'A0A1H3TLS8', 'A0A4R5EEK9', 'A0A3S5GY88', 'A0A0K1EF39', 'A0A8J7KJS2', 'A0A4Q0SZI9', 'A0A1H1YV18', 'A0A6A7LCX4', 'A0A2V8MVP5', 'A0A3N5WB13', 'A0A8T7GJ04', 'A0A533UWL3', 'A0A5B2Z6M8', 'A0A533VF70', 'A0A838NAR4', 'A0A838W2R6', 'A0A3N5RCQ9', 'A0A533VBI8', 'A0A7J4PNY4', 'A0A7K4A113', 'A0A1V5A3B7', 'A0A1V4UU30', 'A0A533U9J3', 'D4N6W6', 'A0A1V4UCU1', 'A0A8T4DEM3', 'A0A843BXM9', 'A0A843DT95', 'A0A838U2P6', 'A0A7J4L8D5', 'A0A0H1QXZ8', 'A0A843D4L7', 'A0A843DTJ8', 'A0A842XIB1', 'A0A7C4WDB1', 'A0A523B657', 'A0A8T9VP19', 'A0A1V4ZYM4', 'A0A842LH29', 'A0A1M4MMA9', 'A0A101IKT6', 'A0A0Q1AX08', 'A0A849PHU1', 'A0A520JXK9', 'L0HEM9', 'A0A2V8S2N8', 'A0A1G9ASI5', 'A3CV63', 'A0A0Q0VBY2', 'A0A1Y3G9Z4', 'A0A2V3JMF9', 'A0A843AZJ3', 'A0A545SMX1', 'A0A2I0CYF6', 'A0A1Y3GDJ3', 'A0A0Q0VYE0', 'A0A7J3D7M1', 'A0A838D5A6', 'A0A847UXC9', 'A0A1V5BE42', 'A0A1V4VAX6', 'A0A662RGJ5', 'A0A1V4ZFV4', 'A0A1V4TWC7', 'A0A3N5X0C7', 'A0A8F5VP36', 'A0A8E7EG62', 'A0A7G9YFG8', 'A0A1V5T0H9', 'Q2FL72', 'A0A520KSE4', 'A0A1V4TQ74', 'A0A498H2F9', 'A0A2I0P3T6', 'A0A7K4BCR9', 'A0A7L4R0D0', 'A0A557SS26', 'B8GHE4', 'A0A8S9WEI1', 'A0A7J4FUR2', 'A0A2V2N3R7', 'A0A832S9X1', 'A0A831L3C9', 'G7WND2', 'A0A843KPL2', 'A0A2I0NQ28', 'A0A847VBP5', 'A0A5E4IH80', 'A0A843ALY3', 'A0A366MEZ7', 'A0A7J4N5H4', 'A0A654M7U7', 'A0A832EYA9', 'A0A523AD83', 'A0A2V2MW46', 'A0A524I1Z6', 'A0A832UAR4', 'A0A101J0F7', 'A0A101H6W4', 'A0A832CEI4', 'A0A7C4TN06', 'A2SR09', 'A0A7L4PQI7', 'A0A3M1LJP2', 'A0A7S9GS73', 'A0A2K5ASZ8', 'A0A2I0P8S1', 'A0A843KBH5', 'A0B902', 'A0A2I0PUK2', 'A0A1V5AQP5', 'A0A1V4UJJ6', 'A0A7C6D1W8', 'A0A7K4B0T9', 'A0A523B9K5', 'A0A7K3YVM7', 'A0A1V5A7T6', 'A0A1V4UHA1', 'A0A1V5ZFR5', 'A0A7K4BRR5', 'A0A257MHR5', 'A0A2I0PCQ2', 'A0A832UBW9', 'A0A1V4UXG7', 'A0A1V5B374', 'A0A257MM46', 'A0A843LA27', 'A0A7K4D638', 'A0A7L4QFR7', 'F4C094', 'A0A1V4VAL1', 'A0A1V5AYQ7', 'A0A2V8MZT3', 'A0A5E4IVL6', 'A0A842MDQ6', 'A7I9T1', 'A0A7L4PJB3', 'A0A523BAJ5', 'A0A257MNW0', 'A0A7K4APY8', 'A0A7J9RMY1', 'A0A150R9F4', 'A0A843K8S1', 'A0A143PIS8', 'A0A2V6YE40', 'A0A7K4AHM1', 'A0A524QML5', 'A0A7K4CGD9', 'A0A1V5AEC2', 'A0A1V4UPH2', 'A0A8T4D7W8', 'A0A7J3UZC4', 'A0A832FKU3', 'A0A847SZ14', 'A0A3R7VPB6', 'A6UP66', 'A0A520K704', 'H1KXH1', 'A0A3N9UW20', 'A0A1Q6DW13', 'A0A523BI35', 'A0A429GG00', 'A0A7D5T3N0', 'A0A537UVB0', 'A0A2V7B6D0', 'A0A0D7QJ51', 'A0A2I0PMS9', 'A0A7C1IK62', 'H1Z302', 'A0A843J9F4', 'A0A7Y3KQL5', 'A0A1F7PR31', 'B6B5A0', 'A0A2I0Q3B9', 'A0A2H4VQQ0', 'A0A2H4VGU0', 'A0A2H4VC98', 'A0A7L4Q1E2', 'A0A0Q4BCT1', 'A0A484F4W8', 'A0A843CJN7', 'K6U2U4', 'S4XWU3', 'A0A150PNG5', 'A0A0F8QHV9', 'A0A0F8C8Z7', 'A0A328RX70', 'A0A0F8U9T9', 'Q8PWW8', 'A0A0F8GIH6', 'A0A0E3S352', 'A0A0E3RQJ2', 'A0A0E3RL06', 'A0A0E3RCL6', 'A0A2A2HBU9', 'A0A843GYR9', 'A0A0F8F5B2', 'A0A0F8EW94', 'A0A0F8EJ75', 'A0A0F8D027', 'A0A0F8N0Z4', 'A0A0E3PZJ8', 'A0A0F8QGB4', 'A0A4Q7FXI0', 'D0LNV5', 'A0A0F8HA62', 'A0A843F3Y1', 'A0A0U3EA32', 'A0A843IJG2', 'A0A0A7LBH0', 'Q0W324', 'A0A0F8NC77', 'M1QIT8', 'A0A0D8D8S8', 'Q12UD2', 'A0A560BQF9', 'A0A418VMH3', 'A0A7K3ZLE5', 'A0A316H8T9', 'A0A7J9YTR0', 'A0A8T4DH50', 'A0A0E3NT67', 'A0A0E3NMW1', 'A0A1I4DNR9', 'A0A3R7DTE5', 'A0A2L0F7W3', 'A0A560CSK3', 'A0A1E7GEN0', 'A0A662R5D8']\n",
      "24/27 Processing ../raw_sequences/Thioamide/Thiostreptamide/Fasta.fa\n"
     ]
    },
    {
     "name": "stdout",
     "output_type": "stream",
     "text": [
      "Got results:\n",
      "['A0A0N0HLJ3', 'A0A7W9H482', 'A0A2Z5WLL4', 'A0A1R1S5L9', 'A0A1S2PC86', 'A0A1J4PYC2', 'A0A0F0GSX1', 'A0A4D9CFI4', 'A0A193BSG9', 'A0A154M4V3', 'A0A229RYW0', 'A0A229RNL7', 'A0A1R0KWS9', 'A0A1C6UB24', 'A0A8J3Q978', 'A0A1C6TT33', 'T2HWM4', 'A0A3A9Y6E0', 'A0A2T0N7C3', 'A0A8J4E5M4', 'A0A7K1KSY3', 'A0A429GDY0', 'A0A840P1S7', 'A0A010ZR31', 'A0A1Q4XN37', 'A0A229S9K9', 'A0A239PCE0', 'A0A4R5EEK9', 'A0A1H3TLS8', 'A0A0K1EF39', 'A0A8J7KJS2', 'A0A3S5GY88', 'A0A4Q0SZI9', 'A0A6A7LCX4', 'A0A8T7GJ04', 'A0A3N5WB13', 'A0A838W2R6', 'A0A1H1YV18', 'A0A7J4PNY4', 'A0A060HQ07', 'A0A2V8MVP5', 'A0A843BXM9', 'A0A5B2Z6M8', 'A0A533UWL3', 'A0A101IKT6', 'A0A0Q1AX08', 'A0A8T4DEM3', 'A0A7K4A113', 'A0A533VF70', 'A0A843DT95', 'A0A3N5X0C7', 'A0A3N5RCQ9', 'A0A533WLG8', 'A0A843D4L7', 'A0A843DTJ8', 'A0A838NAR4', 'K0IEK3', 'D4N6W6', 'A0A1Q7JXM8', 'A0A533VBI8', 'A0A075MW40', 'A0A1Q7FAQ1', 'A0A520JXK9', 'A0A832S9X1', 'A0A8T9VP19', 'A0A1V4ZFV4', 'A0A1V4TWC7', 'A0A838U2P6', 'A0A1V5A3B7', 'A0A1V4UU30', 'A0A533U9J3', 'A0A850SL35', 'A0A7J4L8D5', 'A0A2V8S2N8', 'A0A847UXC9', 'A0A1V5BE42', 'A0A1V4VAX6', 'A0A838D5A6', 'A0A1V4UCU1', 'A0A1Y3G9Z4', 'A0A545SMX1', 'A0A557SS26', 'A0A1Y3GDJ3', 'A0A849PHU1', 'A0A1M4MMA9', 'A0A847VBP5', 'A0A520KSE4', 'G7WND2', 'A0A0H1QXZ8', 'A0A1G9ASI5', 'A0A662RGJ5', 'A0A7J2YCK8', 'A0A654M7U7', 'A0A498H2F9', 'B8GHE4', 'A0A2V2U5N5', 'A3CV63', 'A0A5E4IH80', 'A0A832UAR4', 'A0A101J0F7', 'A0A101H6W4', 'A0A6G1YTD3', 'A0A1V5T0H9', 'A0A0Q0VBY2', 'A0A257MHR5', 'A0A7L4R0D0', 'Q2FL72', 'A0A0Q0VYE0', 'A0A257MM46', 'A0A2I0NQ28', 'A0A3M1LJP2', 'A0A1Q7KX28', 'A0A1Q7F7B1', 'A0A1Q7PPZ6', 'A0A2I0P3T6', 'I7LKL0', 'A0A8F5VP36', 'A0A8E7EG62', 'A0A1V4ZYM4', 'A0A6A8FJD2', 'A0A6G1YPE4', 'A0A8J7W823', 'A0A2I0P8S1', 'A0A2V3JMF9', 'A0A7L4QKJ5', 'F4C094', 'A0A1V4VAL1', 'A0A7J4FUR2', 'A0A2V2N3R7', 'A0A1V5A7T6', 'A0A1V4UHA1', 'A0A2I0PUK2', 'A0A7K4BCR9', 'A0A0X3BRB0', 'A0A8T7H033', 'A0A1V5B374', 'A0A7K4BTH1', 'A0A7L4PQ66', 'A0A7G9YFG8', 'A0A257MNW0', 'A0A842PZD1', 'A0A7K4AHM1', 'A0A7J3D7M1', 'A0A843JNR5', 'A0A1V6IQL5', 'A0A150JJE9', 'A0A482ATK5', 'A0A2I0CYF6', 'A0A843K8S1', 'A0A843KPL2', 'A0A1V5AYQ7', 'A0A524I1Z6', 'L0HEM9', 'A2SR09', 'A0A2I0PCQ2', 'A0A843LA27', 'A0A843KBH5', 'A0A7J9RMY1', 'A0A1V5AQP5', 'A0A1V4UJJ6', 'A0A7L4PQI7', 'A0A2K5ASZ8', 'A0A7J4N5H4', 'A0A832UBW9', 'A0A1V4TQ74', 'A0A7C3FC71', 'A0A843K321', 'A0A7L4QFR7', 'A0A7S9GS73', 'A0A7C6D1W8', 'A0A3N9UW20', 'A0A8S9WEI1', 'A0A831L3C9', 'A0A524QML5', 'A0A7K4D638', 'A0A7K4APY8', 'A0A7L4PJB3', 'A0A2V2MW46', 'A0A150J4Q7', 'A0A1V4UXG7', 'A0A0D7QJ51', 'A0A523BI35', 'A0A429GG00', 'A6UP66', 'A0A3R7VPB6', 'H1KXH1', 'A0A7K4B0T9', 'A0A7K4CGD9', 'A0A1V5AEC2', 'A0A1V4UPH2', 'A0A7K4BRR5', 'A0A1V5ZFR5', 'A0A7J3UZC4', 'A0A8T4D7W8', 'A0A842MDQ6', 'A0A143PIS8', 'H8I5Q6', 'A0A150R9F4', 'A0A1Q6DW13', 'A0A2V8MZT3', 'A0A520K704', 'A0A7L4Q1E2', 'A0A444L8D5', 'A0A537UVB0', 'A0A6G6WQR9', 'A0A843EAZ9', 'D0LNV5', 'A0A7C1IK62', 'A0A0U3EA32', 'A0A843F3Y1', 'A0A843IJG2', 'A0A7K4A928', 'D2ZMT0', 'A0A7L4P2E8', 'R7PVA3', 'A0A2H4U523', 'A0A328S5C6', 'B9AGV5', 'Q0W324', 'A0A537PDW4', 'A0A560CSK3', 'A0A2V6YE40', 'A5UKF7', 'A0A1D2WXU0', 'A0A560BQF9', 'A0A8T3VSN1', 'A0A0A7LBH0', 'G8ARW1', 'A0A560A0G2', 'A0A6N1AFZ1', 'S4XWU3', 'A0A150PNG5', 'A0A347ADY6', 'A0A4D8Q3D8', 'A0A560CMU3', 'A0A2U1YU61', 'A0A0F4QW14', 'A0A4P2QPR0', 'A0A2T4V8J3', 'A0A2U1XCD0', 'A0A4P7YUP6', 'A0A1M5Y1E0']\n",
      "25/27 Processing ../raw_sequences/Thioamide/Thiosparsoamide/Fasta.fa\n",
      "Got results:\n",
      "['A0A1R1S5L9', 'A0A7W9H482', 'A0A1S2PC86', 'A0A2Z5WLL4', 'A0A1J4PYC2', 'A0A0N0HLJ3', 'A0A4D9CFI4', 'A0A154M4V3', 'A0A193BSG9', 'A0A0F0GSX1', 'A0A229RYW0', 'A0A229RNL7', 'A0A8J3Q978', 'A0A1R0KWS9', 'A0A1C6TT33', 'A0A3A9Y6E0', 'A0A1C6UB24', 'A0A2T0N7C3', 'A0A7K1KSY3', 'T2HWM4', 'A0A8J4E5M4', 'A0A429GDY0', 'A0A840P1S7', 'A0A010ZR31', 'A0A1Q4XN37', 'A0A239PCE0', 'A0A229S9K9', 'A0A1H3TLS8', 'A0A4R5EEK9', 'A0A3S5GY88', 'A0A0K1EF39', 'A0A8J7KJS2', 'A0A4Q0SZI9', 'A0A1H1YV18', 'A0A3N5WB13', 'A0A2V8MVP5', 'A0A6A7LCX4', 'A0A060HQ07', 'A0A5B2Z6M8', 'A0A533UWL3', 'A0A8T7GJ04', 'A0A533VF70', 'A0A533VBI8', 'A0A3N5RCQ9', 'A0A533U9J3', 'A0A7J4PNY4', 'K0IEK3', 'D4N6W6', 'A0A533WLG8', 'A0A1Q7JXM8', 'A0A1Q7FAQ1', 'A0A843DT95', 'A0A8T4DEM3', 'A0A843D4L7', 'A0A7K4A113', 'A0A843DTJ8', 'A0A843BXM9', 'A0A0H1QXZ8', 'A0A842XIB1', 'A0A075MW40', 'A0A1V4UCU1', 'A0A1V5A3B7', 'A0A1V4UU30', 'A0A1Q7KX28', 'A0A1Q7F7B1', 'A0A8T9VP19', 'A0A1M4MMA9', 'A0A101IKT6', 'A0A0Q1AX08', 'A0A1Q7PPZ6', 'A0A7J4L8D5', 'A0A849PHU1', 'A3CV63', 'A0A847UXC9', 'A0A1V5BE42', 'A0A1V4VAX6', 'A0A850SL35', 'A0A838D5A6', 'A0A8F5VP36', 'A0A8E7EG62', 'L0HEM9', 'A0A3N5X0C7', 'A0A1V4ZYM4', 'A0A2I0CYF6', 'A0A7J4FUR2', 'A0A520JXK9', 'A0A1V4ZFV4', 'A0A1V4TWC7', 'A0A1Y3G9Z4', 'A0A831L3C9', 'A0A2V3JMF9', 'A0A1Y3GDJ3', 'A0A0Q0VBY2', 'A0A2K5ASZ8', 'A0A832S9X1', 'A0A7L4R0D0', 'Q2FL72', 'A0A662RGJ5', 'A0A1V5T0H9', 'A0A366MEZ7', 'A0A5E4IH80', 'A0A8S9WEI1', 'B8GHE4', 'A0A847VBP5', 'A0A2V2U5N5', 'A0A7G9YFG8', 'A0A1V4TQ74', 'A0A7J2YCK8', 'A2SR09', 'A0A2V2N3R7', 'A0A2I0PUK2', 'A0A7K4BCR9', 'A0A2V8S2N8', 'A0A8J7W823', 'A0B902', 'A0A520KSE4', 'A0A498H2F9', 'G7WND2', 'A0A832UAR4', 'A0A101J0F7', 'A0A101H6W4', 'A0A2I0P3T6', 'A0A6G1YTD3', 'A0A6A8FJD2', 'A0A6G1YPE4', 'A0A545SMX1', 'A0A832CEI4', 'A0A7C4TN06', 'A0A843KPL2', 'A0A7L4PQI7', 'A0A524I1Z6', 'A0A1V5AQP5', 'A0A1V4UJJ6', 'A0A7L4QFR7', 'A0A7K3YVM7', 'A0A7J4N5H4', 'A0A257MHR5', 'A0A843ALY3', 'A0A832EYA9', 'A0A523AD83', 'A0A3M1LJP2', 'A0A2I0PCQ2', 'A0A832UBW9', 'A0A7K4B0T9', 'A0A843LA27', 'A0A2V2MW46', 'A0A7C6D1W8', 'A0A1V4UXG7', 'A0A1V5ZFR5', 'A0A257MNW0', 'A0A5E4IVL6', 'A0A7L4PJB3', 'F4C094', 'A0A1V4VAL1', 'A0A1V5B374', 'A0A1V5AYQ7', 'A0A6A7LH51', 'A0A7C3FC71', 'A0A1V4ZCK4', 'A7I9T1', 'A0A842MDQ6', 'A0A7J9RMY1', 'A0A7K4D638', 'A0A7S9GS73', 'A0A7K4BRR5', 'A0A843K8S1', 'R9TB02', 'A0A150R9F4', 'A0A7K4AHM1', 'A0A7K4APY8', 'A0A8J8PD49', 'H1KXH1', 'A0A7J3UZC4', 'F6BCR5', 'A0A523BI35', 'A0A429GG00', 'A0A143PIS8', 'A0A7K4CGD9', 'A0A1V5AEC2', 'A0A1V4UPH2', 'A0A2V8MZT3', 'A0A520K704', 'A0A842M8P2', 'A6UP66', 'A0A1Q6DW13', 'A0A0D7QJ51', 'A0A2V6YE40', 'A0A2Z5PSY2', 'A0A2Z5PHK2', 'G0H0K8', 'A6VG04', 'A0A7J9PHB0', 'H1Z302', 'A0A7C1IK62', 'A0A7L4Q1E2', 'A0A0Q4BCT1', 'A0A537UVB0', 'A0A832S1E2', 'A0A7Y3KQL5', 'A0A1F7PR31', 'A0A484F4W8', 'A0A2V7B6D0', 'A0A0A7LBH0', 'B6B5A0', 'A0A841BI74', 'S4XWU3', 'A0A150PNG5', 'A0A7K3ZLE5', 'A0A2S1XRH3']\n",
      "26/27 Processing ../raw_sequences/Thioamide/TVA_YJ/Fasta.fa\n",
      "Got results:\n",
      "['A0A7W9H482', 'A0A2Z5WLL4', 'A0A1S2PC86', 'A0A1R1S5L9', 'A0A1J4PYC2', 'A0A0N0HLJ3', 'A0A4D9CFI4', 'A0A0F0GSX1', 'A0A154M4V3', 'A0A193BSG9', 'A0A8J3Q978', 'A0A229RYW0', 'A0A1R0KWS9', 'A0A229RNL7', 'A0A1C6TT33', 'A0A2T0N7C3', 'T2HWM4', 'A0A3A9Y6E0', 'A0A8J4E5M4', 'A0A1C6UB24', 'A0A429GDY0', 'A0A7K1KSY3', 'A0A840P1S7', 'A0A229S9K9', 'A0A1Q4XN37', 'A0A010ZR31', 'A0A239PCE0', 'A0A1H3TLS8', 'A0A4R5EEK9', 'A0A0K1EF39', 'A0A3S5GY88', 'A0A8J7KJS2', 'A0A4Q0SZI9', 'A0A1H1YV18', 'A0A6A7LCX4', 'A0A3N5WB13', 'A0A533UWL3', 'A0A533VF70', 'A0A533VBI8', 'A0A2V8MVP5', 'A0A5B2Z6M8', 'A0A3N5RCQ9', 'A0A060HQ07', 'A0A533U9J3', 'A0A843DT95', 'D4N6W6', 'A0A7K4A113', 'A0A838W2R6', 'A0A842XIB1', 'A0A1V5A3B7', 'A0A1V4UU30', 'A0A843D4L7', 'A0A843DTJ8', 'A0A7J4PNY4', 'A0A1V4UCU1', 'A0A843BXM9', 'K0IEK3', 'A0A8T4DEM3', 'A0A838NAR4', 'A0A533WLG8', 'A0A1Q7JXM8', 'A0A075MW40', 'A0A1Q7FAQ1', 'A0A520JXK9', 'A0A2V3JMF9', 'A0A849PHU1', 'A0A0H1QXZ8', 'A0A662RGJ5', 'A0A1M4MMA9', 'A0A8S9WEI1', 'A0A8F5VP36', 'A0A8E7EG62', 'A0A101IKT6', 'A0A0Q1AX08', 'A0A7J4FUR2', 'L0HEM9', 'A0A484ID53', 'A0A3N5X0C7', 'A0A2I0CYF6', 'A0A1V4ZFV4', 'A0A1V4TWC7', 'A0A7G9YFG8', 'A0A8T9VP19', 'A0A847VBP5', 'A0A1Y3G9Z4', 'A0A842LH29', 'A0A0Q0VBY2', 'A0A1V4ZYM4', 'A0A1Q7KX28', 'A0A1Q7F7B1', 'A0A1G9ASI5', 'A0A843AZJ3', 'A0A1Y3GDJ3', 'A0A838U2P6', 'A0A1Q7PPZ6', 'A0A847UXC9', 'A0A1V5BE42', 'A0A1V4VAX6', 'A0A5E4IH80', 'A3CV63', 'A0A557SS26', 'Q2FL72', 'A0A850SL35', 'A0A7J3D7M1', 'A0A1V5T0H9', 'A0A7L4R0D0', 'A0A831L3C9', 'A0A2I0P3T6', 'A0A3M1LJP2', 'A0A838D5A6', 'A0A7J4L8D5', 'A0A2V8S2N8', 'A0A1V5AQP5', 'A0A1V4UJJ6', 'A0A7J2YCK8', 'A0A832S9X1', 'A0A2V2N3R7', 'A0A7K4BCR9', 'B8GHE4', 'A0A498H2F9', 'G7WND2', 'A0A2K5ASZ8', 'A0A2I0PCQ2', 'A0A523BAJ5', 'A0A1V4TQ74', 'A0A2I0PUK2', 'A0A366MEZ7', 'A0A832CEI4', 'A0A7C4TN06', 'A0A832UAR4', 'A0A101J0F7', 'A0A101H6W4', 'A0A843KPL2', 'A0A7J4N5H4', 'A0A523B9K5', 'A0A843ALY3', 'A2SR09', 'A0A545SMX1', 'A0A842PZD1', 'A0A843KBH5', 'A0A832UBW9', 'A0A7S9GS73', 'A0A524I1Z6', 'A0A520KSE4', 'A0A7L4PQI7', 'A0A7C3FC71', 'A0A832EYA9', 'A0A523AD83', 'A0A8J7W823', 'A0A7K4B0T9', 'A0A7K4D638', 'A0A843LA27', 'A0A5E4IVL6', 'A0A2V2MW46', 'A0A1V5ZFR5', 'A0A7J9RMY1', 'A0A1V5AYQ7', 'A0A7C6D1W8', 'F4C094', 'A0A1V4VAL1', 'A0A7L4PJB3', 'A0A257MHR5', 'A7I9T1', 'A0A7J3UZC4', 'A0A1V5B374', 'A0A843K8S1', 'A0A1V4UXG7', 'A0A7K4BRR5', 'A0A257MM46', 'A0A8T4D7W8', 'A0A7K4AHM1', 'A0A257MNW0', 'A0A143PIS8', 'A0A7K4APY8', 'A0A7K4CGD9', 'A0A1V5AEC2', 'A0A1V4UPH2', 'A0A0D7QJ51', 'R9TB02', 'A0A150R9F4', 'A0A523BI35', 'A0A429GG00', 'A0A8J8PD49', 'A0A3N9UW20', 'A0A520K704', 'A0A524QML5', 'A0A2V8MZT3', 'A0A3R7VPB6', 'A0A1Q6DW13', 'H1KXH1', 'A0A842M8P2', 'F6BCR5', 'A0A7D5T3N0', 'A0A537UVB0', 'H1Z302', 'G0H0K8', 'A0A2Z5PSY2', 'A0A2Z5PHK2', 'Q6LYD5', 'A0A7J9RX85', 'A0A7C1IK62', 'A6VG04', 'A0A7J9PHB0', 'A0A7J9NM97', 'A0A8T3VXM8', 'A0A2V6YE40', 'A0A7J9NYJ0', 'A0A7J9PAP3', 'A0A7L4Q1E2', 'A0A7J9PKA1', 'A0A2L1CCU2', 'A0A843J9F4', 'A0A0Q4BCT1', 'A0A0E3WVR0', 'A0A0E3PJC6', 'A0A0E3P9W6', 'A0A0E3P0L0', 'A0A2H4VGU0', 'A0A2H4VC98', 'A0A2I0Q3B9', 'A0A2H4VQQ0', 'A0A7Y3KQL5', 'Q8TUA8', 'A0A832SJF3', 'S4XWU3', 'A0A150PNG5', 'A0A8T4DH50', 'A0A0D8D8S8', 'A0A662RD97', 'Q8PWW8', 'A0A0F8GIH6', 'A0A0E3S352', 'A0A0E3RQJ2', 'A0A0E3RL06', 'A0A0E3RCL6', 'A0A1E7GEN0', 'A0A0F8QGB4', 'A0A0F8N0Z4', 'A0A0E3PZJ8', 'A0A4Q7FXI0', 'A0A7V3CFJ0', 'A9EP78', 'A0A841BI74', 'A0A7L4P2E8', 'A0A3R7DTE5', 'R9SIN0']\n",
      "27/27 Processing ../raw_sequences/Thioamide/Thiopeptide_thioamide/Fasta.fa\n"
     ]
    },
    {
     "name": "stdout",
     "output_type": "stream",
     "text": [
      "Got results:\n",
      "['A0A1H8TGX8', 'A0A2V4NIH3', 'A0A318NF98', 'A0A1C4YSR5', 'A0A221W4I2', 'A0A229GYP0', 'D7BUX6', 'A0A640TM68', 'A0A1R1S9R9', 'A0A6G2X4V8', 'A0A3S9YEI0', 'A0A6G2R493', 'A0A1C6NDP0', 'A0A2U8VA38', 'A0A5N5VZL4', 'M3CDE7', 'A0A7X1IMZ1', 'A0A0M9Y9D3', 'A0A6M1L623', 'A0A1G7DKE5', 'A0A1G9IB19', 'A0A849C6Z3', 'A0A1E4I823', 'A0A1V4DCD0', 'A0A1W2LSQ0', 'A0A1V4CZ37', 'A0A372FXT4', 'A0A7W5YUQ2', 'A0A8J3CD60', 'A0A2B8AS43', 'A0A0W7X6X8', 'A0A1Q8CAF0', 'A0A7X0HKX8', 'A0A6G2XS19', 'A0A2K8R475', 'A0A2L2Q7H2', 'A0A150VL52', 'A0A1I1APM0', 'A0A1V2KQZ2', 'A0A0P7C7N5', 'A0A193BY82', 'W0FYB2', 'A0A4Q7ZL86', 'A0A1H3DU37', 'A0A124I0V6', 'A0A1Q5LDK5', 'A0A838ELM7', 'A0A2S4Y1F9', 'K4RH04', 'A0A1X1NBP1', 'A0A646KIP5', 'A0A6G9YIN9', 'A0A7K2JE43', 'A0A840INW5', 'A0A0Q6YPY1', 'A0A291RL38', 'A0A229H8X5', 'A0A370B538', 'A0A5R9DQX1', 'A0A7T4PM74', 'A0A1H6EQR9', 'A0A0M9YXN3', 'A0A561W045', 'A0A6G9Z7Y5', 'A0A0D7CJS1', 'A0A6B2RPJ1', 'A0A6H1NFM3', 'A0A1V2QL75', 'V6JMA9', 'W7VG94', 'A0A505HJJ9', 'A0A1X1UTC3', 'A0A2A3IKQ9', 'A0A212TX46', 'G2GAW6', 'A0A164LRJ0', 'A0A7Z7IRP7', 'A0A3A9ZJV1', 'A0A1C5J5S9', 'A0A1C5IE76', 'V6JXJ7', 'A0A2W2GBE7', 'A0A0M8XEK4', 'A0A2A9FJL9', 'A0A846RB80', 'A0A1C4XF72', 'A0A5C4QUV7', 'A0A0D4DE47', 'A0A653Q644', 'A0A1V2QFP0', 'A0A5D0PMJ7', 'A0A0L8L963', 'A0A3N9XRZ3', 'A0A419HXN3', 'A0A0M2S0J1', 'A0A2K8M9B7', 'A0A1X0LC12', 'B2HR59', 'A0A100I9E7', 'X7ZMQ4', 'X7YG51', 'U5WWJ4', 'A0A653ESG9', 'A0A1V3XXP5', 'A0A1V3WLF3', 'A0A498PU27', 'A0A1A8ZFG2', 'A0A5R9FT16', 'A0A3E2MU29', 'A0A2Z5YEF4', 'A0A498QPJ3', 'L7VBP1', 'A0A5B1B8L3', 'A0A285DPS0', 'A0A372M752', 'A0A101QG32', 'A0A384HPN7', 'A0A3N9X612', 'A0A229SPP2', 'A0A7I7LF27', 'A0A3N6CJC9', 'A0A3G4VNC2', 'A0A1C5FEN6', 'A0A2N3VM49', 'A0A109ILJ9', 'A0A0Q6Z1Q2', 'A0A0K3B3F4', 'A0A1I2BHV7', 'A0A5B1BP81', 'A0A1A8Z4P8', 'A0A4V2M479', 'A0A0N0XXR0', 'A0A845J452', 'A0A178WSL3', 'A0A4V1B114', 'A0A4Q7UE58', 'A0A1I5VAW1', 'G0TIH9', 'A0A239HEP9', 'A0A8H9J226', 'A0A1S2P3K5', 'A0A1X1Y6V1', 'A0A7K3C5J7', 'A0A1C6R5N5', 'A0A1X2EEF9', 'A0A7I7MPZ8', 'A0A1W9ZF79', 'A0A1X0LFV0', 'A0A066TQ97', 'A0A8I0EMB5', 'A0A653EDE4', 'A0A1X2D6W0', 'A0A8E0E058', 'A0A829CCD5', 'A0A806JIR0', 'A0A7U8Y351', 'A0A7U8UHW2', 'A0A7U8U5F5', 'A0A7U8TYC2', 'A0A7U4BTV4', 'A0A328GP47', 'A0A109SVZ7', 'A0A109S790', 'A0A0H3MA72', 'A0A7K2YWT0', 'A0A7K3CHX5', 'A0A498QWT0', 'A0A1Z1WGB3', 'A0A1X1W6Y3', 'A0A1A6B9E2', 'I2N3Z2', 'A0A6L8N8G9', 'A0A5H2UQI5', 'A0A841CQ13', 'A0A1X0LH41', 'A0A366LP95', 'A0A164ABM8', 'A0A1M4EE85', 'A0A1X2F3I2', 'A0A1I4X8I4', 'A0A7Z7IKD4', 'A0A1X2EEX1', 'P9WF27', 'P9WF26', 'A5U277', 'A0A8S8LMY9', 'A0A8S7LJP4', 'A0A8E0EZF4', 'A0A7U9K371', 'A0A0H3L9B2', 'A0A045J5R6', 'A0A1R3Y0B5', 'A0A355EV12', 'A0A8I2J771', 'A0A1X2BEG8', 'A0A1W9ZN88', 'A0A1R0UH94', 'A0A8D9ZXF1', 'A0A1W9ZVH7', 'A0A3S4BFD3', 'A0A7Z7IHP4', 'A0A1R0VLG2', 'A0A316EJ16', 'X7ZE61', 'X7XUI0', 'U5WXV5', 'A0A1V3XCB5', 'A0A8J4A014', 'A0A3S0TZV0', 'A0A5R9EIX1', 'A0A1X1UYF9', 'A0A8G1UCK6', 'A0A1X2DJK4', 'A0A8J3YHT4', 'A0A498PZG0', 'A0A8J8HFN0', 'A0A2A3IMG3', 'A0A212TWL7', 'A0A5J5K356', 'A0A1X2DPK1', 'A0A8H9GYH9', 'A0A1C6S662', 'A0A544YMF2', 'A0A544ZHA6', 'A0A5N6BNF4', 'A0A498Q0S0', 'A0A1X1XX09', 'A0A1W9ZL40', 'A0A8E4PAF5', 'A0A386U5L6', 'A0A1A3KD02', 'A0A1A3IRX2', 'A0A1W9ZHM2', 'A0A5R8Z5I3', 'A0A5D0P8N5', 'A0A2E3MJ80', 'A0A1S2P0T8', 'X7YDJ6', 'A0A1V3W8H7', 'A0A2T5HCK8', 'A0A1X2EMM2', 'R4LL28', 'X7YYB3', 'U5WSW4', 'A0A1V3WIZ9', 'A0A367FJ04', 'M3CQD7', 'A0A1N7C4N4', 'A0A7W0HTA3', 'A0A1X2M0T0', 'A0A7W3N2H6', 'A0A4R5WE41', 'A0A0Q2UEE8', 'A0A1A2CN96', 'A0A1C5ICQ7', 'M3DI17', 'A0A7K3E1I5', 'A0A1I6FDS7', 'A0A5B1BP77', 'A0A7Z7N9Y4', 'A0A1X2CLE9', 'A0A2Z4UWL0', 'A0A1X2DJR8', 'A0A7K2L5Y2', 'A0A6G2YKL4', 'A0A327TSI5', 'A0A8J3VWL8', 'A0A1A6B9G3', 'A0A1C6TT35', 'A0A7R7HYP2', 'A0A100JTI5', 'A0A498PQZ6', 'A0A1G6TQB8', 'A0A2M8R0B9', 'R4MHE9', 'A0A1W9ZLI3', 'A0A248YIS4', 'A0A562IDG7', 'A0A1W9ZEE4', 'A0A1X2EE79', 'A0A5S4YXR0', 'A0A7W9G7Q4', 'A0A0N1GN23', 'A0A560CMU3', 'G8ARW1', 'A0A560A0G2', 'A0A4S2TIL9', 'A0A0P0F384', 'A0A7Y6IEQ1', 'A0A0S6UTI8', 'D7BVC5', 'A0A560BQF9', 'A0A2L0F7W3', 'A0A839W1B6', 'A0A4D8R6V9', 'A0A560CSK3', 'A0A7X0C610', 'A0A6I5HTL0', 'A0A1G9XV39', 'A0A495W280', 'A0A4Q5V9H3', 'A0A432DFM6', 'A0A0M8TT52', 'A0A235HEX9', 'A0A7C9N897', 'A0A7W7T5R1', 'A0A5C2CY99', 'A0A286DVZ4', 'A0A4D8Q3D8', 'A0A1H1RZ34', 'A0A060DUB2', 'A0A1G6Y4W6', 'A0A6L3ATJ4', 'A0A4D8PLI5', 'A0A7H8LZS3']\n"
     ]
    }
   ],
   "source": [
    "# define the starting directory\n",
    "root_dir = \"../raw_sequences\"\n",
    "\n",
    "fasta_paths = []\n",
    "for dirpath, dirnames, filenames in os.walk(root_dir):\n",
    "    for file in filenames:\n",
    "        if  \"fasta.fa\" in file.lower():\n",
    "            fasta_path = os.path.join(dirpath, file)\n",
    "            name_path = os.path.join(dirpath, \"name.txt\")\n",
    "            \n",
    "            # check if the name file exists\n",
    "            if os.path.isfile(name_path):\n",
    "                # read the content of the name file\n",
    "                with open(name_path, \"r\") as f:\n",
    "                    name = f.read().strip()\n",
    "            else:\n",
    "                raise Exception(f\"Name file not found {name_path}\")\n",
    "            # append the fasta path and the name to the list as a tuple\n",
    "            fasta_paths.append((fasta_path, name))\n",
    "\n",
    "\n",
    "\n",
    "db_dir = os.path.join(work_dir,\"db_data/\")\n",
    "db_filename = os.path.join(db_dir,\"my_blast_db\")\n",
    "db_sequences_filename = os.path.join(db_dir,\"db_sequences.fa\")\n",
    "\n",
    "if not os.path.exists(db_dir):\n",
    "    os.mkdir(db_dir)\n",
    "else:\n",
    "    !rm -rf $db_dir\n",
    "    os.mkdir(db_dir)\n",
    "\n",
    "\n",
    "!makeblastdb -in {alignment_input_filename} -dbtype prot -out {db_filename}\n",
    "\n",
    "import subprocess\n",
    "\n",
    "path_accessions = []\n",
    "for i in range(0,len(fasta_paths)):\n",
    "    fasta_path = fasta_paths[i][0]\n",
    "    print(f\"{i+1}/{len(fasta_paths)} Processing {fasta_path}\")\n",
    "    shortened_path = fasta_paths[i][1]\n",
    "    output = subprocess.run(f\"blastp -db {db_filename} -query {fasta_path} -outfmt '6 sseqid' -evalue 1e-50\", shell=True, capture_output=True)\n",
    "    accession_numbers = output.stdout.decode().strip().split(\"\\n\")\n",
    "    print(f\"Got results:\\n{accession_numbers}\")\n",
    "    path_accessions.append((shortened_path, accession_numbers))\n"
   ]
  },
  {
   "cell_type": "code",
   "execution_count": 9,
   "id": "aee08042",
   "metadata": {},
   "outputs": [],
   "source": [
    "import itertools\n",
    "\n",
    "def get_similar_sequence_name_if_any(accession,path_accessions):\n",
    "    result = []\n",
    "    for path in path_accessions:\n",
    "        if accession in path[1]:\n",
    "            result.append((path[1].index(accession),path[0]))\n",
    "    return result\n",
    "\n",
    "similar_accessions = list(itertools.chain(*[path[1] for path in path_accessions]))\n",
    "\n",
    "sequence_characterised = [\"Y\" if accession in similar_accessions else \"N\" for accession in sequence_accessions]\n",
    "sequence_related_sequence = [get_similar_sequence_name_if_any(accession,path_accessions) for accession in sequence_accessions]\n",
    "\n",
    "add_data(\"related_to_known_seq\",sequence_characterised)\n",
    "add_data(\"related_seq\",sequence_related_sequence)\n"
   ]
  },
  {
   "cell_type": "code",
   "execution_count": 10,
   "id": "859aa4c4",
   "metadata": {},
   "outputs": [],
   "source": [
    "#Annotate all sequences whether or not they were tridomain\n",
    "E1_sequences = [val[\"Accession_Interpro\"] for val in E1_data]\n",
    "sequence_contains_E1 = [\"Y\" if accession.split(\".\")[0] in E1_sequences else \"N\" for accession in sequence_accessions]\n",
    "add_data(\"contains_E1\",sequence_contains_E1)"
   ]
  },
  {
   "cell_type": "code",
   "execution_count": 18,
   "id": "e0857f6a",
   "metadata": {},
   "outputs": [],
   "source": [
    "\n",
    "with open(additional_data_filename, \"w\") as file:\n",
    "    # Write the dictionary to the file in JSON format\n",
    "    json.dump(data, file)\n"
   ]
  },
  {
   "cell_type": "markdown",
   "id": "e7aeab4c",
   "metadata": {},
   "source": [
    "<br><br>\n",
    "<h1 style=\"font-size:36px\" align=\"center\"> Diagrams for fun </h1><br><br><br><br><br><br>"
   ]
  },
  {
   "cell_type": "code",
   "execution_count": null,
   "id": "ec5d2f6a",
   "metadata": {},
   "outputs": [],
   "source": [
    "import os\n",
    "import glob\n",
    "from Bio import SeqIO\n",
    "from tqdm.auto import tqdm\n",
    "import pylev\n",
    "import matplotlib.pyplot as plt\n",
    "import numpy as np\n",
    "import copy\n",
    "from Bio.SeqRecord import SeqRecord\n",
    "from Bio.Seq import Seq\n",
    "from Bio import SeqIO\n",
    "import json\n",
    "import matplotlib.colors as mcolors\n",
    "import random\n",
    "all_annotations_filename = \"../raw_sequences/interpro_all_YcaO_annotated.json\"\n"
   ]
  },
  {
   "cell_type": "markdown",
   "id": "586de27e",
   "metadata": {},
   "source": [
    "<h3 style=\"font-size:24px\"> Define Parameters</h3><br>"
   ]
  },
  {
   "cell_type": "code",
   "execution_count": null,
   "id": "25778ed1",
   "metadata": {},
   "outputs": [],
   "source": [
    "input_sequences_filename = \"../processed_sequences/initial_dataset/alignment_input_sequences.txt\""
   ]
  },
  {
   "cell_type": "code",
   "execution_count": null,
   "id": "7fde630d",
   "metadata": {},
   "outputs": [],
   "source": [
    "sequences = [seq for seq in SeqIO.parse(input_sequences_filename,\"fasta\")]\n",
    "\n",
    "\n",
    "sequence_accessions = [seq.id for seq in sequences]\n",
    "\n",
    "YcaO_data = []\n",
    "with open(all_annotations_filename, 'r') as f:\n",
    "    YcaO_data = json.load(f)\n",
    "           \n",
    "def get_item_by_accession(seqs, accession):\n",
    "    for item in seqs:\n",
    "        if item['Accession_Interpro'] == accession.split(\".\")[0]:\n",
    "            return item\n",
    "    return None"
   ]
  },
  {
   "cell_type": "code",
   "execution_count": null,
   "id": "ee1806c8",
   "metadata": {},
   "outputs": [],
   "source": [
    "taxonomy_info = {}\n",
    "for i in tqdm(range(0,len(sequence_accessions))):\n",
    "    accession = sequence_accessions[i]\n",
    "    taxonomy = get_item_by_accession(YcaO_data,accession)[\"lineage\"]\n",
    "    if taxonomy[0] not in taxonomy_info:\n",
    "        taxonomy_info[taxonomy[0]] = {}\n",
    "    if taxonomy[1] not in taxonomy_info[taxonomy[0]]:\n",
    "        taxonomy_info[taxonomy[0]][taxonomy[1]] = 0\n",
    "    taxonomy_info[taxonomy[0]][taxonomy[1]] += 1\n"
   ]
  },
  {
   "cell_type": "code",
   "execution_count": null,
   "id": "924a0531",
   "metadata": {},
   "outputs": [],
   "source": [
    "for i in range(0,1):\n",
    "    top_level = []\n",
    "    first_level = []\n",
    "    vals = []\n",
    "    for key in taxonomy_info.keys():\n",
    "        top_level.append(key)\n",
    "        vals.append([])\n",
    "        keys2 = list(taxonomy_info[key].keys())\n",
    "        random.shuffle(keys2)\n",
    "        for key2 in keys2:\n",
    "            if(taxonomy_info[key][key2] > 30):\n",
    "                first_level.append(key2)\n",
    "                vals[-1].append((taxonomy_info[key][key2]))\n",
    "    fig, ax = plt.subplots(figsize=(15, 15))\n",
    "\n",
    "    size = 0.3\n",
    "\n",
    "    inner_layer = [sum(x) for x in vals]\n",
    "    outer_layer = [item for sublist in vals for item in sublist]\n",
    "\n",
    "    inner_colors = ['#1f77b4', '#ff7f0e']\n",
    "\n",
    "    bacteria_colors = [\"#1f77b4\"]*len(vals[0])\n",
    "    archaea_colors = [\"#ff7f0e\"]*len(vals[1])\n",
    "\n",
    "    bacteria_colors = [color+'{:02x}'.format(int(random.uniform(0.2, 1) * 255)) for color in bacteria_colors]\n",
    "    archaea_colors = [color+'{:02x}'.format(int(random.uniform(0.3, 1) * 255)) for color in archaea_colors]\n",
    "    print(bacteria_colors)\n",
    "    outer_colors = bacteria_colors+archaea_colors\n",
    "\n",
    "    ax.pie(outer_layer, radius=1, colors=outer_colors,\n",
    "           labels=first_level, textprops={'fontsize': 13},\n",
    "           wedgeprops=dict(width=size, edgecolor='w'))\n",
    "\n",
    "    ax.pie(inner_layer, radius=1-size, colors=inner_colors,\n",
    "           labels=top_level, textprops={'fontsize': 20},labeldistance=.6,\n",
    "           wedgeprops=dict(width=size, edgecolor='w'))\n",
    "\n",
    "    ax.set(aspect=\"equal\", title='Taxonomy of YcaO sequences')\n",
    "    plt.show()"
   ]
  },
  {
   "cell_type": "markdown",
   "id": "17441d0c",
   "metadata": {},
   "source": [
    "<br><br>\n",
    "<h1 style=\"font-size:36px\" align=\"center\"> Get Sequences for Rodeo </h1><br><br><br><br><br><br>"
   ]
  },
  {
   "cell_type": "code",
   "execution_count": null,
   "id": "f8ac3600",
   "metadata": {},
   "outputs": [],
   "source": [
    "import os\n",
    "import glob\n",
    "from Bio import SeqIO\n",
    "from tqdm.auto import tqdm\n",
    "import pylev\n",
    "import matplotlib.pyplot as plt\n",
    "import numpy as np\n",
    "import copy\n",
    "from Bio.SeqRecord import SeqRecord\n",
    "from Bio.Seq import Seq\n",
    "from Bio import SeqIO\n",
    "import json\n",
    "import matplotlib.colors as mcolors\n",
    "import random\n",
    "all_annotations_filename = \"../raw_sequences/interpro_all_YcaO_annotated.json\"\n"
   ]
  },
  {
   "cell_type": "markdown",
   "id": "dc446925",
   "metadata": {},
   "source": [
    "<h3 style=\"font-size:24px\"> Define Parameters</h3><br>"
   ]
  },
  {
   "cell_type": "code",
   "execution_count": null,
   "id": "bfb8b260",
   "metadata": {},
   "outputs": [],
   "source": [
    "input_sequences_filename = \"../processed_sequences/initial_dataset/alignment_input_sequences.txt\""
   ]
  },
  {
   "cell_type": "code",
   "execution_count": null,
   "id": "7fe5bf69",
   "metadata": {},
   "outputs": [],
   "source": [
    "sequences = [seq for seq in SeqIO.parse(input_sequences_filename,\"fasta\")]\n",
    "    \n",
    "YcaO_data = []\n",
    "with open(all_annotations_filename, 'r') as f:\n",
    "    YcaO_data = json.load(f)\n",
    "    "
   ]
  },
  {
   "cell_type": "code",
   "execution_count": null,
   "id": "cc7f3dec",
   "metadata": {},
   "outputs": [],
   "source": [
    "def get_item_by_accession(seqs, accession):\n",
    "    for item in seqs:\n",
    "        if item['Accession_Interpro'] == accession.split(\".\")[0]:\n",
    "            return item\n",
    "    return None\n",
    "def get_item_by_RefSeq_accession(seqs, accession):\n",
    "    print(accession)\n",
    "    for item in seqs:\n",
    "        if('Accession_RefSeq' in item):\n",
    "            if item['Accession_RefSeq'] == accession.split(\".\")[0]:\n",
    "                return item\n",
    "    return None"
   ]
  },
  {
   "cell_type": "code",
   "execution_count": null,
   "id": "40daa756",
   "metadata": {},
   "outputs": [],
   "source": [
    "print(YcaO_data[0])\n",
    "print(sequences[0].id)\n",
    "print(get_item_by_accession(YcaO_data, sequences[0].id))"
   ]
  },
  {
   "cell_type": "code",
   "execution_count": null,
   "id": "afb5b351",
   "metadata": {},
   "outputs": [],
   "source": []
  }
 ],
 "metadata": {
  "kernelspec": {
   "display_name": "Python 3 (ipykernel)",
   "language": "python",
   "name": "python3"
  },
  "language_info": {
   "codemirror_mode": {
    "name": "ipython",
    "version": 3
   },
   "file_extension": ".py",
   "mimetype": "text/x-python",
   "name": "python",
   "nbconvert_exporter": "python",
   "pygments_lexer": "ipython3",
   "version": "3.9.16"
  }
 },
 "nbformat": 4,
 "nbformat_minor": 5
}
