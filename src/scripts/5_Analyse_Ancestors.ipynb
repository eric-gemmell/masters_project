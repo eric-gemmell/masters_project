{
 "cells": [
  {
   "cell_type": "markdown",
   "id": "1b73a424",
   "metadata": {},
   "source": [
    "<br><br>\n",
    "<h1 style=\"font-size:36px\" align=\"center\"> Analyse Ancestral States</h1><br><br><br><br><br><br>"
   ]
  },
  {
   "cell_type": "code",
   "execution_count": 20,
   "id": "cb2607ec",
   "metadata": {},
   "outputs": [],
   "source": [
    "from Bio.SeqRecord import SeqRecord\n",
    "from Bio.Seq import Seq\n",
    "from Bio import SeqIO\n",
    "import copy\n",
    "import json\n",
    "import os\n",
    "import csv\n",
    "import tqdm\n",
    "import re\n",
    "import math\n",
    "import matplotlib.pyplot as plt\n",
    "class Node:\n",
    "    def __init__(self):\n",
    "        self.sequence = Seq(\"\")\n",
    "        self.probabilities = []\n",
    "        self.grasp_sequence = Seq(\"\")\n",
    "        self.ancestral_positions = []\n",
    "        self.gapped_sequence_length = 0\n",
    "\n",
    "    def append(self, amino_acid, position, probability):\n",
    "        self.sequence = self.sequence + Seq(amino_acid)\n",
    "        self.probabilities.append(probability)\n",
    "        if(len(self.sequence) != position or len(self.probabilities) != position):\n",
    "            print(self.sequence, position, self.probabilities)\n",
    "            print(len(self.sequence))\n",
    "            print(len(self.probabilities))\n",
    "            raise Exception(\"Something went wrong, the lengths of probabilies, sequences and position are unequal.\\nCheck input file\")\n",
    "    \n",
    "    def add_grasp_sequence(self,grasp_sequence):\n",
    "        if(len(grasp_sequence) != len(self.sequence)):\n",
    "            raise Exception(\"Length of grasp sequence and IqTree sequence are not the same, something has gone wrong\")\n",
    "        self.grasp_sequence = grasp_sequence\n",
    "        for char in grasp_sequence:\n",
    "            self.ancestral_positions.append(char == \"-\")\n",
    "            self.gapped_sequence_length += (0 if char == \"-\" else 1)\n",
    "        \n",
    "    def __str__(self):\n",
    "        return \"Node(sequence={})\".format(self.sequence)\n",
    "\n",
    "aa_positions = ['A', 'R', 'N', 'D', 'C', 'Q', 'E', 'G', 'H', 'I', 'L', 'K', 'M', 'F', 'P', 'S', 'T', 'W', 'Y', 'V']\n",
    "def get_most_likely_sequence(node):\n",
    "    most_likely_sequence = \"\"\n",
    "    for probability in node.probabilities:\n",
    "        max_prob_index = probability.index(max(probability))\n",
    "        most_likely_sequence += aa_positions[max_prob_index]\n",
    "    return Seq(most_likely_sequence)\n",
    "\n",
    "def get_mean_probability(node):\n",
    "    total_prob = 0\n",
    "    for probability in node.probabilities:\n",
    "        total_prob += float(max(probability))\n",
    "    total_prob = total_prob/len(node.sequence)\n",
    "    return total_prob\n",
    "\n",
    "def get_gapped_sequence(node):\n",
    "    seq = Seq(\"\")\n",
    "    for i in range(0,len(node.grasp_sequence)):\n",
    "        if(node.grasp_sequence[i] == \"-\"):\n",
    "            seq += Seq(\"-\")\n",
    "        else:\n",
    "            seq += Seq(node.sequence[i])\n",
    "    return seq\n",
    "\n",
    "def get_ungapped_sequence(node):\n",
    "    seq = Seq(\"\")\n",
    "    for i in range(0,len(node.grasp_sequence)):\n",
    "        if(node.grasp_sequence[i] != \"-\"):\n",
    "            seq += Seq(node.sequence[i])\n",
    "    return seq\n",
    "\n",
    "def get_gapped_probabilities(node):\n",
    "    probabilities = []\n",
    "    for i in range(0,len(node.probabilities)):\n",
    "        if(node.grasp_sequence[i] == \"-\"):\n",
    "            probabilities.append(0)\n",
    "        else:\n",
    "            probabilities.append(float(max(node.probabilities[i])))\n",
    "    return probabilities\n",
    "\n",
    "def get_mean_gapped_probabilities(node):\n",
    "    total_prob = 0\n",
    "    for i in range(0,len(node.probabilities)):\n",
    "        if(node.grasp_sequence[i] != \"-\"):\n",
    "            total_prob += float(max(node.probabilities[i]))\n",
    "    total_prob = total_prob/node.gapped_sequence_length\n",
    "    return total_prob\n",
    "\n",
    "def generate_select_uncertain_residues(node,uncertainty_threshold):\n",
    "    uncertain_positions_in_MSA = []\n",
    "    uncertain_positions = []\n",
    "    for i in range(0,len(node.probabilities)):\n",
    "        if float(max(node.probabilities[i])) < uncertainty_threshold:\n",
    "            uncertain_positions_in_MSA.append(i)\n",
    "            if(node.grasp_sequence[i] != \"-\"):\n",
    "               uncertain_positions.append(i - node.grasp_sequence[:i].count(\"-\")+1)\n",
    "    print(f\"select #1/A:{','.join([str(x) for x in uncertain_positions])}\")"
   ]
  },
  {
   "cell_type": "markdown",
   "id": "73a892d7",
   "metadata": {},
   "source": [
    "<h3 style=\"font-size:24px\"> Define Parameters</h3><br>"
   ]
  },
  {
   "cell_type": "code",
   "execution_count": 2,
   "id": "f60325ff",
   "metadata": {},
   "outputs": [],
   "source": [
    "grasp_ancestors_filename = \"../processed_sequences/clustal_hmm_5_per_cluster_18022023/ancestors/seqs11_ancestors.fa\"\n",
    "interesting_nodes_filename = \"../processed_sequences/clustal_hmm_5_per_cluster_18022023/interesting_ancestors.txt\"\n",
    "state_filename = \"../processed_sequences/clustal_hmm_5_per_cluster_18022023/seqs11.txt.state\"\n",
    "sequence_output_filename = \"../processed_sequences/clustal_hmm_5_per_cluster_18022023/ancestors/interesting_ancestors.fa\"\n",
    "sequence_output_directory = \"../processed_sequences/clustal_hmm_5_per_cluster_18022023/ancestors/\""
   ]
  },
  {
   "cell_type": "code",
   "execution_count": 3,
   "id": "417ca011",
   "metadata": {},
   "outputs": [],
   "source": [
    "# work_dir = \"../processed_sequences/clustal_hmm_10_per_cluster_test_copy/\"\n",
    "\n",
    "# # state_filename = None\n",
    "\n",
    "# # for filename in os.listdir(work_dir):\n",
    "# #     if filename.endswith(\".state\"):\n",
    "# #         state_filename = os.path.join(work_dir, filename)\n",
    "# #         break\n",
    "\n",
    "# files_by_node = {}\n",
    "# for node, dirs, files in os.walk(work_dir):\n",
    "#     for file in files:\n",
    "#         if re.search(r'.*N\\d+\\.tsv', file):\n",
    "#             files_by_node[node.split(\"/\")[-1]] = os.path.join(node, file)\n",
    "interesting_nodes = []\n",
    "with open(interesting_nodes_filename, \"r\") as file:\n",
    "    lines = file.readlines()\n",
    "    for line in lines:\n",
    "        line = line.split(\"\\n\")[0]\n",
    "        interesting_nodes.append(line.split(\",\"))\n"
   ]
  },
  {
   "cell_type": "markdown",
   "id": "8d07382f",
   "metadata": {},
   "source": [
    "<h3 style=\"font-size:24px\"> Load State File</h3><br>"
   ]
  },
  {
   "cell_type": "code",
   "execution_count": 4,
   "id": "80adfb7a",
   "metadata": {},
   "outputs": [],
   "source": [
    "with open(state_filename, \"r\") as file:\n",
    "    reader = csv.reader(file, delimiter=\"\\t\")\n",
    "    tsv_data = list(reader)"
   ]
  },
  {
   "cell_type": "code",
   "execution_count": 5,
   "id": "61fc93da",
   "metadata": {},
   "outputs": [
    {
     "name": "stderr",
     "output_type": "stream",
     "text": [
      "100%|██████████| 5122392/5122392 [00:44<00:00, 113962.58it/s]\n"
     ]
    }
   ],
   "source": [
    "nodes = {}\n",
    "header = True\n",
    "for i in tqdm.tqdm(range(0,len(tsv_data))):\n",
    "    row = tsv_data[i]\n",
    "    if(\"#\" in row[0]):\n",
    "        continue\n",
    "    if header:\n",
    "        header = False\n",
    "        continue\n",
    "    node_num = str(int(re.search(r'\\d+', row[0]).group()))\n",
    "    if node_num not in nodes:\n",
    "        nodes[node_num] = Node()\n",
    "    nodes[node_num].append(row[2],int(row[1]),row[3:])\n"
   ]
  },
  {
   "cell_type": "code",
   "execution_count": 6,
   "id": "7c6453ea",
   "metadata": {},
   "outputs": [],
   "source": [
    "grasp_sequences = [seq for seq in SeqIO.parse(grasp_ancestors_filename,\"fasta\")]\n",
    "grasp_nodes = {}\n",
    "for sequence in grasp_sequences:\n",
    "    node = str(int(sequence.id[1:])+1)\n",
    "    nodes[node].add_grasp_sequence(sequence.seq)\n",
    "    grasp_nodes[node] = sequence.seq"
   ]
  },
  {
   "cell_type": "code",
   "execution_count": 23,
   "id": "f6d6a5b5",
   "metadata": {},
   "outputs": [
    {
     "name": "stdout",
     "output_type": "stream",
     "text": [
      "Node664_0.71_mrp  Bottromycin Ancestor\n",
      "select #1/A:2,6,24,25,26,28,33,36,37,38,40,42,43,47,52,56,72,76,77,81,84,87,89,93,97,98,104,114,116,119,122,126,129,148,149,153,164,169,171,174,176,177,178,179,195,196,198,199,200,202,203,216,220,229,232,234,236,239,241,243,244,247,252,260,266,272,273,274,275,276,279,280,281,285,287,288,293,295,296,300,301,303,304,309,312,313,314,315,319,321,334,338,346\n",
      "Node1125_0.75_mrp  Global Azoline YcaOs\n",
      "select #1/A:8,12,24,25,28,31,32,35,36,45,47,56,67,68,69,70,71,73,91,105,107,108,110,119,127,156,167,168,176,177,180,182,183,200,201,202,204,205,206,209,211,224,234,242,244,247,254,256,257,258,260,261,263,265,268,272,273,275,276,278,283,285,286,287,291,294,295,298,303,304,314,324,338,339,341,342,343,347,349,360,364,367,372,374,375,377,378,385\n",
      "Node2539_0.9_mrp  Tridomain YcaO Ancestor 1\n",
      "select #1/A:69,71,100,116,119,174,211,246,254,257,293,294,366\n",
      "Node66_0.72_mrp  Global Ancestor. ancestor between EcYcaO and TfuA YcaOs\n",
      "select #1/A:4,24,25,27,28,31,32,42,43,46,51,54,57,58,60,62,65,66,69,72,78,89,96,103,111,115,121,134,145,147,148,152,159,160,163,166,176,178,179,192,196,197,202,205,207,220,230,232,237,239,243,245,246,247,248,249,250,252,255,256,260,263,267,268,269,270,273,275,276,278,282,283,285,286,287,290,300,302,313,314,315,320,325,335,349,350,352,353,356,369,372,374,377,380,385,386,387,388,390,391,395,398,399\n",
      "Node1782_0.84_mrp  Tridomain YcaO Ancestor 2\n",
      "select #1/A:4,43,48,49,66,69,75,101,102,103,118,145,164,176,191,200,203,205,206,218,220,229,230,234,235,236,239,242,246,247,248,250,251,273,280,284,294,297,311,321,340,352,360\n",
      "Node1126_0.82_mrp  Azoline Tridomain and single domain YcaO ancestor\n",
      "select #1/A:24,25,27,31,40,47,48,59,65,71,96,97,100,102,105,148,155,157,169,171,173,194,204,224,232,237,240,241,244,245,249,253,254,271,288,291,295,296,297,300,303,314,318,332,355,358,366,378\n",
      "Node798_0.83_mrp  Thioamitide and McrA thioamidation ancestor\n",
      "select #1/A:14,41,74,77,80,91,99,105,108,110,111,124,130,145,146,147,148,172,180,187,188,191,192,202,235,238,240,241,244,251,275,283,287,292,306,308,309,311,333,341,370,372\n",
      "Node294_0.82_mrp  Thiopeptide TfuA associated YcaO ancestor. Probably good for thioamide synthesis\n",
      "select #1/A:36,42,63,81,89,90,96,97,102,113,125,141,145,151,204,213,214,218,240,244,245,250,251,287,290,297,299,300,301,306,308,309,311,313,315,318,322,327,328,332,338,345,375,377,380,381,386,391,394,396\n",
      "Node67_0.81_mrp  All TfuA YcaOs ancestor\n",
      "select #1/A:8,10,41,42,44,49,74,79,80,90,91,92,100,108,110,113,119,138,146,152,184,186,188,199,203,219,237,242,243,245,248,249,276,284,285,286,287,290,292,293,298,301,303,311,313,315,324,325,330,333,346,357,372,374,380,384,389\n"
     ]
    }
   ],
   "source": [
    "def Analyse_Node(node_index,node_description):\n",
    "    node = nodes[node_index]\n",
    "    print(f\"Analysing Node{node_index}, {node_description}\")\n",
    "    print(f\"Mean residue probability: {get_mean_gapped_probabilities(node)}\")\n",
    "    print(get_ungapped_sequence(node))\n",
    "    print(node.gapped_sequence_length)\n",
    "    seq = get_gapped_sequence(node)\n",
    "    probs = get_gapped_probabilities(node)\n",
    "\n",
    "    fig, ax = plt.subplots(figsize=(100, 5))  # Set the figure size\n",
    "\n",
    "    # Plot the probabilities against the character at each position\n",
    "    ax.scatter(range(len(probs)), probs)\n",
    "\n",
    "    # Set the x-axis tick labels to the characters in the sequence\n",
    "    ax.set_xticks(range(len(seq)))\n",
    "    ax.set_xticklabels(seq)\n",
    "\n",
    "    # Set the x-axis and y-axis labels\n",
    "    ax.set_xlabel('Sequence position')\n",
    "    ax.set_ylabel('Probability')\n",
    "\n",
    "    # Show the plot\n",
    "    plt.show()\n",
    "\n",
    "sequences_to_save = []\n",
    "for node in interesting_nodes:\n",
    "#     Analyse_Node(node[0],node[1])\n",
    "    n = nodes[node[0]]\n",
    "    id = f\"Node{node[0]}_{round(get_mean_gapped_probabilities(n),2)}_mrp\"\n",
    "    print(id,node[1])\n",
    "    seq_rec = SeqRecord(seq=get_ungapped_sequence(n),id=id,description=node[1])\n",
    "    generate_select_uncertain_residues(n,0.5)\n",
    "#     sequences_to_save.append(seq_rec)\n",
    "#     SeqIO.write(seq_rec, os.path.join(sequence_output_directory,f\"Node{node[0]}.fa\"), \"fasta\")\n",
    "\n",
    "# SeqIO.write(sequences_to_save, sequence_output_filename, \"fasta\")\n"
   ]
  },
  {
   "cell_type": "code",
   "execution_count": null,
   "id": "e2748d6e",
   "metadata": {},
   "outputs": [],
   "source": [
    "node = nodes[\"1126\"]\n",
    "print(get_ungapped_sequence(node))\n",
    "print(node.gapped_sequence_length)"
   ]
  },
  {
   "cell_type": "markdown",
   "id": "c453c27d",
   "metadata": {},
   "source": [
    "<h3 style=\"font-size:24px\"> Me Playing Around</h3><br>"
   ]
  },
  {
   "cell_type": "code",
   "execution_count": null,
   "id": "9fbc477c",
   "metadata": {},
   "outputs": [],
   "source": [
    "ancestor_filename = \"../processed_sequences/clustal_hmm_5_per_cluster_18022023/ancestors/Node2539.fa\"\n",
    "extant_filename = \"../raw_sequences/Azoline/Cyanobactins/Cyanobactins_TruD/TruD_Fasta.Fa\""
   ]
  },
  {
   "cell_type": "code",
   "execution_count": null,
   "id": "3f95db86",
   "metadata": {},
   "outputs": [],
   "source": [
    "ancestor = [seqrec for seqrec in SeqIO.parse(ancestor_filename,\"fasta\")][0]\n",
    "extant = [seqrec for seqrec in SeqIO.parse(extant_filename,\"fasta\")][0]\n",
    "print(ancestor.seq)\n",
    "print(extant.seq)"
   ]
  },
  {
   "cell_type": "code",
   "execution_count": null,
   "id": "c6644a3e",
   "metadata": {},
   "outputs": [],
   "source": []
  },
  {
   "cell_type": "code",
   "execution_count": null,
   "id": "b3f057ec",
   "metadata": {},
   "outputs": [],
   "source": []
  }
 ],
 "metadata": {
  "kernelspec": {
   "display_name": "Python 3 (ipykernel)",
   "language": "python",
   "name": "python3"
  },
  "language_info": {
   "codemirror_mode": {
    "name": "ipython",
    "version": 3
   },
   "file_extension": ".py",
   "mimetype": "text/x-python",
   "name": "python",
   "nbconvert_exporter": "python",
   "pygments_lexer": "ipython3",
   "version": "3.9.16"
  }
 },
 "nbformat": 4,
 "nbformat_minor": 5
}
