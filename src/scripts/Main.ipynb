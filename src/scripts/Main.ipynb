{
 "cells": [
  {
   "cell_type": "code",
   "execution_count": 1,
   "id": "d35bd903",
   "metadata": {},
   "outputs": [],
   "source": [
    "import Bio as bio\n",
    "from Bio import SeqIO\n",
    "from Bio.Blast.Applications import NcbiblastpCommandline as BlastP\n",
    "from Bio.Blast import NCBIWWW \n",
    "from Bio.Blast import NCBIXML\n",
    "from Bio import SearchIO\n",
    "from Bio.SeqRecord import SeqRecord\n",
    "from Bio.Seq import Seq\n",
    "from Bio import pairwise2\n",
    "from Bio.pairwise2 import format_alignment"
   ]
  },
  {
   "cell_type": "code",
   "execution_count": 108,
   "id": "c66a2e1e",
   "metadata": {},
   "outputs": [],
   "source": [
    "bot_amidine_fasta = SeqIO.read(\"Sequences/Amidine/Bottromycin/Fasta.fa\",\"fasta\")"
   ]
  },
  {
   "cell_type": "code",
   "execution_count": 111,
   "id": "5e161020",
   "metadata": {
    "scrolled": false
   },
   "outputs": [],
   "source": [
    "result_handle = NCBIWWW.qblast(\"blastp\", \"nr\", bot_amidine_fasta.seq, hitlist_size = 1000) "
   ]
  },
  {
   "cell_type": "code",
   "execution_count": 113,
   "id": "4a8049f9",
   "metadata": {},
   "outputs": [],
   "source": [
    "with open(\"blast_result.xml\", \"w+\") as file:\n",
    "    file.write(result_handle.read())\n",
    "    result_handle.close()"
   ]
  },
  {
   "cell_type": "code",
   "execution_count": 114,
   "id": "7c2e0e6b",
   "metadata": {
    "scrolled": true
   },
   "outputs": [],
   "source": [
    "result_handle = open(\"blast_result.xml\", \"r\")\n",
    "blast_records = NCBIXML.read(result_handle)\n",
    "\n",
    "E_threshold = 0.001\n",
    "ct = 0\n",
    "for alignment in blast_records.alignments:\n",
    "    for hsp in alignment.hsps:\n",
    "        ++ct\n",
    "        #if hsp.expect < E_threshold:\n",
    "            #print(\"\\n\")\n",
    "            #print(\"sequence: {}\".format(alignment.title[:100]))\n"
   ]
  },
  {
   "cell_type": "code",
   "execution_count": 123,
   "id": "003134c1",
   "metadata": {},
   "outputs": [
    {
     "name": "stdout",
     "output_type": "stream",
     "text": [
      "Sequence and sequence ID used in the blast search: AFV25483.1 MRLTDAEGALCSRSSGKGLGHRSMASALFESAEHYHLDWRRDPRASEAEFLPGREIAGQDTARRSALLRRLGGIMPDAPVLTRTYRPVEETLTGRADHGPAGRPHRHPVFLRDGGYRNWPHPDDDRSFQPLWHYTSSAGYAAGATVHEALVHAVNELIERDAWSYQLARSYFGLPGEGPELRVVDHDTLPAELRELTGTVEEVREAPVLIVDITCDTGVPAYVVCDARSREEVRLIGSGASPVRTYALQRALLEYLQVRTMFEHGPVDADTEAGQIATALARYPRHLAAARFDVGQLPHERRAFDADDGLPAAASPEQLLRHLVDRLRDLGVDVHHRVLTPPGSVTVVDVVAPGLEMFDKARAGYPVLPTGRLGERLRPRKDHERGHGVDHGKDRGGAPR\n",
      "\n",
      "Number of sequences from online Blast Search: 1000\n",
      "seq ID: RDJ12630.1 True\n",
      "seq ID: WP_083186407.1 False\n",
      "seq ID: WP_157063298.1 False\n",
      "seq ID: WP_260006532.1 False\n",
      "seq ID: RZN33543.1 False\n",
      "seq ID: MBT8998357.1 True\n",
      "seq ID: WP_209673731.1 True\n",
      "seq ID: MBT8800828.1 True\n",
      "seq ID: WP_259696898.1 True\n",
      "seq ID: WP_187519240.1 False\n",
      "seq ID: MCK9318291.1 False\n",
      "seq ID: MBT8921924.1 True\n",
      "seq ID: AKU15595.1 False\n",
      "seq ID: MBI4612747.1 False\n",
      "seq ID: OPX76333.1 True\n",
      "seq ID: MCC2662662.1 True\n",
      "seq ID: WP_080266151.1 False\n",
      "seq ID: WP_048185145.1 False\n",
      "seq ID: MCL2509662.1 True\n",
      "seq ID: WP_250987061.1 False\n",
      "seq ID: WP_024091768.1 False\n",
      "seq ID: WP_004077297.1 True\n",
      "seq ID: WP_256594286.1 True\n",
      "seq ID: WP_129369395.1 False\n",
      "seq ID: KQC04634.1 True\n",
      "seq ID: WP_256579750.1 False\n",
      "seq ID: OLC01680.1 True\n",
      "seq ID: PKL56053.1 False\n",
      "seq ID: MCL2032069.1 True\n",
      "seq ID: WP_212628132.1 True\n",
      "seq ID: EUA90081.1 True\n",
      "seq ID: WP_165167022.1 True\n",
      "seq ID: MCL1810736.1 True\n",
      "seq ID: WP_109106876.1 False\n",
      "seq ID: WP_111264782.1 False\n",
      "seq ID: HDS45067.1 False\n",
      "seq ID: OPG68701.1 True\n",
      "seq ID: WP_256344185.1 False\n",
      "seq ID: MCQ8903229.1 False\n",
      "seq ID: WP_067073597.1 False\n",
      "seq ID: WP_235399587.1 True\n",
      "seq ID: WP_230147383.1 False\n",
      "seq ID: WP_225919101.1 True\n",
      "seq ID: MCC6013281.1 False\n",
      "seq ID: WP_245928939.1 True\n",
      "seq ID: WP_205296669.1 False\n",
      "seq ID: MCP4470852.1 True\n",
      "seq ID: WP_256573474.1 True\n",
      "seq ID: MCQ2355663.1 True\n",
      "seq ID: MBB6171620.1 True\n",
      "seq ID: WP_246422029.1 True\n",
      "seq ID: MCQ8894457.1 True\n",
      "seq ID: WP_189892486.1 False\n",
      "seq ID: MCE5339137.1 False\n",
      "seq ID: WP_221056463.1 False\n",
      "seq ID: WP_010395498.1 True\n",
      "seq ID: BBP71451.1 False\n",
      "seq ID: RVJ73225.1 True\n",
      "seq ID: WP_256326512.1 True\n",
      "seq ID: NMC10791.1 False\n",
      "seq ID: WP_234843341.1 True\n",
      "seq ID: EWM17971.1 True\n",
      "seq ID: WP_085502311.1 True\n",
      "seq ID: AOZ15010.1 True\n",
      "seq ID: PKL64027.1 True\n",
      "seq ID: WP_109940557.1 False\n",
      "seq ID: MBP2134245.1 False\n",
      "seq ID: OED43154.1 False\n",
      "seq ID: WP_234841803.1 False\n",
      "seq ID: WP_256352422.1 False\n",
      "seq ID: WP_198047496.1 True\n",
      "seq ID: WP_177188734.1 True\n",
      "seq ID: RVH25363.1 False\n",
      "seq ID: WP_205737937.1 True\n",
      "seq ID: RVH48478.1 False\n",
      "seq ID: WP_237456531.1 False\n",
      "seq ID: WP_013845364.1 True\n",
      "seq ID: WP_212809240.1 False\n",
      "seq ID: WP_041915279.1 True\n",
      "seq ID: WP_253278542.1 False\n",
      "seq ID: MBV9430858.1 False\n",
      "seq ID: WP_234835268.1 False\n",
      "seq ID: MBC7384724.1 False\n",
      "seq ID: WP_159457239.1 False\n",
      "seq ID: WP_093697172.1 True\n",
      "seq ID: WP_093475605.1 True\n",
      "seq ID: ASJ71444.1 True\n",
      "seq ID: WP_245323761.1 False\n",
      "seq ID: NHV45543.1 False\n",
      "seq ID: MBN2733417.1 False\n",
      "seq ID: TNF88212.1 True\n",
      "seq ID: WP_235616454.1 False\n",
      "seq ID: WP_152368407.1 True\n",
      "seq ID: WP_130228652.1 False\n",
      "seq ID: NMA11401.1 False\n",
      "seq ID: MCL2145753.1 True\n",
      "seq ID: WP_201191755.1 True\n",
      "seq ID: WP_048112024.1 True\n",
      "seq ID: WP_074810564.1 False\n",
      "seq ID: KMN20673.1 False\n",
      "seq ID: WP_149760078.1 False\n",
      "seq ID: WP_006880247.1 False\n",
      "49\n"
     ]
    }
   ],
   "source": [
    "print(\"Sequence and sequence ID used in the blast search:\",bot_amidine_fasta.id, bot_amidine_fasta.seq)\n",
    "raw_online_fasta = SeqIO.parse(\"Sequences/Amidine/Bottromycin/seqdump.fa\", \"fasta\")\n",
    "online_sequence_records = [seq for seq in raw_online_fasta] #Sequences that were derived from the online blast search tool\n",
    "print(\"\\nNumber of sequences from online Blast Search:\", len(online_sequence_records))\n",
    "\n",
    "online_blast_ids = [online_sequence_record.id for online_sequence_record in online_sequence_records]\n",
    "\n",
    "blast_presult = SearchIO.read(\"blast_result.xml\", 'blast-xml')\n",
    "python_seq_records = []\n",
    "for alignment in blast_presult:\n",
    "    for hsp in alignment:\n",
    "        seq = Seq(hsp.hit.seq.ungap())\n",
    "        seq_record = SeqRecord(seq, id=hsp.hit.id.split(\"|\")[1])\n",
    "        python_seq_records.append(seq_record)\n",
    "i=0      \n",
    "for python_seq_record in python_seq_records[899:]:\n",
    "    print(\"seq ID:\", python_seq_record.id, python_seq_record.id in online_blast_ids)    \n",
    "    if(python_seq_record.id in online_blast_ids):\n",
    "        #print(online_blast_ids.index(python_seq_record.id))\n",
    "        i+=1\n",
    "print(i)\n",
    "    #    index = online_blast_ids.index(python_seq_record.id)\n",
    "    #    alignments = pairwise2.align.globalxx(python_seq_record.seq, online_sequence_records[index].seq[0:200])\n",
    "     #   print(\"\\n Alignment for {}:\".format(python_seq_record.id))\n",
    "      #  print(format_alignment(*alignments[0]))"
   ]
  },
  {
   "cell_type": "code",
   "execution_count": 57,
   "id": "ce5a93cf",
   "metadata": {},
   "outputs": [],
   "source": [
    "from Bio import Entrez\n",
    "Entrez.api_key = \"a8f78b4657d608ac2e519266eede38d56408\"\n",
    "Entrez.email = \"ericgemmell@gmail.com\""
   ]
  },
  {
   "cell_type": "markdown",
   "id": "b9d71197",
   "metadata": {},
   "source": [
    "# Trying to convert a Fasta with DNA to aa\n"
   ]
  },
  {
   "cell_type": "code",
   "execution_count": 21,
   "id": "3538924b",
   "metadata": {},
   "outputs": [
    {
     "name": "stdout",
     "output_type": "stream",
     "text": [
      "CP090082.1:339535-340662\n",
      "MRL-TDAEGALCSR-------SSG--KGLGHRSMA--S---ALFESA-EHYHLDWRR----DPRA--------S----EA-E-FLPG-RE-IAG-QDTARRSALLR---RLGGIMP-DAPVLT--RT-YRPVEET-LTGRADHGPAGRPHR-----HPVFLRDGG-YR-----NWP-------HPDDDRSFQP----LWH--YTSSA--GYA-A-GA-TVH--EALV-HAV-NEL-IERDAWSYQLARSYFGLPGEGPELRVVD-H------------DTL---PAELR-ELTG-TVEEVRE----APVL--IVD---I-----TCDTGV----P---AYVVCDARSREEVRLIGS-GAS--P-VR---T--YALQ-----RALL--EYLQVR-T--M---FEHGPVDADTEAGQIAT-----A-L-AR---YPR-HLAAA-R---FDVG--Q-LPH---ER-RA---FDADDGLPAAAS----PE-QL-LRH------LVD--RLR-DL-GV-DVHHRV-----LTPPG-SV----TVVDV--VAPG--LE---MFDKA-RA------GYP-VLPTGRLGERLRPRK-DHERGHGVD-HGKD--RG------GAPR---\n",
      "    |     |  |       |||  ||||       |   |||| | |||          |  |        |    |  | |    || |   |       ||    |       |  ||   |  |     | |                   | |       |      | |       || || ||      |    | ||   |   | |  |    |||  ||  ||  |||||||  |    | |      |     |            | |   |     ||   |          | |   |     |     |  |      |   |  |    |     |    |    | |    |  | |      ||    | | |  |  |   |   |     |  | |      | | |    ||  |     |   |     | |     |  |    |   |      |    |  |  |        |    ||  |  |  |          |     |     |      |     |    |     |       ||  |         | |   |  ||| |  |     |       |      \n",
      "---IT-----L--RNAQNEVVSSGTGKGLG-----ETSEIGALFE-ALEHY------YTEKD--ALHNCCTFPSHRIPE-IETF---NRECI--IQ-------LL-YTER------ED--VL-LCR-KY-----TSL--------------KKNKQH-V------WY-PLFITN-PYYAENVTHP-DD-SF--NYKKL--KRY-SS-NSG--IAIG-ST--FYEAL-IHA-TNE-VIERDAWS--L----F-L------L----KHYYYQNKSILQIMD-LNTFP----SEL--KT------LMKNA-V-SEI--GKNIILLNIT--T--ETNIPTILA--V----S-----L---NG--NIPYV-GLGTSLY-L-EYAITRA--ITE-L-V-QTCHMIRLF---P-----E--Q-A-NEERVAILEA-LKEYP-QH----YRCAEF---NTQRL--WNVE-SR-QVSF---D------SICSFP-HQ-SL--EKYIQEL--KIRL-ND-CG-FD-----IYYSIL----AS-FNNNT----HIV---NTL-IPNM----ER-FFLNYEGY-FV---------L-P--SD--RGH-V-LH---Q*R-LVKNKEG---NHS\n",
      "  Score=156\n",
      "\n"
     ]
    }
   ],
   "source": [
    "DNA_Fasta_Seq = SeqIO.parse(\"DNA_Fasta.fa\",\"fasta\")\n",
    "DNA_Seqs = [seq for seq in DNA_Fasta_Seq]\n",
    "tenth_seq = DNA_Seqs[10].translate()\n",
    "\n",
    "bot_amidine_fasta = SeqIO.read(\"Sequences/Amidine/Bottromycin/Fasta.fa\",\"fasta\")\n",
    "alignments = pairwise2.align.globalxx(bot_amidine_fasta.seq, tenth_seq.seq)\n",
    "print(DNA_Seqs[10].id)\n",
    "print(format_alignment(*alignments[0]))"
   ]
  },
  {
   "cell_type": "markdown",
   "id": "0924ae30",
   "metadata": {},
   "source": [
    "# Get SeqDump files and check for unique sequences"
   ]
  },
  {
   "cell_type": "code",
   "execution_count": 4,
   "id": "73b71ee8",
   "metadata": {},
   "outputs": [
    {
     "name": "stdout",
     "output_type": "stream",
     "text": [
      "['raw_sequences/Amidine/Lasso_peptides/HMMER_seqdump.fa', 'raw_sequences/Amidine/Jesko_but_unknown/HMMER_seqdump.fa', 'raw_sequences/Amidine/Bottromycin/HMMER_seqdump.fa', 'raw_sequences/Azoline/Cyanobactins/PatD_HMMER_seqdump.fa', 'raw_sequences/Azoline/Cyanobactins/TruD_HMMER_seqdump.fa', 'raw_sequences/Azoline/PZN/HMMER_seqdump.fa', 'raw_sequences/Azoline/Muscoride/HMMER_seqdump.fa', 'raw_sequences/Azoline/Sag/HMMER_seqdump.fa', 'raw_sequences/Azoline/Thiostrepton/HMMER_seqdump.fa', 'raw_sequences/Azoline/Mccb17/HMMER_seqdump.fa', 'raw_sequences/Azoline/Bottromycin/HMMER_seqdump.fa', 'raw_sequences/Azoline/Thiopeptide_Lactazole/HMMER_seqdump.fa', 'raw_sequences/Azoline/Heterocycloanthracins/HMMER_seqdump.fa', 'raw_sequences/Azoline/Goadsporin/HMMER_seqdump.fa', 'raw_sequences/Thioamide/Thioholgamide/HMMER_seqdump.fa', 'raw_sequences/Thioamide/Jesko/HMMER_seqdump.fa', 'raw_sequences/Thioamide/Thioviridamide/HMMER_seqdump.fa', 'raw_sequences/Thioamide/Jesko2/HMMER_seqdump.fa', 'raw_sequences/Thioamide/McrA_thioamidation_YcaO/HMMER_seqdump.fa']\n"
     ]
    },
    {
     "name": "stderr",
     "output_type": "stream",
     "text": [
      "100%|██████████| 19/19 [00:01<00:00, 12.34it/s]"
     ]
    },
    {
     "name": "stdout",
     "output_type": "stream",
     "text": [
      "22903\n"
     ]
    },
    {
     "name": "stderr",
     "output_type": "stream",
     "text": [
      "\n"
     ]
    }
   ],
   "source": [
    "import glob\n",
    "import tqdm\n",
    "seqdump_dirs = glob.glob(\"**/**HMMER_seqdump.fa\",recursive = True)\n",
    "\n",
    "print(seqdump_dirs)\n",
    "unique_sequences = []\n",
    "i = 0\n",
    "for seqdump_dir in tqdm.tqdm(seqdump_dirs):\n",
    "    seqrec_iter = SeqIO.parse(seqdump_dir,\"fasta\")\n",
    "    for seqrec in seqrec_iter:\n",
    "        i += 1\n",
    "        if seqrec.id not in unique_sequences:\n",
    "            unique_sequences.append(seqrec.id)\n",
    "print(i)"
   ]
  },
  {
   "cell_type": "code",
   "execution_count": 11,
   "id": "41e4b978",
   "metadata": {},
   "outputs": [
    {
     "name": "stdout",
     "output_type": "stream",
     "text": [
      "19405\n"
     ]
    }
   ],
   "source": [
    "print(len(unique_sequences))"
   ]
  },
  {
   "cell_type": "markdown",
   "id": "ec997c00",
   "metadata": {},
   "source": [
    "## Number of sequences per file"
   ]
  },
  {
   "cell_type": "code",
   "execution_count": 9,
   "id": "dfc8f722",
   "metadata": {},
   "outputs": [
    {
     "name": "stdout",
     "output_type": "stream",
     "text": [
      "\n",
      "Sequences/Amidine/Jesko_but_unknown/seqdump.txt has 18 sequences\n",
      "\n",
      "Sequences/Azoline/PZN/seqdump.txt has 120 sequences\n",
      "\n",
      "Sequences/Azoline/Mccb17/seqdump.txt has 64 sequences\n",
      "\n",
      "Sequences/Azoline/Bottromycin/seqdump.txt has 27 sequences\n"
     ]
    }
   ],
   "source": [
    "import glob\n",
    "seqdump_dirs = glob.glob(\"**/**seqdump.txt\",recursive = True)\n",
    "\n",
    "for seqdump_dir in seqdump_dirs:\n",
    "    i = 0\n",
    "    seqrec_iter = SeqIO.parse(seqdump_dir,\"fasta\")\n",
    "    for seqrec in seqrec_iter:\n",
    "        i += 1\n",
    "    if(i<200):\n",
    "        print(\"\\n{} has {} sequences\".format(seqdump_dir,i))\n",
    "    "
   ]
  },
  {
   "cell_type": "markdown",
   "id": "1b5afce9",
   "metadata": {},
   "source": [
    "# Pairwise percent identity \n",
    "## Works for pairwise aligned sequences"
   ]
  },
  {
   "cell_type": "code",
   "execution_count": 29,
   "id": "f4bba128",
   "metadata": {},
   "outputs": [
    {
     "name": "stdout",
     "output_type": "stream",
     "text": [
      "ML-EATATECELREVVHRSYPSD-RTVTVRCTVRPAEGT-AQADGYGTATTEAVARAKALSEAVERLVACTPFATVARPPTTPA---PGS-GSGPVPPFPAAGVRTAPD-GCAS-RE-YRPLS-GDG-PRRVPLYWSSPWV-AGE-ELRAGTLS-AAEARLSSTVGWAVAPTPEA-ALRGALLELTELIDYGVFLHRRLAGPARPR-SAGDE-TLVVPLGGAV--RTPT-VLAVAYGRGRLMPATGLGCGAS-RA-EATDRALLELAQAETMWRSNPTAEPAERFFLRRFERWPLLT-RCATLDFELSDLSGLDGLSGLDGLSRL-DGLS-RLDHPSDLNDPAGR--PA--P--YDDGPH-PASPLEELEAGGIT-VWADSGAVDISGPDIPRTRLCFAHVVSDPQPLLGLVRAGIPVFDTGEVRRTLDPSRRDAHRDTPRGAPRDAARDRSADRGPAGRGRQGRRSA\n",
      "|  |||||||||||||||||||  ||||||||||||||  |||||||||||||||||||||||||||||||||||||||| | |   ||  |||||||||||||||||  |||  |  ||||  | | ||||||||||||  ||  |||||||  |||||||||||||||||||  |||||||||||||||||||||||||||| | ||||  ||||||||    |||  |||||||||||||||||||||  |  ||||||||||||||||||||||||||||||||||||||||  |||||||              |    | |    | | |     || |  ||  |  |||||  |||||||||||||  |||||||||||||||||||||||||||||||||||||||||||||||||||||||                   |   | |          |\n",
      "M-REATATECELREVVHRSYPS-ERTVTVRCTVRPAEG-SAQADGYGTATTEAVARAKALSEAVERLVACTPFATVARPP-T-ACADPG-TGSGPVPPFPAAGVRTAP-EGCA-GR-VYRPL-TG-GGPRRVPLYWSSPW-TAG-AELRAGTL-TAAEARLSSTVGWAVAPTPE-GALRGALLELTELIDYGVFLHRRLAGPAR-RPSAGD-RTLVVPLGG--IGRTP-AVLAVAYGRGRLMPATGLGCGA-TR-GEATDRALLELAQAETMWRSNPTAEPAERFFLRRFERWPLL-ARCATLDF--------------D----LPD---PR-D-P-----PA-RSGPAGGPGPYDDGP-CPASPLEELEAGGI-RVWADSGAVDISGPDIPRTRLCFAHVVSDPQPLLGLVRAGIPVFDTGEVRRTLDPS-------------------R---R-P----------A\n",
      "  Score=347\n",
      "\n",
      "0.7995391705069125\n"
     ]
    }
   ],
   "source": [
    "#Quick bit of code that determines the identity score by a really crude method, which I am not even sure is correct\n",
    "#because it is consistently higher than Blast result percentage identity, but hey it's close enough\n",
    "blastp_sequences = [seq for seq in SeqIO.parse(\"raw_sequences/Azoline/Bottromycin/seqdump.txt\",\"fasta\")]\n",
    "\n",
    "tblastn_DNA_sequences = [seq for seq in SeqIO.parse(\"raw_sequences/Azoline/Bottromycin/wgs_DNA_streptomycetateae_seqdump.txt\",\"fasta\")]\n",
    "tblastn_sequences = [seq.translate() for seq in tblastn_DNA_sequences]\n",
    "\n",
    "seq1 = blastp_sequences[0]\n",
    "seq2 = tblastn_sequences[0]\n",
    "\n",
    "alignments = pairwise2.align.globalxx(seq1.seq, seq2.seq)\n",
    "\n",
    "print(format_alignment(*alignments[0]))\n",
    "print(alignments[0].score/max(len(seq1),len(seq2)))"
   ]
  },
  {
   "cell_type": "markdown",
   "id": "adf39423",
   "metadata": {},
   "source": [
    "# \"Percentage\" identity matrix\n",
    "### CODE IS VERY SLOW, Better version below"
   ]
  },
  {
   "cell_type": "code",
   "execution_count": 55,
   "id": "f74f731e",
   "metadata": {
    "scrolled": true
   },
   "outputs": [
    {
     "name": "stdout",
     "output_type": "stream",
     "text": [
      "42\n"
     ]
    },
    {
     "name": "stderr",
     "output_type": "stream",
     "text": [
      "100%|██████████| 1764/1764 [00:46<00:00, 37.86it/s]"
     ]
    },
    {
     "name": "stdout",
     "output_type": "stream",
     "text": [
      "[[1.       1.       1.       ... 0.167979 0.167979 0.167979]\n",
      " [1.       1.       1.       ... 0.167979 0.167979 0.167979]\n",
      " [1.       1.       1.       ... 0.167979 0.167979 0.167979]\n",
      " ...\n",
      " [0.167979 0.167979 0.167979 ... 1.       1.       1.      ]\n",
      " [0.167979 0.167979 0.167979 ... 1.       1.       1.      ]\n",
      " [0.167979 0.167979 0.167979 ... 1.       1.       1.      ]]\n"
     ]
    },
    {
     "name": "stderr",
     "output_type": "stream",
     "text": [
      "\n"
     ]
    }
   ],
   "source": [
    "#THIS CODE IS VERY SLOW\n",
    "import numpy as np\n",
    "from tqdm import tqdm\n",
    "\n",
    "def perc_identity(alignment,seq1,seq2):\n",
    "    return alignment[0].score/max(len(seq1),len(seq2))\n",
    "\n",
    "def perc_identity_matrix(sequences):\n",
    "    with tqdm(total=pow(len(sequences),2)) as pbar:\n",
    "        matrix = np.zeros((len(sequences),len(sequences)))\n",
    "        for i in range(len(sequences)):\n",
    "            matrix[i,i] = 1\n",
    "            pbar.update(1)\n",
    "            for j in range(i):\n",
    "                alignment = pairwise2.align.globalxx(sequences[i].seq, sequences[j].seq)\n",
    "                matrix[i,j] = perc_identity(alignment,sequences[i].seq,sequences[j].seq)\n",
    "                matrix[j,i] = matrix[i,j]\n",
    "                pbar.update(2)\n",
    "        \n",
    "    return matrix\n",
    "\n",
    "\n",
    "tblastn_DNA_sequences = [seq for seq in SeqIO.parse(\"raw_sequences/Azoline/Bottromycin/wgs_DNA_streptomycetateae_seqdump.txt\",\"fasta\")]\n",
    "tblastn_sequences = [seq.translate() for seq in tblastn_DNA_sequences]\n",
    "print(len(tblastn_sequences))\n",
    "identity_matrix = perc_identity_matrix(tblastn_sequences)\n",
    "print(identity_matrix)\n"
   ]
  },
  {
   "cell_type": "code",
   "execution_count": 51,
   "id": "c0e37092",
   "metadata": {},
   "outputs": [
    {
     "name": "stdout",
     "output_type": "stream",
     "text": [
      "1.0\n"
     ]
    },
    {
     "data": {
      "text/plain": [
       "<matplotlib.image.AxesImage at 0x7f0d23a614f0>"
      ]
     },
     "execution_count": 51,
     "metadata": {},
     "output_type": "execute_result"
    },
    {
     "data": {
      "image/png": "[encoded data removed]",
      "text/plain": [
       "<Figure size 480x480 with 1 Axes>"
      ]
     },
     "metadata": {},
     "output_type": "display_data"
    }
   ],
   "source": [
    "import matplotlib.pyplot as plt\n",
    "\n",
    "print(identity_matrix[0,0])\n",
    "plt.matshow(identity_matrix)"
   ]
  },
  {
   "cell_type": "code",
   "execution_count": 83,
   "id": "6a07a7df",
   "metadata": {},
   "outputs": [
    {
     "name": "stdout",
     "output_type": "stream",
     "text": [
      "23\n"
     ]
    },
    {
     "data": {
      "image/png": "[encoded data removed]",
      "text/plain": [
       "<Figure size 480x480 with 1 Axes>"
      ]
     },
     "metadata": {},
     "output_type": "display_data"
    }
   ],
   "source": [
    "def perc_identity_cutoff(sequences,matrix,cutoff=1):\n",
    "    dissimilar_sequences = []\n",
    "    indexes_to_del = []\n",
    "    dissimilar_sequences.append(sequences[0])\n",
    "    for i in range(1,matrix.shape[0]):\n",
    "        if(matrix[:i,i].max() < cutoff):\n",
    "            dissimilar_sequences.append(sequences[i])\n",
    "        else:\n",
    "            indexes_to_del.append(i)\n",
    "    matrix = np.delete(matrix, indexes_to_del, axis = 0)\n",
    "    matrix = np.delete(matrix, indexes_to_del, axis = 1)\n",
    "    return dissimilar_sequences, matrix\n",
    "\n",
    "unique_sequences, unique_matrix = perc_identity_cutoff(tblastn_sequences, identity_matrix, cutoff=0.99)\n",
    "plt.matshow(unique_matrix)\n",
    "print(len(unique_sequences))"
   ]
  },
  {
   "cell_type": "code",
   "execution_count": 73,
   "id": "f03dda60",
   "metadata": {},
   "outputs": [
    {
     "name": "stdout",
     "output_type": "stream",
     "text": [
      "0.9893048128342246\n"
     ]
    }
   ],
   "source": [
    "def perc_identity(seq1,seq2): #percentage identity between two aligned sequences\n",
    "    \n",
    "    return alignment[0].score/max(len(seq1),len(seq2))"
   ]
  },
  {
   "cell_type": "code",
   "execution_count": 10,
   "id": "270fa866",
   "metadata": {
    "scrolled": true
   },
   "outputs": [
    {
     "name": "stdout",
     "output_type": "stream",
     "text": [
      "Requirement already satisfied: pylev in /usr/local/lib/python3.9/site-packages (1.4.0)\n",
      "\u001b[33mWARNING: Retrying (Retry(total=4, connect=None, read=None, redirect=None, status=None)) after connection broken by 'NewConnectionError('<pip._vendor.urllib3.connection.HTTPSConnection object at 0x7fab8b8b60d0>: Failed to establish a new connection: [Errno -3] Temporary failure in name resolution')': /simple/levenshtein/\u001b[0m\u001b[33m\n",
      "\u001b[0m\u001b[33mWARNING: Retrying (Retry(total=3, connect=None, read=None, redirect=None, status=None)) after connection broken by 'NewConnectionError('<pip._vendor.urllib3.connection.HTTPSConnection object at 0x7fab8b8b6400>: Failed to establish a new connection: [Errno -3] Temporary failure in name resolution')': /simple/levenshtein/\u001b[0m\u001b[33m\n",
      "\u001b[0m\u001b[33mWARNING: Retrying (Retry(total=2, connect=None, read=None, redirect=None, status=None)) after connection broken by 'NewConnectionError('<pip._vendor.urllib3.connection.HTTPSConnection object at 0x7fab8b8b65b0>: Failed to establish a new connection: [Errno -3] Temporary failure in name resolution')': /simple/levenshtein/\u001b[0m\u001b[33m\n",
      "\u001b[0m\u001b[33mWARNING: Retrying (Retry(total=1, connect=None, read=None, redirect=None, status=None)) after connection broken by 'NewConnectionError('<pip._vendor.urllib3.connection.HTTPSConnection object at 0x7fab8b8b6760>: Failed to establish a new connection: [Errno -3] Temporary failure in name resolution')': /simple/levenshtein/\u001b[0m\u001b[33m\n",
      "\u001b[0m\u001b[33mWARNING: Retrying (Retry(total=0, connect=None, read=None, redirect=None, status=None)) after connection broken by 'NewConnectionError('<pip._vendor.urllib3.connection.HTTPSConnection object at 0x7fab8b8b6910>: Failed to establish a new connection: [Errno -3] Temporary failure in name resolution')': /simple/levenshtein/\u001b[0m\u001b[33m\n",
      "\u001b[0mCollecting levenshtein\n",
      "  Using cached Levenshtein-0.20.8-cp39-cp39-manylinux_2_17_x86_64.manylinux2014_x86_64.whl (175 kB)\n",
      "Collecting rapidfuzz<3.0.0,>=2.3.0\n",
      "  Downloading rapidfuzz-2.13.4-cp39-cp39-manylinux_2_17_x86_64.manylinux2014_x86_64.whl (2.2 MB)\n",
      "\u001b[2K     \u001b[90m━━━━━━━━━━━━━━━━━━━━━━━━━━━━━━━━━━━━━━━━\u001b[0m \u001b[32m2.2/2.2 MB\u001b[0m \u001b[31m314.8 kB/s\u001b[0m eta \u001b[36m0:00:00\u001b[0m00:01\u001b[0m00:01\u001b[0m\n",
      "\u001b[?25hInstalling collected packages: rapidfuzz, levenshtein\n",
      "Successfully installed levenshtein-0.20.8 rapidfuzz-2.13.4\n",
      "\u001b[33mWARNING: Running pip as the 'root' user can result in broken permissions and conflicting behaviour with the system package manager. It is recommended to use a virtual environment instead: https://pip.pypa.io/warnings/venv\u001b[0m\u001b[33m\n",
      "\u001b[0m\u001b[33mWARNING: You are using pip version 22.0.4; however, version 22.3.1 is available.\n",
      "You should consider upgrading via the '/usr/local/bin/python -m pip install --upgrade pip' command.\u001b[0m\u001b[33m\n",
      "\u001b[0m"
     ]
    }
   ],
   "source": [
    "!pip install pylev levenshtein"
   ]
  },
  {
   "cell_type": "code",
   "execution_count": 36,
   "id": "de7ad716",
   "metadata": {},
   "outputs": [],
   "source": [
    "import pylev\n",
    "import Levenshtein\n",
    "import tqdm\n",
    "import matplotlib.pyplot as plt\n",
    "import numpy as np\n",
    "\n",
    "def get_sequences(file_name): #Returns a list of seqRecords from filename instead of iterable like SeqIO would\n",
    "    return [seq for seq in SeqIO.parse(file_name,\"fasta\")]"
   ]
  },
  {
   "cell_type": "code",
   "execution_count": 7,
   "id": "e751c63b",
   "metadata": {},
   "outputs": [
    {
     "data": {
      "text/plain": [
       "2"
      ]
     },
     "execution_count": 7,
     "metadata": {},
     "output_type": "execute_result"
    }
   ],
   "source": [
    "a = 'carlos'\n",
    "b = 'b arlos'\n",
    "\n",
    "pylev.levenshtein(a, b)"
   ]
  },
  {
   "cell_type": "code",
   "execution_count": 28,
   "id": "ae67c72a",
   "metadata": {},
   "outputs": [],
   "source": [
    "#unique_sequences = get_sequences(\"raw_sequences/Azoline/Bottromycin/seqdump.txt\")\n",
    "tblastn_DNA_sequences = [seq for seq in SeqIO.parse(\"raw_sequences/Azoline/Bottromycin/wgs_DNA_streptomycetateae_seqdump.txt\",\"fasta\")]\n",
    "unique_sequences = [seq.translate() for seq in tblastn_DNA_sequences]\n",
    "\n",
    "seq1 = str(unique_sequences[0].seq)\n",
    "seq2 = str(unique_sequences[1].seq)"
   ]
  },
  {
   "cell_type": "code",
   "execution_count": 29,
   "id": "259cab6d",
   "metadata": {},
   "outputs": [
    {
     "data": {
      "text/plain": [
       "0"
      ]
     },
     "execution_count": 29,
     "metadata": {},
     "output_type": "execute_result"
    }
   ],
   "source": [
    "pylev.levenshtein(seq1, seq2)"
   ]
  },
  {
   "cell_type": "code",
   "execution_count": 31,
   "id": "2390fac6",
   "metadata": {},
   "outputs": [
    {
     "name": "stderr",
     "output_type": "stream",
     "text": [
      "100%|██████████| 42/42 [01:22<00:00,  1.96s/it]\n"
     ]
    }
   ],
   "source": [
    "similarity_matrix = []\n",
    "\n",
    "for i in tqdm.tqdm(range(len(unique_sequences))):\n",
    "    row = []\n",
    "    for j in range(len(unique_sequences)):\n",
    "        seq1 = str(unique_sequences[i].seq)\n",
    "        seq2 = str(unique_sequences[j].seq)\n",
    "        similarity = pylev.levenschtein(seq1, seq2)\n",
    "        row.append(similarity)\n",
    "    similarity_matrix.append(row)\n",
    "\n",
    "        "
   ]
  },
  {
   "cell_type": "code",
   "execution_count": 38,
   "id": "d777f69b",
   "metadata": {},
   "outputs": [],
   "source": [
    "m = np.array(similarity_matrix)"
   ]
  },
  {
   "cell_type": "code",
   "execution_count": 39,
   "id": "2291f1f8",
   "metadata": {
    "scrolled": true
   },
   "outputs": [
    {
     "data": {
      "text/plain": [
       "<matplotlib.image.AxesImage at 0x7f47aafbc670>"
      ]
     },
     "execution_count": 39,
     "metadata": {},
     "output_type": "execute_result"
    },
    {
     "data": {
      "image/png": "[encoded data removed]",
      "text/plain": [
       "<Figure size 480x480 with 1 Axes>"
      ]
     },
     "metadata": {},
     "output_type": "display_data"
    }
   ],
   "source": [
    "plt.matshow(-m)"
   ]
  },
  {
   "cell_type": "code",
   "execution_count": null,
   "id": "bc4d987d",
   "metadata": {},
   "outputs": [],
   "source": []
  }
 ],
 "metadata": {
  "kernelspec": {
   "display_name": "Python 3 (ipykernel)",
   "language": "python",
   "name": "python3"
  },
  "language_info": {
   "codemirror_mode": {
    "name": "ipython",
    "version": 3
   },
   "file_extension": ".py",
   "mimetype": "text/x-python",
   "name": "python",
   "nbconvert_exporter": "python",
   "pygments_lexer": "ipython3",
   "version": "3.9.15"
  }
 },
 "nbformat": 4,
 "nbformat_minor": 5
}
