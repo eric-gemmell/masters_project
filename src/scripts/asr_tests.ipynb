{
 "cells": [
  {
   "cell_type": "code",
   "execution_count": 19,
   "id": "11fa7145",
   "metadata": {},
   "outputs": [],
   "source": [
    "import os\n",
    "import glob\n",
    "from Bio import SeqIO\n",
    "from tqdm.auto import tqdm\n",
    "import pylev\n",
    "import matplotlib.pyplot as plt\n",
    "import numpy as np\n",
    "import copy\n",
    "import csv\n",
    "from Bio.SeqRecord import SeqRecord\n",
    "from Bio.Seq import Seq"
   ]
  },
  {
   "cell_type": "code",
   "execution_count": 4,
   "id": "db6c17d0",
   "metadata": {},
   "outputs": [],
   "source": [
    "from Bio import pairwise2\n",
    "from Bio.pairwise2 import format_alignment\n",
    "def print_alignment(seq1,seq2,gap_cost = -5):\n",
    "    alignment = pairwise2.align.globalms(seq1, seq2,2,-1, gap_cost,-0.3)#gap penalty of -5 seems to work well at preventing them from forming!\n",
    "    al1 = alignment[0][0]\n",
    "    al2 = alignment[0][1]\n",
    "\n",
    "    i = 0\n",
    "    print(\"Alignment:\")\n",
    "    while(i <= len(al1)):\n",
    "        sub_al1 = al1[i:min(len(al1),i+70)]\n",
    "        sub_al2 = al2[i:min(len(al2),i+70)]\n",
    "        \n",
    "        print(f\"{i}-{min(len(al1),i+70)}\")\n",
    "        print(sub_al1)\n",
    "        print(\"\".join([\"|\" if sub_al1[j] == sub_al2[j] else \" \" if sub_al1[j] == \"-\" or sub_al2[j] == \"-\" else \".\" for j in range(0,len(sub_al1))]))\n",
    "        print(sub_al2)\n",
    "        print()\n",
    "        i += 70\n",
    "    \n",
    "    gap_percentage = ( len(al1)-max(len(seq1),len(seq2)) )/len(al1)*100\n",
    "    print(f\"Gap percentage: {gap_percentage}\")\n",
    "    \n"
   ]
  },
  {
   "cell_type": "code",
   "execution_count": 33,
   "id": "badce48e",
   "metadata": {},
   "outputs": [
    {
     "name": "stdout",
     "output_type": "stream",
     "text": [
      "Alignment:\n",
      "0-70\n",
      "CTACCACACCCCAGGAAACAGCAGTGATTAACCTTTAGCATAAACGAAGTTTAACTAAGCTATAAAGGGT\n",
      "||.||||||||||||||.||||||||||||||.||.|||||||.|||||.||.|||.|||.|....|||.\n",
      "CTCCCACACCCCAGGAACCAGCAGTGATTAACATTGAGCATAAGCGAAGCTTGACTCAGCCACCTCGGGC\n",
      "\n",
      "70-100\n",
      "TGGTCAATTTCGTGCAGCCACCGCGGTCAC\n",
      ".|||.||..||||||||||||||||||.|.\n",
      "CGGTAAACCTCGTGCAGCCACCGCGGTTAT\n",
      "\n",
      "Gap percentage: 0.0\n"
     ]
    }
   ],
   "source": [
    "non_gapped_filename = \"../mock_data/gapped_msa_test/not_gapped/example.phy\"\n",
    "\n",
    "def LoadSequences(filename):\n",
    "    seq_recs = [seqrec for seqrec in SeqIO.parse(filename,\"phylip\")]\n",
    "    seq_dict = {}\n",
    "    for seq_rec in seq_recs:\n",
    "        seq_dict[seq_rec.id] = seq_rec.seq\n",
    "    return seq_dict\n",
    "\n",
    "non_gapped_seq_dict = LoadSequences(non_gapped_filename)\n",
    "\n",
    "print_alignment(non_gapped_seq_dict[\"Human\"], non_gapped_seq_dict[\"LngfishAu\"],gap_cost=-5)"
   ]
  },
  {
   "cell_type": "code",
   "execution_count": 34,
   "id": "f0e0025c",
   "metadata": {},
   "outputs": [
    {
     "name": "stdout",
     "output_type": "stream",
     "text": [
      "CTACCACACCCCAGGAAACAGCAGTGATTAAAATTAAGCATAAACGAAGTTTGACTAAGTTATAAAGGGTTGGTCAATTTCGTGCAGCCACCGCGGTCAT\n"
     ]
    }
   ],
   "source": [
    "non_gapped_asr_state_filename = \"../mock_data/gapped_msa_test/not_gapped/example.phy.state\"\n",
    "\n",
    "def LoadStateFile(filename):\n",
    "    seqs = {}\n",
    "    reader = csv.reader(open(filename), delimiter=\"\\t\")\n",
    "    while True:\n",
    "        if \"#\" not in next(reader)[0]:\n",
    "            break\n",
    "    for row in reader:\n",
    "        if row[0] not in seqs:\n",
    "            seqs[row[0]] = \"\"\n",
    "        seqs[row[0]] += row[2]\n",
    "    for node, raw_seq in seqs.items(): \n",
    "        seqs[node] = Seq(raw_seq)\n",
    "    return seqs\n",
    "    \n",
    "non_gapped_asr_seqs = LoadStateFile(non_gapped_asr_state_filename)\n",
    "print(non_gapped_asr_seqs[\"Node12\"])"
   ]
  },
  {
   "cell_type": "code",
   "execution_count": 35,
   "id": "4b06f03b",
   "metadata": {},
   "outputs": [
    {
     "name": "stdout",
     "output_type": "stream",
     "text": [
      "Human, Opossum\n",
      "Alignment:\n",
      "0-70\n",
      "CTACCACACCCCAGGAAACAGCAGTGATTAACCTTTAGCATAAACGAAGTTTAACTAAGCTATAAAGGGT\n",
      "||.|||||||||||||.||||||||||||||..||.||||||||||||||||.||||||..||..|||||\n",
      "CTTCCACACCCCAGGAGACAGCAGTGATTAAAATTAAGCATAAACGAAGTTTGACTAAGTCATTTAGGGT\n",
      "\n",
      "70-100\n",
      "TGGTCAATTTCGTGCAGCCACCGCGGTCAC\n",
      "|||||||||||||||||||||||||||||.\n",
      "TGGTCAATTTCGTGCAGCCACCGCGGTCAT\n",
      "\n",
      "Gap percentage: 0.0\n",
      "Opossum, Node12\n",
      "Alignment:\n",
      "0-70\n",
      "CTTCCACACCCCAGGAGACAGCAGTGATTAAAATTAAGCATAAACGAAGTTTGACTAAGTCATTTAGGGT\n",
      "||.|||||||||||||.|||||||||||||||||||||||||||||||||||||||||||.||..|||||\n",
      "CTACCACACCCCAGGAAACAGCAGTGATTAAAATTAAGCATAAACGAAGTTTGACTAAGTTATAAAGGGT\n",
      "\n",
      "70-100\n",
      "TGGTCAATTTCGTGCAGCCACCGCGGTCAT\n",
      "||||||||||||||||||||||||||||||\n",
      "TGGTCAATTTCGTGCAGCCACCGCGGTCAT\n",
      "\n",
      "Gap percentage: 0.0\n",
      "Human, Node12\n",
      "Alignment:\n",
      "0-70\n",
      "CTACCACACCCCAGGAAACAGCAGTGATTAACCTTTAGCATAAACGAAGTTTAACTAAGCTATAAAGGGT\n",
      "|||||||||||||||||||||||||||||||..||.||||||||||||||||.||||||.||||||||||\n",
      "CTACCACACCCCAGGAAACAGCAGTGATTAAAATTAAGCATAAACGAAGTTTGACTAAGTTATAAAGGGT\n",
      "\n",
      "70-100\n",
      "TGGTCAATTTCGTGCAGCCACCGCGGTCAC\n",
      "|||||||||||||||||||||||||||||.\n",
      "TGGTCAATTTCGTGCAGCCACCGCGGTCAT\n",
      "\n",
      "Gap percentage: 0.0\n"
     ]
    }
   ],
   "source": [
    "print(\"Human, Opossum\")\n",
    "print_alignment(non_gapped_seq_dict[\"Human\"],non_gapped_seq_dict[\"Opossum\"])\n",
    "print(\"Opossum, Node12\")\n",
    "print_alignment(non_gapped_seq_dict[\"Opossum\"],non_gapped_asr_seqs[\"Node12\"])\n",
    "print(\"Human, Node12\")\n",
    "print_alignment(non_gapped_seq_dict[\"Human\"],non_gapped_asr_seqs[\"Node12\"])"
   ]
  },
  {
   "cell_type": "code",
   "execution_count": 44,
   "id": "e97b7770",
   "metadata": {},
   "outputs": [
    {
     "name": "stdout",
     "output_type": "stream",
     "text": [
      "Human, Opossum\n",
      "Alignment:\n",
      "0-70\n",
      "---CCACACCCCAGGAAACAGCAGTGATTAACCTTTAGCATAAACGAAGTTTAACTAAGCTATAAAGGGT\n",
      "||||||||||||||||.||||||||||||||..||.||||||||||||||||.||||||..||..|||||\n",
      "---CCACACCCCAGGAGACAGCAGTGATTAAAATTAAGCATAAACGAAGTTTGACTAAGTCATTTAGGGT\n",
      "\n",
      "70-100\n",
      "TGGTCAATTTCGTGCAGCCACCGCGGTCAC\n",
      "|||||||||||||||||||||||||||||.\n",
      "TGGTCAATTTCGTGCAGCCACCGCGGTCAT\n",
      "\n",
      "Gap percentage: 0.0\n",
      "Human, Cow\n",
      "Alignment:\n",
      "0-70\n",
      "---CCACACCCCAGGAAACAGCAGTGATTAACCTTTAGCATAAACGAAGTTTAACTAAGCTATAAAGGGT\n",
      "|||||||||||||||||||||||||||..||..||.||||||||||||||||.||||||.||||||||||\n",
      "---CCACACCCCAGGAAACAGCAGTGACAAAAATTAAGCATAAACGAAGTTTGACTAAGTTATAAAGGGT\n",
      "\n",
      "70-100\n",
      "TGGTCAATTTCGTGCAGCCACCGCGGTCAC\n",
      "||||.|||.||||||||||||||||||||.\n",
      "TGGTAAATCTCGTGCAGCCACCGCGGTCAT\n",
      "\n",
      "Gap percentage: 0.0\n",
      "Opossum, Node12\n",
      "Alignment:\n",
      "0-70\n",
      "---CCACACCCCAGGAGACAGCAGTGATTAAAATTAAGCATAAACGAAGTTTGACTAAGTCATTTAGGGT\n",
      "   |||||||||||||.|||||||||||||||||||||||||||||||||||||||||||.||..|||||\n",
      "CTACCACACCCCAGGAAACAGCAGTGATTAAAATTAAGCATAAACGAAGTTTGACTAAGTTATAAAGGGT\n",
      "\n",
      "70-100\n",
      "TGGTCAATTTCGTGCAGCCACCGCGGTCAT\n",
      "||||||||||||||||||||||||||||||\n",
      "TGGTCAATTTCGTGCAGCCACCGCGGTCAT\n",
      "\n",
      "Gap percentage: 0.0\n",
      "Human, Node12\n",
      "Alignment:\n",
      "0-70\n",
      "---CCACACCCCAGGAAACAGCAGTGATTAACCTTTAGCATAAACGAAGTTTAACTAAGCTATAAAGGGT\n",
      "   ||||||||||||||||||||||||||||..||.||||||||||||||||.||||||.||||||||||\n",
      "CTACCACACCCCAGGAAACAGCAGTGATTAAAATTAAGCATAAACGAAGTTTGACTAAGTTATAAAGGGT\n",
      "\n",
      "70-100\n",
      "TGGTCAATTTCGTGCAGCCACCGCGGTCAC\n",
      "|||||||||||||||||||||||||||||.\n",
      "TGGTCAATTTCGTGCAGCCACCGCGGTCAT\n",
      "\n",
      "Gap percentage: 0.0\n"
     ]
    }
   ],
   "source": [
    "deletion_sequences_filename = \"../mock_data/gapped_msa_test/gapped/example.phy\"\n",
    "deletion_asr_state_filename = \"../mock_data/gapped_msa_test/gapped/example.phy.state\"\n",
    "\n",
    "deletion_seq_dict = LoadSequences(deletion_sequences_filename)\n",
    "deletion_asr_seqs = LoadStateFile(non_gapped_asr_state_filename)\n",
    "\n",
    "print(\"Human, Opossum\")\n",
    "print_alignment(deletion_seq_dict[\"Human\"],deletion_seq_dict[\"Opossum\"])\n",
    "print(\"Human, Cow\")\n",
    "print_alignment(deletion_seq_dict[\"Human\"],deletion_seq_dict[\"Cow\"])\n",
    "print(\"Opossum, Node12\")\n",
    "print_alignment(deletion_seq_dict[\"Opossum\"],deletion_asr_seqs[\"Node12\"])\n",
    "print(\"Human, Node12\")\n",
    "print_alignment(deletion_seq_dict[\"Human\"],deletion_asr_seqs[\"Node12\"])"
   ]
  },
  {
   "cell_type": "code",
   "execution_count": null,
   "id": "998d785f",
   "metadata": {},
   "outputs": [],
   "source": []
  },
  {
   "cell_type": "code",
   "execution_count": null,
   "id": "b7140138",
   "metadata": {},
   "outputs": [],
   "source": []
  }
 ],
 "metadata": {
  "kernelspec": {
   "display_name": "Python 3 (ipykernel)",
   "language": "python",
   "name": "python3"
  },
  "language_info": {
   "codemirror_mode": {
    "name": "ipython",
    "version": 3
   },
   "file_extension": ".py",
   "mimetype": "text/x-python",
   "name": "python",
   "nbconvert_exporter": "python",
   "pygments_lexer": "ipython3",
   "version": "3.9.15"
  }
 },
 "nbformat": 4,
 "nbformat_minor": 5
}
