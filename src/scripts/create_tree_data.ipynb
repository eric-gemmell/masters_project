{
 "cells": [
  {
   "cell_type": "markdown",
   "id": "e301e599",
   "metadata": {},
   "source": [
    "## Load all sequences info, and save it to a tsv for treeViewer"
   ]
  },
  {
   "cell_type": "markdown",
   "id": "a28946c4",
   "metadata": {},
   "source": [
    "## Working with the 70% ID cutoff tree"
   ]
  },
  {
   "cell_type": "code",
   "execution_count": 5,
   "id": "7f848c1b",
   "metadata": {},
   "outputs": [],
   "source": [
    "base_dir = \"../processed_sequences/YcaO_domain_70/\"\n",
    "all_annotations_filename = base_dir+\"interpro_all_YcaO_annotated.json\"\n",
    "tridomain_annotations_filename = base_dir+\"cyclodehydratase_annotaded_sequences.json\"\n",
    "tree_sequences_filename = base_dir+\"unique_filtered_70_sequences.txt\"\n",
    "\n",
    "\n",
    "from Bio.SeqRecord import SeqRecord\n",
    "from Bio.Seq import Seq\n",
    "from Bio import SeqIO\n",
    "import copy\n",
    "import json"
   ]
  },
  {
   "cell_type": "markdown",
   "id": "9766e405",
   "metadata": {},
   "source": [
    "## Load sequences, accessions and annotations."
   ]
  },
  {
   "cell_type": "code",
   "execution_count": 8,
   "id": "2508ae73",
   "metadata": {},
   "outputs": [],
   "source": [
    "sequences = [seq for seq in SeqIO.parse(tree_sequences_filename,\"fasta\")]\n",
    "sequence_accessions = [seq.id.split(\"|\")[0] for seq in sequences]\n",
    "\n",
    "YcaO_data = []\n",
    "with open(all_annotations_filename, 'r') as f:\n",
    "    YcaO_data = json.load(f)\n",
    "    \n",
    "    \n",
    "E1_data = []\n",
    "\n",
    "with open(tridomain_annotations_filename, 'r') as f:\n",
    "    E1_data = json.load(f)\n"
   ]
  },
  {
   "cell_type": "code",
   "execution_count": 12,
   "id": "bbbfcd77",
   "metadata": {},
   "outputs": [],
   "source": [
    "def get_item_by_accession(data, accession):\n",
    "    for item in data:\n",
    "        if item['Accession_Interpro'] == accession:\n",
    "            return item\n",
    "    return None"
   ]
  },
  {
   "cell_type": "code",
   "execution_count": 44,
   "id": "b01e463a",
   "metadata": {},
   "outputs": [],
   "source": [
    "taxonomy_index = 0\n",
    "sequence_taxonomy = [get_item_by_accession(YcaO_data,accession)[\"lineage\"][taxonomy_index].replace(\" \", \"_\") for accession in sequence_accessions]"
   ]
  },
  {
   "cell_type": "code",
   "execution_count": 45,
   "id": "0328a009",
   "metadata": {},
   "outputs": [],
   "source": [
    "import random\n",
    "import colorsys\n",
    "import matplotlib\n",
    "\n",
    "def generate_colors(sequence_taxonomy):\n",
    "    unique_taxa = set(sequence_taxonomy)\n",
    "    taxa_colors = {}\n",
    "    sequence_colors = []\n",
    "    predefined_colors = ['#1f77b4', '#ff7f0e', '#2ca02c', '#d62728', '#9467bd', '#8c564b', '#e377c2', '#7f7f7f', '#bcbd22', '#17becf']\n",
    "    color_index = 0\n",
    "    for taxa in unique_taxa:\n",
    "        if color_index < len(predefined_colors):\n",
    "            taxa_colors[taxa] = predefined_colors[color_index]\n",
    "            color_index += 1\n",
    "        else:\n",
    "            h, s, v = random.random(), 0.5 + random.random() / 2.0, 0.4 + random.random() / 5.0\n",
    "            r, g, b = colorsys.hsv_to_rgb(h, s, v)\n",
    "            taxa_colors[taxa] = '#{:02x}{:02x}{:02x}'.format(int(r * 255), int(g * 255), int(b * 255))\n",
    "    for taxa in sequence_taxonomy:\n",
    "        sequence_colors.append(taxa_colors[taxa])\n",
    "    return sequence_colors\n",
    "\n",
    "\n",
    "sequence_colors = generate_colors(sequence_taxonomy)\n"
   ]
  },
  {
   "cell_type": "code",
   "execution_count": 116,
   "id": "e4a6e4fd",
   "metadata": {
    "scrolled": true
   },
   "outputs": [
    {
     "name": "stdout",
     "output_type": "stream",
     "text": [
      "db_data folder already exists.\n",
      "0/27 Processing ../raw_sequences/Amidine/Bottromycin/Fasta.fa\n",
      "Got results:\n",
      "['K4MHF8']\n",
      "1/27 Processing ../raw_sequences/Amidine/Jesko_but_unknown/Fasta.fa\n",
      "Got results:\n",
      "['A0A2X3D8D2']\n",
      "2/27 Processing ../raw_sequences/Amidine/Jesko_but_unknown_outgroup_POTENTIALLY_IGNORE_DUE_TO_WEIRD_ALIGNMENT/outgroup_sequence_Fasta.fa\n",
      "Got results:\n",
      "['A0A4Q0YMK5']\n",
      "3/27 Processing ../raw_sequences/Azoline/Bottromycin/Fasta.fa\n",
      "Got results:\n",
      "['K4MJT7']\n",
      "4/27 Processing ../raw_sequences/Azoline/Cyanobactins/Cyanobactins_Mus/Fasta.fa\n",
      "Got results:\n",
      "['A0A5Q0TWV7']\n",
      "5/27 Processing ../raw_sequences/Azoline/Cyanobactins/Cyanobactins_PatD/PatD_Fasta.fa\n",
      "Got results:\n",
      "['A0A166XY79']\n",
      "6/27 Processing ../raw_sequences/Azoline/Cyanobactins/Cyanobactins_TruD/TruD_Fasta.Fa\n",
      "Got results:\n",
      "['A0A166XY79']\n",
      "7/27 Processing ../raw_sequences/Azoline/LAPs/Azolemycin_updated/Fasta.fa\n",
      "Got results:\n",
      "['A0A3S8WK97']\n",
      "8/27 Processing ../raw_sequences/Azoline/LAPs/BalhD/Fasta.fa\n",
      "Got results:\n",
      "['A0A246PI99']\n",
      "9/27 Processing ../raw_sequences/Azoline/LAPs/ClosD/Fasta.Fa\n",
      "Got results:\n",
      "['A0A0A2HDT3']\n",
      "10/27 Processing ../raw_sequences/Azoline/LAPs/Goadsporin/Fasta.fa\n",
      "Got results:\n",
      "['A0A1S2PZ02']\n",
      "11/27 Processing ../raw_sequences/Azoline/LAPs/Heterocycloanthracins/Fasta.fa\n",
      "Got results:\n",
      "['A0A2A7GYD2']\n",
      "12/27 Processing ../raw_sequences/Azoline/LAPs/Mccb17_SEQUENCE_MAY_BE_WRONG/Fasta.fa\n",
      "Got results:\n",
      "['']\n",
      "13/27 Processing ../raw_sequences/Azoline/LAPs/PZN_updated/Fasta.fa\n",
      "Got results:\n",
      "['A0A2A7GYD2']\n",
      "14/27 Processing ../raw_sequences/Azoline/LAPs/Sag/Fasta.fa\n",
      "Got results:\n",
      "['Q8GP15']\n",
      "15/27 Processing ../raw_sequences/Azoline/Thiopeptides/Thiopeptide_Lactazole/Fasta.fa\n",
      "Got results:\n",
      "['A0A344U9J1']\n",
      "16/27 Processing ../raw_sequences/Azoline/Thiopeptides/Thiostrepton/Fasta.fa\n",
      "Got results:\n",
      "['C0JRZ4']\n",
      "17/27 Processing ../raw_sequences/Thioamide/Jesko/Fasta.fa\n",
      "Got results:\n",
      "['A0A0N0HLJ3']\n",
      "18/27 Processing ../raw_sequences/Thioamide/Jesko2/Fasta.fa\n",
      "Got results:\n",
      "['A0A1Q4XN37']\n",
      "19/27 Processing ../raw_sequences/Thioamide/McrA_thioamidation_YcaO/Fasta.fa\n",
      "Got results:\n",
      "['A0A832L9F1']\n",
      "20/27 Processing ../raw_sequences/Thioamide/TVA_YJ/Fasta.fa\n",
      "Got results:\n",
      "['A0A0N0HLJ3']\n",
      "21/27 Processing ../raw_sequences/Thioamide/Thioholgamide/Fasta.fa\n",
      "Got results:\n",
      "['A0A0N0HLJ3']\n",
      "22/27 Processing ../raw_sequences/Thioamide/Thiopeptide_thioamide/Fasta.fa\n",
      "Got results:\n",
      "['A0A2V4NIH3']\n",
      "23/27 Processing ../raw_sequences/Thioamide/Thiosparsoamide/Fasta.fa\n",
      "Got results:\n",
      "['A0A0N0HLJ3']\n",
      "24/27 Processing ../raw_sequences/Thioamide/Thiostreptamide/Fasta.fa\n",
      "Got results:\n",
      "['A0A0N0HLJ3']\n",
      "25/27 Processing ../raw_sequences/Thioamide/Thioviridamide/Fasta.fa\n",
      "Got results:\n",
      "['T2HWM4']\n",
      "26/27 Processing ../raw_sequences/Unknown/EcYcaO/Fasta.fa\n",
      "Got results:\n",
      "['A0A7H4NME3']\n"
     ]
    }
   ],
   "source": [
    "import os\n",
    "\n",
    "# define the starting directory\n",
    "root_dir = \"../raw_sequences\"\n",
    "\n",
    "# create an empty list to store the file paths\n",
    "fasta_paths = []\n",
    "\n",
    "# use os.walk to iterate through all the subdirectories\n",
    "for dirpath, dirnames, filenames in os.walk(root_dir):\n",
    "    # iterate through the files in the current directory\n",
    "    for file in filenames:\n",
    "        # check if the file name is \"fasta.fa\" (case-insensitive)\n",
    "        if  \"fasta.fa\" in file.lower():\n",
    "            # construct the full path of the file\n",
    "            fasta_path = os.path.join(dirpath, file)\n",
    "            # append the path to the list\n",
    "            fasta_paths.append(fasta_path)\n",
    "\n",
    "db_dir = base_dir+\"db_data/\"\n",
    "db_filename = db_dir+\"my_blast_db\"\n",
    "\n",
    "if not os.path.exists(db_dir):\n",
    "    os.mkdir(db_dir)\n",
    "    !makeblastdb -in {tree_sequences_filename} -dbtype prot -out {db_filename}\n",
    "else:\n",
    "    print(\"db_data folder already exists.\")\n",
    "\n",
    "import subprocess\n",
    "\n",
    "path_accessions = []\n",
    "for i in range(len(fasta_paths)):\n",
    "    fasta_path = fasta_paths[i]\n",
    "    print(f\"{i}/{len(fasta_paths)} Processing {fasta_path}\")\n",
    "    path_parts = fasta_path.split(\"/\")\n",
    "    shortened_path = path_parts[2] + \"_\" + path_parts[3] + ((\"_\" + path_parts[4]) if \"fasta\" not in path_parts[4].lower() else \"\")\n",
    "    output = subprocess.run(f\"blastp -db {db_filename} -query {fasta_path} -outfmt '6 sseqid' -max_target_seqs 1 -evalue 1e-50\", shell=True, capture_output=True)\n",
    "    accession_numbers = output.stdout.decode().strip().split(\"\\n\")\n",
    "    print(f\"Got results:\\n{accession_numbers}\")\n",
    "    path_accessions.append((shortened_path, accession_numbers))\n"
   ]
  },
  {
   "cell_type": "code",
   "execution_count": 121,
   "id": "9eebe563",
   "metadata": {},
   "outputs": [],
   "source": [
    "import itertools\n",
    "\n",
    "def get_similar_sequence_name_if_any(accession,path_accessions):\n",
    "    for path in path_accessions:\n",
    "        if accession in path[1]:\n",
    "            return path[0]\n",
    "    return \"_\"\n",
    "\n",
    "similar_accessions = list(itertools.chain(*[path[1] for path in path_accessions]))\n",
    "\n",
    "sequence_characterised = [\"Y\" if accession in similar_accessions else \"N\" for accession in sequence_accessions]\n",
    "sequence_related_sequence = [get_similar_sequence_name_if_any(accession,path_accessions) for accession in sequence_accessions]"
   ]
  },
  {
   "cell_type": "code",
   "execution_count": 122,
   "id": "12fdd4aa",
   "metadata": {},
   "outputs": [],
   "source": [
    "#Annotate all sequences whether or not they were tridomain\n",
    "E1_sequences = [data[\"Accession_Interpro\"] for data in E1_data]\n",
    "sequence_contains_E1 = [\"Y\" if accession in E1_sequences else \"N\" for accession in sequence_accessions]"
   ]
  },
  {
   "cell_type": "code",
   "execution_count": 124,
   "id": "0f699dac",
   "metadata": {},
   "outputs": [],
   "source": [
    "import csv\n",
    "additional_data_filename = base_dir+\"additional_data.tsv\"\n",
    "headers = ['accession', 'taxa', \"color\", \"related_to_known_seq\",\"related_seq\",\"contains_E1\"]\n",
    "\n",
    "def save_to_tsv(data, headers, file_name):\n",
    "    with open(file_name, mode='w', newline='') as file:\n",
    "        writer = csv.writer(file, delimiter='\\t')\n",
    "        writer.writerow(headers)\n",
    "        for i in range(len(data[0])):\n",
    "            writer.writerow([d[i] for d in data])\n",
    "            \n",
    "save_to_tsv([sequence_accessions,sequence_taxonomy,sequence_colors,sequence_characterised,sequence_related_sequence,sequence_contains_E1],headers,additional_data_filename)"
   ]
  },
  {
   "cell_type": "code",
   "execution_count": null,
   "id": "6c6841d2",
   "metadata": {},
   "outputs": [],
   "source": []
  },
  {
   "cell_type": "code",
   "execution_count": null,
   "id": "b32633ae",
   "metadata": {},
   "outputs": [],
   "source": []
  }
 ],
 "metadata": {
  "kernelspec": {
   "display_name": "Python 3 (ipykernel)",
   "language": "python",
   "name": "python3"
  },
  "language_info": {
   "codemirror_mode": {
    "name": "ipython",
    "version": 3
   },
   "file_extension": ".py",
   "mimetype": "text/x-python",
   "name": "python",
   "nbconvert_exporter": "python",
   "pygments_lexer": "ipython3",
   "version": "3.9.16"
  }
 },
 "nbformat": 4,
 "nbformat_minor": 5
}
