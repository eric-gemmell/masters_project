{
 "cells": [
  {
   "cell_type": "code",
   "execution_count": 3,
   "id": "291fc630",
   "metadata": {},
   "outputs": [],
   "source": [
    "import os\n",
    "import glob\n",
    "from Bio import SeqIO\n",
    "from tqdm.auto import tqdm\n",
    "import pylev\n",
    "import matplotlib.pyplot as plt\n",
    "import numpy as np"
   ]
  },
  {
   "cell_type": "markdown",
   "id": "0b2d6732",
   "metadata": {},
   "source": [
    "## Load all the unique sequences\n",
    "These are the results for searching a database for homologues of:\n",
    "- thioamide\n",
    "- macroamidine\n",
    "- azoline"
   ]
  },
  {
   "cell_type": "code",
   "execution_count": 4,
   "id": "e3a8f0aa",
   "metadata": {},
   "outputs": [
    {
     "data": {
      "application/vnd.jupyter.widget-view+json": {
       "model_id": "1eaffcbad758436ea38f1ccd0306beaf",
       "version_major": 2,
       "version_minor": 0
      },
      "text/plain": [
       "Loading all sequences:   0%|          | 0/24 [00:00<?, ?it/s]"
      ]
     },
     "metadata": {},
     "output_type": "display_data"
    },
    {
     "name": "stdout",
     "output_type": "stream",
     "text": [
      "From 58329 searched sequences 19057 are unique. Loaded in unique_sequences variable.\n"
     ]
    }
   ],
   "source": [
    "seqdump_dirs = glob.glob(\"**/**seqdump.txt\",recursive = True)\n",
    "unique_sequence_ids = []\n",
    "unique_sequences = []\n",
    "i = 0\n",
    "for seqdump_dir in tqdm(seqdump_dirs, desc='Loading all sequences'):\n",
    "    seqrec_iter = SeqIO.parse(seqdump_dir,\"fasta\")\n",
    "    for seqrec in seqrec_iter:\n",
    "        i += 1\n",
    "        if seqrec.id not in unique_sequence_ids:\n",
    "            unique_sequence_ids.append(seqrec.id)\n",
    "            unique_sequences.append(seqrec)\n",
    "print(f'From {i} searched sequences {len(unique_sequences)} are unique. Loaded in unique_sequences variable.')"
   ]
  },
  {
   "cell_type": "markdown",
   "id": "bf90e543",
   "metadata": {},
   "source": [
    "## Truncate sequences for faster processing (top 1000) -> skip for full pipeline"
   ]
  },
  {
   "cell_type": "code",
   "execution_count": 46,
   "id": "16466fc1",
   "metadata": {},
   "outputs": [],
   "source": [
    "unique_sequences = unique_sequences[:100]"
   ]
  },
  {
   "cell_type": "markdown",
   "id": "ce499f01",
   "metadata": {},
   "source": [
    "## Save unique sequences to file for intermediate bash processing"
   ]
  },
  {
   "cell_type": "code",
   "execution_count": 5,
   "id": "6ef4c323",
   "metadata": {},
   "outputs": [
    {
     "data": {
      "text/plain": [
       "19057"
      ]
     },
     "execution_count": 5,
     "metadata": {},
     "output_type": "execute_result"
    }
   ],
   "source": [
    "file_dir = './processed_sequences/'\n",
    "unique_seq_fp = os.path.join(file_dir, \"unique_unaligned_sequences.txt\")\n",
    "SeqIO.write(unique_sequences, unique_seq_fp, \"fasta\")"
   ]
  },
  {
   "cell_type": "markdown",
   "id": "eae0a69a",
   "metadata": {},
   "source": [
    "## Remove Sequences with High Similarity using CD-HIT eg. 90% or 70% identity etc"
   ]
  },
  {
   "cell_type": "code",
   "execution_count": 13,
   "id": "d809bffa",
   "metadata": {
    "scrolled": false
   },
   "outputs": [
    {
     "name": "stdout",
     "output_type": "stream",
     "text": [
      "================================================================\n",
      "Program: CD-HIT, V4.8.1 (+OpenMP), Dec 12 2022, 14:05:50\n",
      "Command: ./external_scripts/cd-hit-v4.8.1-2019-0228/cd-hit -i\n",
      "         ./processed_sequences/unique_unaligned_sequences.txt\n",
      "         -o\n",
      "         ./processed_sequences/unique_filtered_0.5_sequences.txt\n",
      "         -c 0.5 -n 3 -d 0 -T 8 -M 16000\n",
      "\n",
      "Started: Mon Dec 12 18:02:16 2022\n",
      "================================================================\n",
      "                            Output                              \n",
      "----------------------------------------------------------------\n",
      "total seq: 19057\n",
      "longest and shortest : 1344 and 69\n",
      "Total letters: 10313971\n",
      "Sequences have been sorted\n",
      "\n",
      "Approximated minimal memory consumption:\n",
      "Sequence        : 12M\n",
      "Buffer          : 8 X 11M = 88M\n",
      "Table           : 2 X 0M = 0M\n",
      "Miscellaneous   : 0M\n",
      "Total           : 101M\n",
      "\n",
      "Table limit with the given memory limit:\n",
      "Max number of representatives: 4000000\n",
      "Max number of word counting entries: 1987258229\n",
      "\n",
      "# comparing sequences from          0  to       1905\n",
      ".---------- new table with      163 representatives\n",
      "# comparing sequences from       1905  to       3620\n",
      "99.9%---------- new table with      190 representatives\n",
      "# comparing sequences from       3620  to       5163\n",
      "100.0%---------- new table with       79 representatives\n",
      "# comparing sequences from       5163  to       6552\n",
      "99.9%---------- new table with       28 representatives\n",
      "# comparing sequences from       6552  to       7802\n",
      "100.0%---------- new table with       90 representatives\n",
      "# comparing sequences from       7802  to       8927\n",
      "99.9%---------- new table with      124 representatives\n",
      "# comparing sequences from       8927  to       9940\n",
      "99.7%---------- new table with      120 representatives\n",
      "# comparing sequences from       9940  to      10851\n",
      "100.0%---------- new table with      136 representatives\n",
      "# comparing sequences from      10851  to      11671\n",
      "99.7%---------- new table with       92 representatives\n",
      "# comparing sequences from      11671  to      12409\n",
      "99.8%---------- new table with      112 representatives\n",
      "# comparing sequences from      12409  to      13073\n",
      "99.6%---------- new table with       40 representatives\n",
      "# comparing sequences from      13073  to      13671\n",
      "99.8%---------- new table with       90 representatives\n",
      "# comparing sequences from      13671  to      14209\n",
      "99.5%---------- new table with       29 representatives\n",
      "# comparing sequences from      14209  to      14693\n",
      "99.2%---------- new table with       38 representatives\n",
      "# comparing sequences from      14693  to      15129\n",
      "99.6%---------- new table with       29 representatives\n",
      "# comparing sequences from      15129  to      15521\n",
      "99.3%---------- new table with       21 representatives\n",
      "# comparing sequences from      15521  to      15874\n",
      "99.6%---------- new table with       27 representatives\n",
      "# comparing sequences from      15874  to      16192\n",
      "96.7%---------- new table with       23 representatives\n",
      "# comparing sequences from      16192  to      16478\n",
      "99.1%---------- new table with       23 representatives\n",
      "# comparing sequences from      16478  to      16735\n",
      "99.1%---------- new table with       23 representatives\n",
      "# comparing sequences from      16735  to      16967\n",
      "99.8%---------- new table with        9 representatives\n",
      "# comparing sequences from      16967  to      17176\n",
      "100.0%---------- new table with       22 representatives\n",
      "# comparing sequences from      17176  to      17364\n",
      "99.6%---------- new table with       37 representatives\n",
      "# comparing sequences from      17364  to      17533\n",
      "100.0%---------- new table with       21 representatives\n",
      "# comparing sequences from      17533  to      17685\n",
      "99.6%---------- new table with       16 representatives\n",
      "# comparing sequences from      17685  to      17822\n",
      "........---------- new table with       33 representatives\n",
      "# comparing sequences from      17822  to      17945\n",
      "99.9%---------- new table with       12 representatives\n",
      "# comparing sequences from      17945  to      18056\n",
      "99.0%---------- new table with       13 representatives\n",
      "# comparing sequences from      18056  to      18156\n",
      "....---------- new table with       15 representatives\n",
      "# comparing sequences from      18156  to      19057\n",
      "..---------- new table with       55 representatives\n",
      "\n",
      "    19057  finished       1710  clusters\n",
      "\n",
      "Approximated maximum memory consumption: 103M\n",
      "writing new database\n",
      "writing clustering information\n",
      "program completed !\n",
      "\n",
      "Total CPU time 321.78\n",
      "Started with 19057 sequences, after removing those with >50.0% identity, we have 1710 sequences!\n"
     ]
    }
   ],
   "source": [
    "identity_percentage = 0.5\n",
    "filtered_by_identity_unique_seq_fp = os.path.join(file_dir, f\"unique_filtered_{identity_percentage}_sequences.txt\")\n",
    "\n",
    "!./external_scripts/cd-hit-v4.8.1-2019-0228/cd-hit -i $unique_seq_fp -o $filtered_by_identity_unique_seq_fp -c $identity_percentage -n 3 -d 0 -T 8 -M 16000\n",
    "\n",
    "num_sequences = len([seq.id for seq in SeqIO.parse(filtered_by_identity_unique_seq_fp,\"fasta\")])\n",
    "print(f\"Started with {len(unique_sequences)} sequences, after removing those with >{identity_percentage*100}% identity, we have {num_sequences} sequences!\")"
   ]
  },
  {
   "cell_type": "markdown",
   "id": "483b8da6",
   "metadata": {},
   "source": [
    "## Compute aligned sequences using mafft"
   ]
  },
  {
   "cell_type": "code",
   "execution_count": 15,
   "id": "059f46b1",
   "metadata": {
    "scrolled": false
   },
   "outputs": [
    {
     "name": "stdout",
     "output_type": "stream",
     "text": [
      "nthread = 0\n",
      "nthreadpair = 0\n",
      "nthreadtb = 0\n",
      "ppenalty_ex = 0\n",
      "stacksize: 8192 kb\n",
      "rescale = 1\n",
      "Gap Penalty = -1.53, +0.00, +0.00\n",
      "\n",
      "\n",
      "\n",
      "Making a distance matrix ..\n",
      "\n",
      "There are 16 ambiguous characters.\n",
      " 1701 / 1710\n",
      "done.\n",
      "\n",
      "Constructing a UPGMA tree (efffree=0) ... \n",
      " 1700 / 1710\n",
      "done.\n",
      "\n",
      "Progressive alignment 1/2... \n",
      "STEP   228 / 1709 \n",
      "Reallocating..done. *alloclen = 4050\n",
      "STEP   280 / 1709 \n",
      "Reallocating..done. *alloclen = 5241\n",
      "STEP  1201 / 1709 \n",
      "Reallocating..done. *alloclen = 8522\n",
      "STEP  1301 / 1709 \n",
      "Reallocating..done. *alloclen = 9613\n",
      "STEP  1401 / 1709 \n",
      "Reallocating..done. *alloclen = 13422\n",
      "STEP  1601 / 1709 \n",
      "Reallocating..done. *alloclen = 14687\n",
      "STEP  1701 / 1709  h\n",
      "done.\n",
      "\n",
      "Making a distance matrix from msa.. \n",
      " 1700 / 1710\n",
      "done.\n",
      "\n",
      "Constructing a UPGMA tree (efffree=1) ... \n",
      " 1700 / 1710\n",
      "done.\n",
      "\n",
      "Progressive alignment 2/2... \n",
      "STEP   801 / 1709 \n",
      "Reallocating..done. *alloclen = 3872\n",
      "STEP  1501 / 1709 \n",
      "Reallocating..done. *alloclen = 4953\n",
      "STEP  1601 / 1709 \n",
      "Reallocating..done. *alloclen = 6225\n",
      "\n",
      "Reallocating..done. *alloclen = 8363\n",
      "\n",
      "Reallocating..done. *alloclen = 11172\n",
      "\n",
      "Reallocating..done. *alloclen = 14584\n",
      "STEP  1701 / 1709  h\n",
      "done.\n",
      "\n",
      "disttbfast (aa) Version 7.475\n",
      "alg=A, model=BLOSUM62, 1.53, -0.00, -0.00, noshift, amax=0.0\n",
      "0 thread(s)\n",
      "\n",
      "\n",
      "Strategy:\n",
      " FFT-NS-2 (Fast but rough)\n",
      " Progressive method (guide trees were built 2 times.)\n",
      "\n",
      "If unsure which option to use, try 'mafft --auto input > output'.\n",
      "For more information, see 'mafft --help', 'mafft --man' and the mafft page.\n",
      "\n",
      "The default gap scoring scheme has been changed in version 7.110 (2013 Oct).\n",
      "It tends to insert more gaps into gap-rich regions than previous versions.\n",
      "To disable this change, add the --leavegappyregion option.\n",
      "\n"
     ]
    }
   ],
   "source": [
    "\n",
    "aligned_unique_seq_fp = os.path.join(file_dir, f\"aligned_{identity_percentage}_identity_sequences.txt\")\n",
    "\n",
    "!mafft --auto --distout $filtered_by_identity_unique_seq_fp > $aligned_unique_seq_fp "
   ]
  },
  {
   "cell_type": "code",
   "execution_count": 16,
   "id": "e0dadfd9",
   "metadata": {},
   "outputs": [],
   "source": [
    "aligned_sequences = [seqrec for seqrec in SeqIO.parse(aligned_unique_seq_fp,\"fasta\")]"
   ]
  },
  {
   "cell_type": "markdown",
   "id": "d1592ee0",
   "metadata": {},
   "source": [
    "## Find redundant sequences to save compute"
   ]
  },
  {
   "cell_type": "code",
   "execution_count": 68,
   "id": "3e7af909",
   "metadata": {},
   "outputs": [
    {
     "name": "stdout",
     "output_type": "stream",
     "text": [
      "Sequence identity test between\n",
      "seq 1: --------------------------------------------------------------------------------------------------------------------------------------------------------------------------------------------------------...\n",
      "and\n",
      "seq 2: --------------------------------------------------------------------------------------------------------------------------------------------------------------------------------------------------------...\n",
      "Identity similarity = 0.9601769911504425\n"
     ]
    }
   ],
   "source": [
    "def pairwise_sequence_identity(seq_rec_1, seq_rec_2):\n",
    "    seq_1 = str(seq_rec_1.seq)\n",
    "    seq_2 = str(seq_rec_2.seq)\n",
    "    \n",
    "    num_matching = 0\n",
    "    length = 0\n",
    "    for i in range(len(seq_1)):\n",
    "        if seq_1[i] == '-' and seq_2[i] == '-':\n",
    "            continue\n",
    "        if seq_1[i] == seq_2[i]:\n",
    "            num_matching += 1\n",
    "        length += 1\n",
    "    return num_matching/length\n",
    "seq_1, seq_2 = aligned_sequences[:2]\n",
    "print(f'Sequence identity test between\\nseq 1: {str(seq_1.seq)[:200]}...\\nand\\nseq 2: {str(seq_2.seq)[:200]}...')\n",
    "identity_similarity = pairwise_sequence_identity(seq_1, seq_2)\n",
    "print(f'Identity similarity = {identity_similarity}')"
   ]
  },
  {
   "cell_type": "code",
   "execution_count": 69,
   "id": "7576ee47",
   "metadata": {
    "collapsed": true
   },
   "outputs": [
    {
     "name": "stderr",
     "output_type": "stream",
     "text": [
      "Filtering sequences, found 32 redundant:   0%|          | 36/19457 [06:08<55:11:27, 10.23s/it]\n"
     ]
    },
    {
     "ename": "KeyboardInterrupt",
     "evalue": "",
     "output_type": "error",
     "traceback": [
      "\u001b[0;31m---------------------------------------------------------------------------\u001b[0m",
      "\u001b[0;31mKeyboardInterrupt\u001b[0m                         Traceback (most recent call last)",
      "Cell \u001b[0;32mIn [69], line 10\u001b[0m\n\u001b[1;32m      8\u001b[0m comparison_sequences \u001b[38;5;241m=\u001b[39m [(seq, j) \u001b[38;5;28;01mfor\u001b[39;00m j, seq \u001b[38;5;129;01min\u001b[39;00m \u001b[38;5;28menumerate\u001b[39m(aligned_sequences) \u001b[38;5;28;01mif\u001b[39;00m j \u001b[38;5;241m!=\u001b[39m i \u001b[38;5;129;01mand\u001b[39;00m j \u001b[38;5;129;01mnot\u001b[39;00m \u001b[38;5;129;01min\u001b[39;00m redundant_sequences]\n\u001b[1;32m      9\u001b[0m \u001b[38;5;28;01mfor\u001b[39;00m comp_seq, comp_seq_idx \u001b[38;5;129;01min\u001b[39;00m comparison_sequences:\n\u001b[0;32m---> 10\u001b[0m     identity_similarity \u001b[38;5;241m=\u001b[39m \u001b[43mpairwise_sequence_identity\u001b[49m\u001b[43m(\u001b[49m\u001b[43msequence\u001b[49m\u001b[43m,\u001b[49m\u001b[43m \u001b[49m\u001b[43mcomp_seq\u001b[49m\u001b[43m)\u001b[49m\n\u001b[1;32m     11\u001b[0m     \u001b[38;5;28;01mif\u001b[39;00m identity_similarity \u001b[38;5;241m>\u001b[39m threshold: \u001b[38;5;66;03m# if above threshold, then flag as redundant\u001b[39;00m\n\u001b[1;32m     12\u001b[0m         redundant_sequences\u001b[38;5;241m.\u001b[39madd(comp_seq_idx)\n",
      "Cell \u001b[0;32mIn [68], line 8\u001b[0m, in \u001b[0;36mpairwise_sequence_identity\u001b[0;34m(seq_rec_1, seq_rec_2)\u001b[0m\n\u001b[1;32m      6\u001b[0m length \u001b[38;5;241m=\u001b[39m \u001b[38;5;241m0\u001b[39m\n\u001b[1;32m      7\u001b[0m \u001b[38;5;28;01mfor\u001b[39;00m i \u001b[38;5;129;01min\u001b[39;00m \u001b[38;5;28mrange\u001b[39m(\u001b[38;5;28mlen\u001b[39m(seq_1)):\n\u001b[0;32m----> 8\u001b[0m     \u001b[38;5;28;01mif\u001b[39;00m seq_1[i] \u001b[38;5;241m==\u001b[39m \u001b[38;5;124m'\u001b[39m\u001b[38;5;124m-\u001b[39m\u001b[38;5;124m'\u001b[39m \u001b[38;5;129;01mand\u001b[39;00m \u001b[43mseq_2\u001b[49m\u001b[43m[\u001b[49m\u001b[43mi\u001b[49m\u001b[43m]\u001b[49m \u001b[38;5;241m==\u001b[39m \u001b[38;5;124m'\u001b[39m\u001b[38;5;124m-\u001b[39m\u001b[38;5;124m'\u001b[39m:\n\u001b[1;32m      9\u001b[0m         \u001b[38;5;28;01mcontinue\u001b[39;00m\n\u001b[1;32m     10\u001b[0m     \u001b[38;5;28;01mif\u001b[39;00m seq_1[i] \u001b[38;5;241m==\u001b[39m seq_2[i]:\n",
      "\u001b[0;31mKeyboardInterrupt\u001b[0m: "
     ]
    }
   ],
   "source": [
    "redundant_sequences = set()\n",
    "threshold = 0.7 # anything above 70% identity to the current seq will be filtered out\n",
    "\n",
    "pbar = tqdm(enumerate(aligned_sequences), desc='Filtering sequences', total=len(aligned_sequences))\n",
    "for i, sequence in pbar:\n",
    "    if i in redundant_sequences:\n",
    "        continue\n",
    "    comparison_sequences = [(seq, j) for j, seq in enumerate(aligned_sequences) if j != i and j not in redundant_sequences]\n",
    "    for comp_seq, comp_seq_idx in comparison_sequences:\n",
    "        identity_similarity = pairwise_sequence_identity(sequence, comp_seq)\n",
    "        if identity_similarity > threshold: # if above threshold, then flag as redundant\n",
    "            redundant_sequences.add(comp_seq_idx)\n",
    "            pbar.set_description(f'Filtering sequences, found {len(redundant_sequences)} redundant')\n",
    "#             print(f'Found {i} has redundant sequence with {identity_similarity*100:.2f}% similarity.')\n",
    "#             print(f'We have {len(redundant_sequences)} redundant sequences.')"
   ]
  },
  {
   "cell_type": "code",
   "execution_count": 57,
   "id": "9d2a4d9d",
   "metadata": {},
   "outputs": [],
   "source": [
    "filtered_sequences = [seq for i, seq in enumerate(aligned_sequences) if i not in redundant_sequences]"
   ]
  },
  {
   "cell_type": "code",
   "execution_count": 62,
   "id": "8caad357",
   "metadata": {},
   "outputs": [
    {
     "name": "stderr",
     "output_type": "stream",
     "text": [
      "100%|██████████| 45/45 [00:00<00:00, 132.32it/s]\n"
     ]
    },
    {
     "data": {
      "text/plain": [
       "<matplotlib.colorbar.Colorbar at 0x7f32178a71f0>"
      ]
     },
     "execution_count": 62,
     "metadata": {},
     "output_type": "execute_result"
    },
    {
     "data": {
      "image/png": "[encoded data removed]",
      "text/plain": [
       "<Figure size 480x480 with 2 Axes>"
      ]
     },
     "metadata": {},
     "output_type": "display_data"
    }
   ],
   "source": [
    "similarity_matrix = []\n",
    "\n",
    "for i in tqdm(range(len(filtered_sequences))):\n",
    "    row = []\n",
    "    for j in range(len(filtered_sequences)):\n",
    "        similarity = pairwise_sequence_identity(filtered_sequences[i], filtered_sequences[j])\n",
    "        row.append(similarity)\n",
    "    similarity_matrix.append(row)\n",
    "\n",
    "m = np.array(similarity_matrix)\n",
    "plt.matshow(-m)\n",
    "plt.colorbar()"
   ]
  },
  {
   "cell_type": "code",
   "execution_count": 54,
   "id": "51f645d1",
   "metadata": {},
   "outputs": [
    {
     "data": {
      "text/plain": [
       "{1,\n",
       " 3,\n",
       " 4,\n",
       " 6,\n",
       " 7,\n",
       " 8,\n",
       " 9,\n",
       " 10,\n",
       " 12,\n",
       " 13,\n",
       " 14,\n",
       " 15,\n",
       " 17,\n",
       " 18,\n",
       " 21,\n",
       " 22,\n",
       " 23,\n",
       " 24,\n",
       " 26,\n",
       " 27,\n",
       " 28,\n",
       " 29,\n",
       " 30,\n",
       " 31,\n",
       " 32,\n",
       " 33,\n",
       " 34,\n",
       " 35,\n",
       " 39,\n",
       " 41,\n",
       " 42,\n",
       " 44,\n",
       " 48,\n",
       " 49,\n",
       " 50,\n",
       " 51,\n",
       " 52,\n",
       " 55,\n",
       " 56,\n",
       " 57,\n",
       " 58,\n",
       " 62,\n",
       " 63,\n",
       " 64,\n",
       " 65,\n",
       " 67,\n",
       " 70,\n",
       " 72,\n",
       " 81,\n",
       " 85,\n",
       " 91,\n",
       " 92,\n",
       " 96,\n",
       " 97,\n",
       " 98}"
      ]
     },
     "execution_count": 54,
     "metadata": {},
     "output_type": "execute_result"
    }
   ],
   "source": [
    "redundant_sequences"
   ]
  },
  {
   "cell_type": "code",
   "execution_count": 30,
   "id": "45c0319b",
   "metadata": {},
   "outputs": [
    {
     "data": {
      "text/plain": [
       "999"
      ]
     },
     "execution_count": 30,
     "metadata": {},
     "output_type": "execute_result"
    }
   ],
   "source": [
    "len(aligned_sequences)"
   ]
  },
  {
   "cell_type": "code",
   "execution_count": null,
   "id": "4a52df9c",
   "metadata": {},
   "outputs": [],
   "source": []
  }
 ],
 "metadata": {
  "kernelspec": {
   "display_name": "Python 3 (ipykernel)",
   "language": "python",
   "name": "python3"
  },
  "language_info": {
   "codemirror_mode": {
    "name": "ipython",
    "version": 3
   },
   "file_extension": ".py",
   "mimetype": "text/x-python",
   "name": "python",
   "nbconvert_exporter": "python",
   "pygments_lexer": "ipython3",
   "version": "3.9.15"
  }
 },
 "nbformat": 4,
 "nbformat_minor": 5
}
